{
 "cells": [
  {
   "cell_type": "code",
   "execution_count": 1,
   "metadata": {
    "executionInfo": {
     "elapsed": 538,
     "status": "ok",
     "timestamp": 1640177826935,
     "user": {
      "displayName": "Mateo Forjan",
      "photoUrl": "https://lh3.googleusercontent.com/a/default-user=s64",
      "userId": "06372541481818120502"
     },
     "user_tz": -60
    },
    "id": "aE_Iiw510I43"
   },
   "outputs": [],
   "source": [
    "import cv2\n",
    "import numpy as np\n",
    "import matplotlib.pyplot as plt\n",
    "import pandas as pd"
   ]
  },
  {
   "cell_type": "code",
   "execution_count": 2,
   "metadata": {
    "executionInfo": {
     "elapsed": 238,
     "status": "ok",
     "timestamp": 1640177828217,
     "user": {
      "displayName": "Mateo Forjan",
      "photoUrl": "https://lh3.googleusercontent.com/a/default-user=s64",
      "userId": "06372541481818120502"
     },
     "user_tz": -60
    },
    "id": "NsihaEkD3X1c"
   },
   "outputs": [],
   "source": [
    "pd.set_option('display.max_columns', None)"
   ]
  },
  {
   "cell_type": "code",
   "execution_count": 3,
   "metadata": {
    "colab": {
     "base_uri": "https://localhost:8080/"
    },
    "executionInfo": {
     "elapsed": 16831,
     "status": "ok",
     "timestamp": 1640172368792,
     "user": {
      "displayName": "Mateo Forjan",
      "photoUrl": "https://lh3.googleusercontent.com/a/default-user=s64",
      "userId": "06372541481818120502"
     },
     "user_tz": -60
    },
    "id": "h1ZEp_7K3ktL",
    "outputId": "e7342e92-df8b-4230-8211-48c67fc60c19"
   },
   "outputs": [
    {
     "name": "stdout",
     "output_type": "stream",
     "text": [
      "Mounted at /content/gdrive\n"
     ]
    }
   ],
   "source": [
    "from google.colab import drive\n",
    "drive.mount('/content/gdrive')"
   ]
  },
  {
   "cell_type": "code",
   "execution_count": 3,
   "metadata": {
    "executionInfo": {
     "elapsed": 3196,
     "status": "ok",
     "timestamp": 1640177833793,
     "user": {
      "displayName": "Mateo Forjan",
      "photoUrl": "https://lh3.googleusercontent.com/a/default-user=s64",
      "userId": "06372541481818120502"
     },
     "user_tz": -60
    },
    "id": "m88BRm8Y4epz"
   },
   "outputs": [],
   "source": [
    "# df = pd.read_csv('training.csv')\n",
    "df = pd.read_csv('/content/gdrive/MyDrive/Kaggle/training.csv')"
   ]
  },
  {
   "cell_type": "code",
   "execution_count": 4,
   "metadata": {
    "colab": {
     "base_uri": "https://localhost:8080/"
    },
    "executionInfo": {
     "elapsed": 231,
     "status": "ok",
     "timestamp": 1640177835010,
     "user": {
      "displayName": "Mateo Forjan",
      "photoUrl": "https://lh3.googleusercontent.com/a/default-user=s64",
      "userId": "06372541481818120502"
     },
     "user_tz": -60
    },
    "id": "ZkGmoiGy4ukK",
    "outputId": "53275a0e-0fd3-44f1-d805-12b2f8f53d24"
   },
   "outputs": [
    {
     "name": "stdout",
     "output_type": "stream",
     "text": [
      "<class 'pandas.core.frame.DataFrame'>\n",
      "RangeIndex: 7049 entries, 0 to 7048\n",
      "Data columns (total 31 columns):\n",
      " #   Column                     Non-Null Count  Dtype  \n",
      "---  ------                     --------------  -----  \n",
      " 0   left_eye_center_x          7039 non-null   float64\n",
      " 1   left_eye_center_y          7039 non-null   float64\n",
      " 2   right_eye_center_x         7036 non-null   float64\n",
      " 3   right_eye_center_y         7036 non-null   float64\n",
      " 4   left_eye_inner_corner_x    2271 non-null   float64\n",
      " 5   left_eye_inner_corner_y    2271 non-null   float64\n",
      " 6   left_eye_outer_corner_x    2267 non-null   float64\n",
      " 7   left_eye_outer_corner_y    2267 non-null   float64\n",
      " 8   right_eye_inner_corner_x   2268 non-null   float64\n",
      " 9   right_eye_inner_corner_y   2268 non-null   float64\n",
      " 10  right_eye_outer_corner_x   2268 non-null   float64\n",
      " 11  right_eye_outer_corner_y   2268 non-null   float64\n",
      " 12  left_eyebrow_inner_end_x   2270 non-null   float64\n",
      " 13  left_eyebrow_inner_end_y   2270 non-null   float64\n",
      " 14  left_eyebrow_outer_end_x   2225 non-null   float64\n",
      " 15  left_eyebrow_outer_end_y   2225 non-null   float64\n",
      " 16  right_eyebrow_inner_end_x  2270 non-null   float64\n",
      " 17  right_eyebrow_inner_end_y  2270 non-null   float64\n",
      " 18  right_eyebrow_outer_end_x  2236 non-null   float64\n",
      " 19  right_eyebrow_outer_end_y  2236 non-null   float64\n",
      " 20  nose_tip_x                 7049 non-null   float64\n",
      " 21  nose_tip_y                 7049 non-null   float64\n",
      " 22  mouth_left_corner_x        2269 non-null   float64\n",
      " 23  mouth_left_corner_y        2269 non-null   float64\n",
      " 24  mouth_right_corner_x       2270 non-null   float64\n",
      " 25  mouth_right_corner_y       2270 non-null   float64\n",
      " 26  mouth_center_top_lip_x     2275 non-null   float64\n",
      " 27  mouth_center_top_lip_y     2275 non-null   float64\n",
      " 28  mouth_center_bottom_lip_x  7016 non-null   float64\n",
      " 29  mouth_center_bottom_lip_y  7016 non-null   float64\n",
      " 30  Image                      7049 non-null   object \n",
      "dtypes: float64(30), object(1)\n",
      "memory usage: 1.7+ MB\n"
     ]
    }
   ],
   "source": [
    "df.info()"
   ]
  },
  {
   "cell_type": "code",
   "execution_count": 5,
   "metadata": {
    "executionInfo": {
     "elapsed": 216,
     "status": "ok",
     "timestamp": 1640177836402,
     "user": {
      "displayName": "Mateo Forjan",
      "photoUrl": "https://lh3.googleusercontent.com/a/default-user=s64",
      "userId": "06372541481818120502"
     },
     "user_tz": -60
    },
    "id": "U0doFeEI5GAB"
   },
   "outputs": [],
   "source": [
    "Images = df['Image']"
   ]
  },
  {
   "cell_type": "code",
   "execution_count": 6,
   "metadata": {
    "executionInfo": {
     "elapsed": 8188,
     "status": "ok",
     "timestamp": 1640177844945,
     "user": {
      "displayName": "Mateo Forjan",
      "photoUrl": "https://lh3.googleusercontent.com/a/default-user=s64",
      "userId": "06372541481818120502"
     },
     "user_tz": -60
    },
    "id": "BJmKLpPR5M4p"
   },
   "outputs": [],
   "source": [
    "Images = Images.apply(lambda x:np.array(x.split(' ')))"
   ]
  },
  {
   "cell_type": "code",
   "execution_count": 7,
   "metadata": {
    "colab": {
     "base_uri": "https://localhost:8080/"
    },
    "executionInfo": {
     "elapsed": 10,
     "status": "ok",
     "timestamp": 1640177844945,
     "user": {
      "displayName": "Mateo Forjan",
      "photoUrl": "https://lh3.googleusercontent.com/a/default-user=s64",
      "userId": "06372541481818120502"
     },
     "user_tz": -60
    },
    "id": "53iitLZZ5OJZ",
    "outputId": "130ea75d-34a7-48a7-9b30-834668190f4b"
   },
   "outputs": [
    {
     "data": {
      "text/plain": [
       "0       [238, 236, 237, 238, 240, 240, 239, 241, 241, ...\n",
       "1       [219, 215, 204, 196, 204, 211, 212, 200, 180, ...\n",
       "2       [144, 142, 159, 180, 188, 188, 184, 180, 167, ...\n",
       "3       [193, 192, 193, 194, 194, 194, 193, 192, 168, ...\n",
       "4       [147, 148, 160, 196, 215, 214, 216, 217, 219, ...\n",
       "                              ...                        \n",
       "7044    [71, 74, 85, 105, 116, 128, 139, 150, 170, 187...\n",
       "7045    [60, 60, 62, 57, 55, 51, 49, 48, 50, 53, 56, 5...\n",
       "7046    [74, 74, 74, 78, 79, 79, 79, 81, 77, 78, 80, 7...\n",
       "7047    [254, 254, 254, 254, 254, 238, 193, 145, 121, ...\n",
       "7048    [53, 62, 67, 76, 86, 91, 97, 105, 105, 106, 10...\n",
       "Name: Image, Length: 7049, dtype: object"
      ]
     },
     "execution_count": 7,
     "metadata": {},
     "output_type": "execute_result"
    }
   ],
   "source": [
    "Images"
   ]
  },
  {
   "cell_type": "code",
   "execution_count": 8,
   "metadata": {
    "executionInfo": {
     "elapsed": 41904,
     "status": "ok",
     "timestamp": 1640177886840,
     "user": {
      "displayName": "Mateo Forjan",
      "photoUrl": "https://lh3.googleusercontent.com/a/default-user=s64",
      "userId": "06372541481818120502"
     },
     "user_tz": -60
    },
    "id": "ooXa8cHJ5RBJ"
   },
   "outputs": [],
   "source": [
    "Images =Images.apply(lambda x:x.astype(np.uint8))"
   ]
  },
  {
   "cell_type": "code",
   "execution_count": 9,
   "metadata": {
    "colab": {
     "base_uri": "https://localhost:8080/"
    },
    "executionInfo": {
     "elapsed": 35,
     "status": "ok",
     "timestamp": 1640177886841,
     "user": {
      "displayName": "Mateo Forjan",
      "photoUrl": "https://lh3.googleusercontent.com/a/default-user=s64",
      "userId": "06372541481818120502"
     },
     "user_tz": -60
    },
    "id": "1EN1kL4v5SOp",
    "outputId": "d16b7a71-f7c6-4d2a-d20a-065875423386"
   },
   "outputs": [
    {
     "data": {
      "text/plain": [
       "numpy.uint8"
      ]
     },
     "execution_count": 9,
     "metadata": {},
     "output_type": "execute_result"
    }
   ],
   "source": [
    "type(Images[0][0])"
   ]
  },
  {
   "cell_type": "code",
   "execution_count": 10,
   "metadata": {
    "colab": {
     "base_uri": "https://localhost:8080/"
    },
    "executionInfo": {
     "elapsed": 29,
     "status": "ok",
     "timestamp": 1640177886841,
     "user": {
      "displayName": "Mateo Forjan",
      "photoUrl": "https://lh3.googleusercontent.com/a/default-user=s64",
      "userId": "06372541481818120502"
     },
     "user_tz": -60
    },
    "id": "vtOd7roJ5Y_C",
    "outputId": "7b0cf8c3-a1df-4012-df11-f01ac61d4e67"
   },
   "outputs": [
    {
     "data": {
      "text/plain": [
       "0       [238, 236, 237, 238, 240, 240, 239, 241, 241, ...\n",
       "1       [219, 215, 204, 196, 204, 211, 212, 200, 180, ...\n",
       "2       [144, 142, 159, 180, 188, 188, 184, 180, 167, ...\n",
       "3       [193, 192, 193, 194, 194, 194, 193, 192, 168, ...\n",
       "4       [147, 148, 160, 196, 215, 214, 216, 217, 219, ...\n",
       "                              ...                        \n",
       "7044    [71, 74, 85, 105, 116, 128, 139, 150, 170, 187...\n",
       "7045    [60, 60, 62, 57, 55, 51, 49, 48, 50, 53, 56, 5...\n",
       "7046    [74, 74, 74, 78, 79, 79, 79, 81, 77, 78, 80, 7...\n",
       "7047    [254, 254, 254, 254, 254, 238, 193, 145, 121, ...\n",
       "7048    [53, 62, 67, 76, 86, 91, 97, 105, 105, 106, 10...\n",
       "Name: Image, Length: 7049, dtype: object"
      ]
     },
     "execution_count": 10,
     "metadata": {},
     "output_type": "execute_result"
    }
   ],
   "source": [
    "Images"
   ]
  },
  {
   "cell_type": "code",
   "execution_count": 11,
   "metadata": {
    "executionInfo": {
     "elapsed": 735,
     "status": "ok",
     "timestamp": 1640177887555,
     "user": {
      "displayName": "Mateo Forjan",
      "photoUrl": "https://lh3.googleusercontent.com/a/default-user=s64",
      "userId": "06372541481818120502"
     },
     "user_tz": -60
    },
    "id": "sZ5rf2ut5ayx"
   },
   "outputs": [],
   "source": [
    "Images = Images/255"
   ]
  },
  {
   "cell_type": "code",
   "execution_count": 12,
   "metadata": {
    "executionInfo": {
     "elapsed": 11,
     "status": "ok",
     "timestamp": 1640177887557,
     "user": {
      "displayName": "Mateo Forjan",
      "photoUrl": "https://lh3.googleusercontent.com/a/default-user=s64",
      "userId": "06372541481818120502"
     },
     "user_tz": -60
    },
    "id": "2_P_i8Wk5cX5"
   },
   "outputs": [],
   "source": [
    "def visualize(i):\n",
    "    img = Images[i].reshape(96,96)\n",
    "    plt.imshow(img,cmap='gray')\n",
    "    \n",
    "    x_nose = df['nose_tip_x'][i]\n",
    "    y_nose = df['nose_tip_y'][i]\n",
    "    plt.plot(x_nose,y_nose, 'x',color='w',markersize=15)\n",
    "    \n",
    "    x_left_eye = df['left_eye_center_x'][i]\n",
    "    y_left_eye = df['left_eye_center_y'][i]\n",
    "    plt.plot(x_left_eye,y_left_eye, 'x',color='w',markersize=15)\n",
    "    \n",
    "    x_right_eye = df['right_eye_center_x'][i]\n",
    "    y_right_eye = df['right_eye_center_y'][i]\n",
    "    plt.plot(x_right_eye,y_right_eye, 'x',color='w',markersize=15)"
   ]
  },
  {
   "cell_type": "code",
   "execution_count": 13,
   "metadata": {
    "colab": {
     "base_uri": "https://localhost:8080/",
     "height": 268
    },
    "executionInfo": {
     "elapsed": 8,
     "status": "ok",
     "timestamp": 1640177887557,
     "user": {
      "displayName": "Mateo Forjan",
      "photoUrl": "https://lh3.googleusercontent.com/a/default-user=s64",
      "userId": "06372541481818120502"
     },
     "user_tz": -60
    },
    "id": "CmlvNWF55dUS",
    "outputId": "fed1265f-e3ec-4782-b7a5-258bc13c56f1"
   },
   "outputs": [
    {
     "data": {
      "image/png": "[encoded data removed]",
      "text/plain": [
       "<Figure size 432x288 with 1 Axes>"
      ]
     },
     "metadata": {
      "needs_background": "light"
     },
     "output_type": "display_data"
    }
   ],
   "source": [
    "visualize(558)"
   ]
  },
  {
   "cell_type": "code",
   "execution_count": 14,
   "metadata": {
    "executionInfo": {
     "elapsed": 307,
     "status": "ok",
     "timestamp": 1640177887860,
     "user": {
      "displayName": "Mateo Forjan",
      "photoUrl": "https://lh3.googleusercontent.com/a/default-user=s64",
      "userId": "06372541481818120502"
     },
     "user_tz": -60
    },
    "id": "BWwIjO4K5eXJ"
   },
   "outputs": [],
   "source": [
    "Labels = df.drop(columns='Image')"
   ]
  },
  {
   "cell_type": "code",
   "execution_count": 15,
   "metadata": {
    "colab": {
     "base_uri": "https://localhost:8080/",
     "height": 488
    },
    "executionInfo": {
     "elapsed": 3,
     "status": "ok",
     "timestamp": 1640177887860,
     "user": {
      "displayName": "Mateo Forjan",
      "photoUrl": "https://lh3.googleusercontent.com/a/default-user=s64",
      "userId": "06372541481818120502"
     },
     "user_tz": -60
    },
    "id": "lz1_ILUV5fyB",
    "outputId": "506f05a6-704d-4eb6-c266-8882860fbabf"
   },
   "outputs": [
    {
     "data": {
      "text/html": [
       "\n",
       "  <div id=\"df-c5686bc6-8fd8-4af6-b7e1-583ba1e789d5\">\n",
       "    <div class=\"colab-df-container\">\n",
       "      <div>\n",
       "<style scoped>\n",
       "    .dataframe tbody tr th:only-of-type {\n",
       "        vertical-align: middle;\n",
       "    }\n",
       "\n",
       "    .dataframe tbody tr th {\n",
       "        vertical-align: top;\n",
       "    }\n",
       "\n",
       "    .dataframe thead th {\n",
       "        text-align: right;\n",
       "    }\n",
       "</style>\n",
       "<table border=\"1\" class=\"dataframe\">\n",
       "  <thead>\n",
       "    <tr style=\"text-align: right;\">\n",
       "      <th></th>\n",
       "      <th>left_eye_center_x</th>\n",
       "      <th>left_eye_center_y</th>\n",
       "      <th>right_eye_center_x</th>\n",
       "      <th>right_eye_center_y</th>\n",
       "      <th>left_eye_inner_corner_x</th>\n",
       "      <th>left_eye_inner_corner_y</th>\n",
       "      <th>left_eye_outer_corner_x</th>\n",
       "      <th>left_eye_outer_corner_y</th>\n",
       "      <th>right_eye_inner_corner_x</th>\n",
       "      <th>right_eye_inner_corner_y</th>\n",
       "      <th>right_eye_outer_corner_x</th>\n",
       "      <th>right_eye_outer_corner_y</th>\n",
       "      <th>left_eyebrow_inner_end_x</th>\n",
       "      <th>left_eyebrow_inner_end_y</th>\n",
       "      <th>left_eyebrow_outer_end_x</th>\n",
       "      <th>left_eyebrow_outer_end_y</th>\n",
       "      <th>right_eyebrow_inner_end_x</th>\n",
       "      <th>right_eyebrow_inner_end_y</th>\n",
       "      <th>right_eyebrow_outer_end_x</th>\n",
       "      <th>right_eyebrow_outer_end_y</th>\n",
       "      <th>nose_tip_x</th>\n",
       "      <th>nose_tip_y</th>\n",
       "      <th>mouth_left_corner_x</th>\n",
       "      <th>mouth_left_corner_y</th>\n",
       "      <th>mouth_right_corner_x</th>\n",
       "      <th>mouth_right_corner_y</th>\n",
       "      <th>mouth_center_top_lip_x</th>\n",
       "      <th>mouth_center_top_lip_y</th>\n",
       "      <th>mouth_center_bottom_lip_x</th>\n",
       "      <th>mouth_center_bottom_lip_y</th>\n",
       "    </tr>\n",
       "  </thead>\n",
       "  <tbody>\n",
       "    <tr>\n",
       "      <th>0</th>\n",
       "      <td>66.033564</td>\n",
       "      <td>39.002274</td>\n",
       "      <td>30.227008</td>\n",
       "      <td>36.421678</td>\n",
       "      <td>59.582075</td>\n",
       "      <td>39.647423</td>\n",
       "      <td>73.130346</td>\n",
       "      <td>39.969997</td>\n",
       "      <td>36.356571</td>\n",
       "      <td>37.389402</td>\n",
       "      <td>23.452872</td>\n",
       "      <td>37.389402</td>\n",
       "      <td>56.953263</td>\n",
       "      <td>29.033648</td>\n",
       "      <td>80.227128</td>\n",
       "      <td>32.228138</td>\n",
       "      <td>40.227609</td>\n",
       "      <td>29.002322</td>\n",
       "      <td>16.356379</td>\n",
       "      <td>29.647471</td>\n",
       "      <td>44.420571</td>\n",
       "      <td>57.066803</td>\n",
       "      <td>61.195308</td>\n",
       "      <td>79.970165</td>\n",
       "      <td>28.614496</td>\n",
       "      <td>77.388992</td>\n",
       "      <td>43.312602</td>\n",
       "      <td>72.935459</td>\n",
       "      <td>43.130707</td>\n",
       "      <td>84.485774</td>\n",
       "    </tr>\n",
       "    <tr>\n",
       "      <th>1</th>\n",
       "      <td>64.332936</td>\n",
       "      <td>34.970077</td>\n",
       "      <td>29.949277</td>\n",
       "      <td>33.448715</td>\n",
       "      <td>58.856170</td>\n",
       "      <td>35.274349</td>\n",
       "      <td>70.722723</td>\n",
       "      <td>36.187166</td>\n",
       "      <td>36.034723</td>\n",
       "      <td>34.361532</td>\n",
       "      <td>24.472511</td>\n",
       "      <td>33.144443</td>\n",
       "      <td>53.987404</td>\n",
       "      <td>28.275949</td>\n",
       "      <td>78.634213</td>\n",
       "      <td>30.405923</td>\n",
       "      <td>42.728851</td>\n",
       "      <td>26.146043</td>\n",
       "      <td>16.865362</td>\n",
       "      <td>27.058860</td>\n",
       "      <td>48.206298</td>\n",
       "      <td>55.660936</td>\n",
       "      <td>56.421447</td>\n",
       "      <td>76.352000</td>\n",
       "      <td>35.122383</td>\n",
       "      <td>76.047660</td>\n",
       "      <td>46.684596</td>\n",
       "      <td>70.266553</td>\n",
       "      <td>45.467915</td>\n",
       "      <td>85.480170</td>\n",
       "    </tr>\n",
       "    <tr>\n",
       "      <th>2</th>\n",
       "      <td>65.057053</td>\n",
       "      <td>34.909642</td>\n",
       "      <td>30.903789</td>\n",
       "      <td>34.909642</td>\n",
       "      <td>59.412000</td>\n",
       "      <td>36.320968</td>\n",
       "      <td>70.984421</td>\n",
       "      <td>36.320968</td>\n",
       "      <td>37.678105</td>\n",
       "      <td>36.320968</td>\n",
       "      <td>24.976421</td>\n",
       "      <td>36.603221</td>\n",
       "      <td>55.742526</td>\n",
       "      <td>27.570947</td>\n",
       "      <td>78.887368</td>\n",
       "      <td>32.651621</td>\n",
       "      <td>42.193895</td>\n",
       "      <td>28.135453</td>\n",
       "      <td>16.791158</td>\n",
       "      <td>32.087116</td>\n",
       "      <td>47.557263</td>\n",
       "      <td>53.538947</td>\n",
       "      <td>60.822947</td>\n",
       "      <td>73.014316</td>\n",
       "      <td>33.726316</td>\n",
       "      <td>72.732000</td>\n",
       "      <td>47.274947</td>\n",
       "      <td>70.191789</td>\n",
       "      <td>47.274947</td>\n",
       "      <td>78.659368</td>\n",
       "    </tr>\n",
       "    <tr>\n",
       "      <th>3</th>\n",
       "      <td>65.225739</td>\n",
       "      <td>37.261774</td>\n",
       "      <td>32.023096</td>\n",
       "      <td>37.261774</td>\n",
       "      <td>60.003339</td>\n",
       "      <td>39.127179</td>\n",
       "      <td>72.314713</td>\n",
       "      <td>38.380967</td>\n",
       "      <td>37.618643</td>\n",
       "      <td>38.754115</td>\n",
       "      <td>25.307270</td>\n",
       "      <td>38.007903</td>\n",
       "      <td>56.433809</td>\n",
       "      <td>30.929864</td>\n",
       "      <td>77.910261</td>\n",
       "      <td>31.665725</td>\n",
       "      <td>41.671513</td>\n",
       "      <td>31.049990</td>\n",
       "      <td>20.458017</td>\n",
       "      <td>29.909343</td>\n",
       "      <td>51.885078</td>\n",
       "      <td>54.166539</td>\n",
       "      <td>65.598887</td>\n",
       "      <td>72.703722</td>\n",
       "      <td>37.245496</td>\n",
       "      <td>74.195478</td>\n",
       "      <td>50.303165</td>\n",
       "      <td>70.091687</td>\n",
       "      <td>51.561183</td>\n",
       "      <td>78.268383</td>\n",
       "    </tr>\n",
       "    <tr>\n",
       "      <th>4</th>\n",
       "      <td>66.725301</td>\n",
       "      <td>39.621261</td>\n",
       "      <td>32.244810</td>\n",
       "      <td>38.042032</td>\n",
       "      <td>58.565890</td>\n",
       "      <td>39.621261</td>\n",
       "      <td>72.515926</td>\n",
       "      <td>39.884466</td>\n",
       "      <td>36.982380</td>\n",
       "      <td>39.094852</td>\n",
       "      <td>22.506110</td>\n",
       "      <td>38.305237</td>\n",
       "      <td>57.249571</td>\n",
       "      <td>30.672177</td>\n",
       "      <td>77.762945</td>\n",
       "      <td>31.737247</td>\n",
       "      <td>38.035436</td>\n",
       "      <td>30.935382</td>\n",
       "      <td>15.925870</td>\n",
       "      <td>30.672177</td>\n",
       "      <td>43.299534</td>\n",
       "      <td>64.889521</td>\n",
       "      <td>60.671411</td>\n",
       "      <td>77.523239</td>\n",
       "      <td>31.191755</td>\n",
       "      <td>76.997301</td>\n",
       "      <td>44.962748</td>\n",
       "      <td>73.707387</td>\n",
       "      <td>44.227141</td>\n",
       "      <td>86.871166</td>\n",
       "    </tr>\n",
       "    <tr>\n",
       "      <th>...</th>\n",
       "      <td>...</td>\n",
       "      <td>...</td>\n",
       "      <td>...</td>\n",
       "      <td>...</td>\n",
       "      <td>...</td>\n",
       "      <td>...</td>\n",
       "      <td>...</td>\n",
       "      <td>...</td>\n",
       "      <td>...</td>\n",
       "      <td>...</td>\n",
       "      <td>...</td>\n",
       "      <td>...</td>\n",
       "      <td>...</td>\n",
       "      <td>...</td>\n",
       "      <td>...</td>\n",
       "      <td>...</td>\n",
       "      <td>...</td>\n",
       "      <td>...</td>\n",
       "      <td>...</td>\n",
       "      <td>...</td>\n",
       "      <td>...</td>\n",
       "      <td>...</td>\n",
       "      <td>...</td>\n",
       "      <td>...</td>\n",
       "      <td>...</td>\n",
       "      <td>...</td>\n",
       "      <td>...</td>\n",
       "      <td>...</td>\n",
       "      <td>...</td>\n",
       "      <td>...</td>\n",
       "    </tr>\n",
       "    <tr>\n",
       "      <th>7044</th>\n",
       "      <td>67.402546</td>\n",
       "      <td>31.842551</td>\n",
       "      <td>29.746749</td>\n",
       "      <td>38.632942</td>\n",
       "      <td>NaN</td>\n",
       "      <td>NaN</td>\n",
       "      <td>NaN</td>\n",
       "      <td>NaN</td>\n",
       "      <td>NaN</td>\n",
       "      <td>NaN</td>\n",
       "      <td>NaN</td>\n",
       "      <td>NaN</td>\n",
       "      <td>NaN</td>\n",
       "      <td>NaN</td>\n",
       "      <td>NaN</td>\n",
       "      <td>NaN</td>\n",
       "      <td>NaN</td>\n",
       "      <td>NaN</td>\n",
       "      <td>NaN</td>\n",
       "      <td>NaN</td>\n",
       "      <td>48.265961</td>\n",
       "      <td>67.029093</td>\n",
       "      <td>NaN</td>\n",
       "      <td>NaN</td>\n",
       "      <td>NaN</td>\n",
       "      <td>NaN</td>\n",
       "      <td>NaN</td>\n",
       "      <td>NaN</td>\n",
       "      <td>50.426637</td>\n",
       "      <td>79.683921</td>\n",
       "    </tr>\n",
       "    <tr>\n",
       "      <th>7045</th>\n",
       "      <td>66.134400</td>\n",
       "      <td>38.365501</td>\n",
       "      <td>30.478626</td>\n",
       "      <td>39.950198</td>\n",
       "      <td>NaN</td>\n",
       "      <td>NaN</td>\n",
       "      <td>NaN</td>\n",
       "      <td>NaN</td>\n",
       "      <td>NaN</td>\n",
       "      <td>NaN</td>\n",
       "      <td>NaN</td>\n",
       "      <td>NaN</td>\n",
       "      <td>NaN</td>\n",
       "      <td>NaN</td>\n",
       "      <td>NaN</td>\n",
       "      <td>NaN</td>\n",
       "      <td>NaN</td>\n",
       "      <td>NaN</td>\n",
       "      <td>NaN</td>\n",
       "      <td>NaN</td>\n",
       "      <td>47.910346</td>\n",
       "      <td>66.626011</td>\n",
       "      <td>NaN</td>\n",
       "      <td>NaN</td>\n",
       "      <td>NaN</td>\n",
       "      <td>NaN</td>\n",
       "      <td>NaN</td>\n",
       "      <td>NaN</td>\n",
       "      <td>50.287397</td>\n",
       "      <td>77.983023</td>\n",
       "    </tr>\n",
       "    <tr>\n",
       "      <th>7046</th>\n",
       "      <td>66.690732</td>\n",
       "      <td>36.845221</td>\n",
       "      <td>31.666420</td>\n",
       "      <td>39.685042</td>\n",
       "      <td>NaN</td>\n",
       "      <td>NaN</td>\n",
       "      <td>NaN</td>\n",
       "      <td>NaN</td>\n",
       "      <td>NaN</td>\n",
       "      <td>NaN</td>\n",
       "      <td>NaN</td>\n",
       "      <td>NaN</td>\n",
       "      <td>NaN</td>\n",
       "      <td>NaN</td>\n",
       "      <td>NaN</td>\n",
       "      <td>NaN</td>\n",
       "      <td>NaN</td>\n",
       "      <td>NaN</td>\n",
       "      <td>NaN</td>\n",
       "      <td>NaN</td>\n",
       "      <td>49.462572</td>\n",
       "      <td>67.515161</td>\n",
       "      <td>NaN</td>\n",
       "      <td>NaN</td>\n",
       "      <td>NaN</td>\n",
       "      <td>NaN</td>\n",
       "      <td>NaN</td>\n",
       "      <td>NaN</td>\n",
       "      <td>49.462572</td>\n",
       "      <td>78.117120</td>\n",
       "    </tr>\n",
       "    <tr>\n",
       "      <th>7047</th>\n",
       "      <td>70.965082</td>\n",
       "      <td>39.853666</td>\n",
       "      <td>30.543285</td>\n",
       "      <td>40.772339</td>\n",
       "      <td>NaN</td>\n",
       "      <td>NaN</td>\n",
       "      <td>NaN</td>\n",
       "      <td>NaN</td>\n",
       "      <td>NaN</td>\n",
       "      <td>NaN</td>\n",
       "      <td>NaN</td>\n",
       "      <td>NaN</td>\n",
       "      <td>NaN</td>\n",
       "      <td>NaN</td>\n",
       "      <td>NaN</td>\n",
       "      <td>NaN</td>\n",
       "      <td>NaN</td>\n",
       "      <td>NaN</td>\n",
       "      <td>NaN</td>\n",
       "      <td>NaN</td>\n",
       "      <td>50.754202</td>\n",
       "      <td>66.724988</td>\n",
       "      <td>NaN</td>\n",
       "      <td>NaN</td>\n",
       "      <td>NaN</td>\n",
       "      <td>NaN</td>\n",
       "      <td>NaN</td>\n",
       "      <td>NaN</td>\n",
       "      <td>50.065186</td>\n",
       "      <td>79.586447</td>\n",
       "    </tr>\n",
       "    <tr>\n",
       "      <th>7048</th>\n",
       "      <td>66.938311</td>\n",
       "      <td>43.424510</td>\n",
       "      <td>31.096059</td>\n",
       "      <td>39.528604</td>\n",
       "      <td>NaN</td>\n",
       "      <td>NaN</td>\n",
       "      <td>NaN</td>\n",
       "      <td>NaN</td>\n",
       "      <td>NaN</td>\n",
       "      <td>NaN</td>\n",
       "      <td>NaN</td>\n",
       "      <td>NaN</td>\n",
       "      <td>NaN</td>\n",
       "      <td>NaN</td>\n",
       "      <td>NaN</td>\n",
       "      <td>NaN</td>\n",
       "      <td>NaN</td>\n",
       "      <td>NaN</td>\n",
       "      <td>NaN</td>\n",
       "      <td>NaN</td>\n",
       "      <td>47.069250</td>\n",
       "      <td>73.033339</td>\n",
       "      <td>NaN</td>\n",
       "      <td>NaN</td>\n",
       "      <td>NaN</td>\n",
       "      <td>NaN</td>\n",
       "      <td>NaN</td>\n",
       "      <td>NaN</td>\n",
       "      <td>45.900480</td>\n",
       "      <td>82.773096</td>\n",
       "    </tr>\n",
       "  </tbody>\n",
       "</table>\n",
       "<p>7049 rows × 30 columns</p>\n",
       "</div>\n",
       "      <button class=\"colab-df-convert\" onclick=\"convertToInteractive('df-c5686bc6-8fd8-4af6-b7e1-583ba1e789d5')\"\n",
       "              title=\"Convert this dataframe to an interactive table.\"\n",
       "              style=\"display:none;\">\n",
       "        \n",
       "  <svg xmlns=\"http://www.w3.org/2000/svg\" height=\"24px\"viewBox=\"0 0 24 24\"\n",
       "       width=\"24px\">\n",
       "    <path d=\"M0 0h24v24H0V0z\" fill=\"none\"/>\n",
       "    <path d=\"M18.56 5.44l.94 2.06.94-2.06 2.06-.94-2.06-.94-.94-2.06-.94 2.06-2.06.94zm-11 1L8.5 8.5l.94-2.06 2.06-.94-2.06-.94L8.5 2.5l-.94 2.06-2.06.94zm10 10l.94 2.06.94-2.06 2.06-.94-2.06-.94-.94-2.06-.94 2.06-2.06.94z\"/><path d=\"M17.41 7.96l-1.37-1.37c-.4-.4-.92-.59-1.43-.59-.52 0-1.04.2-1.43.59L10.3 9.45l-7.72 7.72c-.78.78-.78 2.05 0 2.83L4 21.41c.39.39.9.59 1.41.59.51 0 1.02-.2 1.41-.59l7.78-7.78 2.81-2.81c.8-.78.8-2.07 0-2.86zM5.41 20L4 18.59l7.72-7.72 1.47 1.35L5.41 20z\"/>\n",
       "  </svg>\n",
       "      </button>\n",
       "      \n",
       "  <style>\n",
       "    .colab-df-container {\n",
       "      display:flex;\n",
       "      flex-wrap:wrap;\n",
       "      gap: 12px;\n",
       "    }\n",
       "\n",
       "    .colab-df-convert {\n",
       "      background-color: #E8F0FE;\n",
       "      border: none;\n",
       "      border-radius: 50%;\n",
       "      cursor: pointer;\n",
       "      display: none;\n",
       "      fill: #1967D2;\n",
       "      height: 32px;\n",
       "      padding: 0 0 0 0;\n",
       "      width: 32px;\n",
       "    }\n",
       "\n",
       "    .colab-df-convert:hover {\n",
       "      background-color: #E2EBFA;\n",
       "      box-shadow: 0px 1px 2px rgba(60, 64, 67, 0.3), 0px 1px 3px 1px rgba(60, 64, 67, 0.15);\n",
       "      fill: #174EA6;\n",
       "    }\n",
       "\n",
       "    [theme=dark] .colab-df-convert {\n",
       "      background-color: #3B4455;\n",
       "      fill: #D2E3FC;\n",
       "    }\n",
       "\n",
       "    [theme=dark] .colab-df-convert:hover {\n",
       "      background-color: #434B5C;\n",
       "      box-shadow: 0px 1px 3px 1px rgba(0, 0, 0, 0.15);\n",
       "      filter: drop-shadow(0px 1px 2px rgba(0, 0, 0, 0.3));\n",
       "      fill: #FFFFFF;\n",
       "    }\n",
       "  </style>\n",
       "\n",
       "      <script>\n",
       "        const buttonEl =\n",
       "          document.querySelector('#df-c5686bc6-8fd8-4af6-b7e1-583ba1e789d5 button.colab-df-convert');\n",
       "        buttonEl.style.display =\n",
       "          google.colab.kernel.accessAllowed ? 'block' : 'none';\n",
       "\n",
       "        async function convertToInteractive(key) {\n",
       "          const element = document.querySelector('#df-c5686bc6-8fd8-4af6-b7e1-583ba1e789d5');\n",
       "          const dataTable =\n",
       "            await google.colab.kernel.invokeFunction('convertToInteractive',\n",
       "                                                     [key], {});\n",
       "          if (!dataTable) return;\n",
       "\n",
       "          const docLinkHtml = 'Like what you see? Visit the ' +\n",
       "            '<a target=\"_blank\" href=https://colab.research.google.com/notebooks/data_table.ipynb>data table notebook</a>'\n",
       "            + ' to learn more about interactive tables.';\n",
       "          element.innerHTML = '';\n",
       "          dataTable['output_type'] = 'display_data';\n",
       "          await google.colab.output.renderOutput(dataTable, element);\n",
       "          const docLink = document.createElement('div');\n",
       "          docLink.innerHTML = docLinkHtml;\n",
       "          element.appendChild(docLink);\n",
       "        }\n",
       "      </script>\n",
       "    </div>\n",
       "  </div>\n",
       "  "
      ],
      "text/plain": [
       "      left_eye_center_x  left_eye_center_y  right_eye_center_x  \\\n",
       "0             66.033564          39.002274           30.227008   \n",
       "1             64.332936          34.970077           29.949277   \n",
       "2             65.057053          34.909642           30.903789   \n",
       "3             65.225739          37.261774           32.023096   \n",
       "4             66.725301          39.621261           32.244810   \n",
       "...                 ...                ...                 ...   \n",
       "7044          67.402546          31.842551           29.746749   \n",
       "7045          66.134400          38.365501           30.478626   \n",
       "7046          66.690732          36.845221           31.666420   \n",
       "7047          70.965082          39.853666           30.543285   \n",
       "7048          66.938311          43.424510           31.096059   \n",
       "\n",
       "      right_eye_center_y  left_eye_inner_corner_x  left_eye_inner_corner_y  \\\n",
       "0              36.421678                59.582075                39.647423   \n",
       "1              33.448715                58.856170                35.274349   \n",
       "2              34.909642                59.412000                36.320968   \n",
       "3              37.261774                60.003339                39.127179   \n",
       "4              38.042032                58.565890                39.621261   \n",
       "...                  ...                      ...                      ...   \n",
       "7044           38.632942                      NaN                      NaN   \n",
       "7045           39.950198                      NaN                      NaN   \n",
       "7046           39.685042                      NaN                      NaN   \n",
       "7047           40.772339                      NaN                      NaN   \n",
       "7048           39.528604                      NaN                      NaN   \n",
       "\n",
       "      left_eye_outer_corner_x  left_eye_outer_corner_y  \\\n",
       "0                   73.130346                39.969997   \n",
       "1                   70.722723                36.187166   \n",
       "2                   70.984421                36.320968   \n",
       "3                   72.314713                38.380967   \n",
       "4                   72.515926                39.884466   \n",
       "...                       ...                      ...   \n",
       "7044                      NaN                      NaN   \n",
       "7045                      NaN                      NaN   \n",
       "7046                      NaN                      NaN   \n",
       "7047                      NaN                      NaN   \n",
       "7048                      NaN                      NaN   \n",
       "\n",
       "      right_eye_inner_corner_x  right_eye_inner_corner_y  \\\n",
       "0                    36.356571                 37.389402   \n",
       "1                    36.034723                 34.361532   \n",
       "2                    37.678105                 36.320968   \n",
       "3                    37.618643                 38.754115   \n",
       "4                    36.982380                 39.094852   \n",
       "...                        ...                       ...   \n",
       "7044                       NaN                       NaN   \n",
       "7045                       NaN                       NaN   \n",
       "7046                       NaN                       NaN   \n",
       "7047                       NaN                       NaN   \n",
       "7048                       NaN                       NaN   \n",
       "\n",
       "      right_eye_outer_corner_x  right_eye_outer_corner_y  \\\n",
       "0                    23.452872                 37.389402   \n",
       "1                    24.472511                 33.144443   \n",
       "2                    24.976421                 36.603221   \n",
       "3                    25.307270                 38.007903   \n",
       "4                    22.506110                 38.305237   \n",
       "...                        ...                       ...   \n",
       "7044                       NaN                       NaN   \n",
       "7045                       NaN                       NaN   \n",
       "7046                       NaN                       NaN   \n",
       "7047                       NaN                       NaN   \n",
       "7048                       NaN                       NaN   \n",
       "\n",
       "      left_eyebrow_inner_end_x  left_eyebrow_inner_end_y  \\\n",
       "0                    56.953263                 29.033648   \n",
       "1                    53.987404                 28.275949   \n",
       "2                    55.742526                 27.570947   \n",
       "3                    56.433809                 30.929864   \n",
       "4                    57.249571                 30.672177   \n",
       "...                        ...                       ...   \n",
       "7044                       NaN                       NaN   \n",
       "7045                       NaN                       NaN   \n",
       "7046                       NaN                       NaN   \n",
       "7047                       NaN                       NaN   \n",
       "7048                       NaN                       NaN   \n",
       "\n",
       "      left_eyebrow_outer_end_x  left_eyebrow_outer_end_y  \\\n",
       "0                    80.227128                 32.228138   \n",
       "1                    78.634213                 30.405923   \n",
       "2                    78.887368                 32.651621   \n",
       "3                    77.910261                 31.665725   \n",
       "4                    77.762945                 31.737247   \n",
       "...                        ...                       ...   \n",
       "7044                       NaN                       NaN   \n",
       "7045                       NaN                       NaN   \n",
       "7046                       NaN                       NaN   \n",
       "7047                       NaN                       NaN   \n",
       "7048                       NaN                       NaN   \n",
       "\n",
       "      right_eyebrow_inner_end_x  right_eyebrow_inner_end_y  \\\n",
       "0                     40.227609                  29.002322   \n",
       "1                     42.728851                  26.146043   \n",
       "2                     42.193895                  28.135453   \n",
       "3                     41.671513                  31.049990   \n",
       "4                     38.035436                  30.935382   \n",
       "...                         ...                        ...   \n",
       "7044                        NaN                        NaN   \n",
       "7045                        NaN                        NaN   \n",
       "7046                        NaN                        NaN   \n",
       "7047                        NaN                        NaN   \n",
       "7048                        NaN                        NaN   \n",
       "\n",
       "      right_eyebrow_outer_end_x  right_eyebrow_outer_end_y  nose_tip_x  \\\n",
       "0                     16.356379                  29.647471   44.420571   \n",
       "1                     16.865362                  27.058860   48.206298   \n",
       "2                     16.791158                  32.087116   47.557263   \n",
       "3                     20.458017                  29.909343   51.885078   \n",
       "4                     15.925870                  30.672177   43.299534   \n",
       "...                         ...                        ...         ...   \n",
       "7044                        NaN                        NaN   48.265961   \n",
       "7045                        NaN                        NaN   47.910346   \n",
       "7046                        NaN                        NaN   49.462572   \n",
       "7047                        NaN                        NaN   50.754202   \n",
       "7048                        NaN                        NaN   47.069250   \n",
       "\n",
       "      nose_tip_y  mouth_left_corner_x  mouth_left_corner_y  \\\n",
       "0      57.066803            61.195308            79.970165   \n",
       "1      55.660936            56.421447            76.352000   \n",
       "2      53.538947            60.822947            73.014316   \n",
       "3      54.166539            65.598887            72.703722   \n",
       "4      64.889521            60.671411            77.523239   \n",
       "...          ...                  ...                  ...   \n",
       "7044   67.029093                  NaN                  NaN   \n",
       "7045   66.626011                  NaN                  NaN   \n",
       "7046   67.515161                  NaN                  NaN   \n",
       "7047   66.724988                  NaN                  NaN   \n",
       "7048   73.033339                  NaN                  NaN   \n",
       "\n",
       "      mouth_right_corner_x  mouth_right_corner_y  mouth_center_top_lip_x  \\\n",
       "0                28.614496             77.388992               43.312602   \n",
       "1                35.122383             76.047660               46.684596   \n",
       "2                33.726316             72.732000               47.274947   \n",
       "3                37.245496             74.195478               50.303165   \n",
       "4                31.191755             76.997301               44.962748   \n",
       "...                    ...                   ...                     ...   \n",
       "7044                   NaN                   NaN                     NaN   \n",
       "7045                   NaN                   NaN                     NaN   \n",
       "7046                   NaN                   NaN                     NaN   \n",
       "7047                   NaN                   NaN                     NaN   \n",
       "7048                   NaN                   NaN                     NaN   \n",
       "\n",
       "      mouth_center_top_lip_y  mouth_center_bottom_lip_x  \\\n",
       "0                  72.935459                  43.130707   \n",
       "1                  70.266553                  45.467915   \n",
       "2                  70.191789                  47.274947   \n",
       "3                  70.091687                  51.561183   \n",
       "4                  73.707387                  44.227141   \n",
       "...                      ...                        ...   \n",
       "7044                     NaN                  50.426637   \n",
       "7045                     NaN                  50.287397   \n",
       "7046                     NaN                  49.462572   \n",
       "7047                     NaN                  50.065186   \n",
       "7048                     NaN                  45.900480   \n",
       "\n",
       "      mouth_center_bottom_lip_y  \n",
       "0                     84.485774  \n",
       "1                     85.480170  \n",
       "2                     78.659368  \n",
       "3                     78.268383  \n",
       "4                     86.871166  \n",
       "...                         ...  \n",
       "7044                  79.683921  \n",
       "7045                  77.983023  \n",
       "7046                  78.117120  \n",
       "7047                  79.586447  \n",
       "7048                  82.773096  \n",
       "\n",
       "[7049 rows x 30 columns]"
      ]
     },
     "execution_count": 15,
     "metadata": {},
     "output_type": "execute_result"
    }
   ],
   "source": [
    "Labels"
   ]
  },
  {
   "cell_type": "code",
   "execution_count": 18,
   "metadata": {
    "colab": {
     "base_uri": "https://localhost:8080/",
     "height": 165
    },
    "executionInfo": {
     "elapsed": 12,
     "status": "error",
     "timestamp": 1640104948996,
     "user": {
      "displayName": "Mateo Forjan",
      "photoUrl": "https://lh3.googleusercontent.com/a/default-user=s64",
      "userId": "06372541481818120502"
     },
     "user_tz": -60
    },
    "id": "Q_KeltW_5g4J",
    "outputId": "c808fd70-b9d7-4888-912f-ddfdc598baf6"
   },
   "outputs": [
    {
     "ename": "NameError",
     "evalue": "ignored",
     "output_type": "error",
     "traceback": [
      "\u001b[0;31m---------------------------------------------------------------------------\u001b[0m",
      "\u001b[0;31mNameError\u001b[0m                                 Traceback (most recent call last)",
      "\u001b[0;32m<ipython-input-18-391893671a39>\u001b[0m in \u001b[0;36m<module>\u001b[0;34m()\u001b[0m\n\u001b[0;32m----> 1\u001b[0;31m \u001b[0msns\u001b[0m\u001b[0;34m.\u001b[0m\u001b[0mheatmap\u001b[0m\u001b[0;34m(\u001b[0m\u001b[0mLabels\u001b[0m\u001b[0;34m.\u001b[0m\u001b[0misnull\u001b[0m\u001b[0;34m(\u001b[0m\u001b[0;34m)\u001b[0m\u001b[0;34m==\u001b[0m\u001b[0;32mTrue\u001b[0m\u001b[0;34m)\u001b[0m\u001b[0;34m\u001b[0m\u001b[0;34m\u001b[0m\u001b[0m\n\u001b[0m",
      "\u001b[0;31mNameError\u001b[0m: name 'sns' is not defined"
     ]
    }
   ],
   "source": [
    "sns.heatmap(Labels.isnull()==True)"
   ]
  },
  {
   "cell_type": "code",
   "execution_count": 16,
   "metadata": {
    "colab": {
     "base_uri": "https://localhost:8080/"
    },
    "executionInfo": {
     "elapsed": 181,
     "status": "ok",
     "timestamp": 1640177891353,
     "user": {
      "displayName": "Mateo Forjan",
      "photoUrl": "https://lh3.googleusercontent.com/a/default-user=s64",
      "userId": "06372541481818120502"
     },
     "user_tz": -60
    },
    "id": "_FinGzVJ5iQJ",
    "outputId": "1f461efd-34cb-4c70-f949-e08268589c83"
   },
   "outputs": [
    {
     "data": {
      "text/plain": [
       "left_eye_center_x              10\n",
       "left_eye_center_y              10\n",
       "right_eye_center_x             13\n",
       "right_eye_center_y             13\n",
       "left_eye_inner_corner_x      4778\n",
       "left_eye_inner_corner_y      4778\n",
       "left_eye_outer_corner_x      4782\n",
       "left_eye_outer_corner_y      4782\n",
       "right_eye_inner_corner_x     4781\n",
       "right_eye_inner_corner_y     4781\n",
       "right_eye_outer_corner_x     4781\n",
       "right_eye_outer_corner_y     4781\n",
       "left_eyebrow_inner_end_x     4779\n",
       "left_eyebrow_inner_end_y     4779\n",
       "left_eyebrow_outer_end_x     4824\n",
       "left_eyebrow_outer_end_y     4824\n",
       "right_eyebrow_inner_end_x    4779\n",
       "right_eyebrow_inner_end_y    4779\n",
       "right_eyebrow_outer_end_x    4813\n",
       "right_eyebrow_outer_end_y    4813\n",
       "nose_tip_x                      0\n",
       "nose_tip_y                      0\n",
       "mouth_left_corner_x          4780\n",
       "mouth_left_corner_y          4780\n",
       "mouth_right_corner_x         4779\n",
       "mouth_right_corner_y         4779\n",
       "mouth_center_top_lip_x       4774\n",
       "mouth_center_top_lip_y       4774\n",
       "mouth_center_bottom_lip_x      33\n",
       "mouth_center_bottom_lip_y      33\n",
       "dtype: int64"
      ]
     },
     "execution_count": 16,
     "metadata": {},
     "output_type": "execute_result"
    }
   ],
   "source": [
    "Labels.isnull().sum()"
   ]
  },
  {
   "cell_type": "code",
   "execution_count": 17,
   "metadata": {
    "executionInfo": {
     "elapsed": 196,
     "status": "ok",
     "timestamp": 1640177892916,
     "user": {
      "displayName": "Mateo Forjan",
      "photoUrl": "https://lh3.googleusercontent.com/a/default-user=s64",
      "userId": "06372541481818120502"
     },
     "user_tz": -60
    },
    "id": "FPN3N4dj5nNx"
   },
   "outputs": [],
   "source": [
    "#Fill missing values with previous value\n",
    "Labels_mean = Labels.ffill()"
   ]
  },
  {
   "cell_type": "code",
   "execution_count": 18,
   "metadata": {
    "colab": {
     "base_uri": "https://localhost:8080/"
    },
    "executionInfo": {
     "elapsed": 2,
     "status": "ok",
     "timestamp": 1640177893571,
     "user": {
      "displayName": "Mateo Forjan",
      "photoUrl": "https://lh3.googleusercontent.com/a/default-user=s64",
      "userId": "06372541481818120502"
     },
     "user_tz": -60
    },
    "id": "rTXtpTGE5qFJ",
    "outputId": "7407bfa4-c7b9-4212-9d18-3e889562bd10"
   },
   "outputs": [
    {
     "data": {
      "text/plain": [
       "left_eye_center_x            0\n",
       "left_eye_center_y            0\n",
       "right_eye_center_x           0\n",
       "right_eye_center_y           0\n",
       "left_eye_inner_corner_x      0\n",
       "left_eye_inner_corner_y      0\n",
       "left_eye_outer_corner_x      0\n",
       "left_eye_outer_corner_y      0\n",
       "right_eye_inner_corner_x     0\n",
       "right_eye_inner_corner_y     0\n",
       "right_eye_outer_corner_x     0\n",
       "right_eye_outer_corner_y     0\n",
       "left_eyebrow_inner_end_x     0\n",
       "left_eyebrow_inner_end_y     0\n",
       "left_eyebrow_outer_end_x     0\n",
       "left_eyebrow_outer_end_y     0\n",
       "right_eyebrow_inner_end_x    0\n",
       "right_eyebrow_inner_end_y    0\n",
       "right_eyebrow_outer_end_x    0\n",
       "right_eyebrow_outer_end_y    0\n",
       "nose_tip_x                   0\n",
       "nose_tip_y                   0\n",
       "mouth_left_corner_x          0\n",
       "mouth_left_corner_y          0\n",
       "mouth_right_corner_x         0\n",
       "mouth_right_corner_y         0\n",
       "mouth_center_top_lip_x       0\n",
       "mouth_center_top_lip_y       0\n",
       "mouth_center_bottom_lip_x    0\n",
       "mouth_center_bottom_lip_y    0\n",
       "dtype: int64"
      ]
     },
     "execution_count": 18,
     "metadata": {},
     "output_type": "execute_result"
    }
   ],
   "source": [
    "Labels_mean.isnull().sum()"
   ]
  },
  {
   "cell_type": "code",
   "execution_count": 19,
   "metadata": {
    "colab": {
     "base_uri": "https://localhost:8080/"
    },
    "executionInfo": {
     "elapsed": 200,
     "status": "ok",
     "timestamp": 1640177894578,
     "user": {
      "displayName": "Mateo Forjan",
      "photoUrl": "https://lh3.googleusercontent.com/a/default-user=s64",
      "userId": "06372541481818120502"
     },
     "user_tz": -60
    },
    "id": "hzRjPN_55rbC",
    "outputId": "70ac39c4-1733-4216-d7e4-dfd5d5bcd4a8"
   },
   "outputs": [
    {
     "data": {
      "text/plain": [
       "7049"
      ]
     },
     "execution_count": 19,
     "metadata": {},
     "output_type": "execute_result"
    }
   ],
   "source": [
    "Images.shape[0]"
   ]
  },
  {
   "cell_type": "code",
   "execution_count": 20,
   "metadata": {
    "executionInfo": {
     "elapsed": 2,
     "status": "ok",
     "timestamp": 1640177895364,
     "user": {
      "displayName": "Mateo Forjan",
      "photoUrl": "https://lh3.googleusercontent.com/a/default-user=s64",
      "userId": "06372541481818120502"
     },
     "user_tz": -60
    },
    "id": "W02voy516Kk5"
   },
   "outputs": [],
   "source": [
    "#shaping images for correct neural_network input (4D array)\n",
    "neural_images = []\n",
    "for i in range(Images.shape[0]):\n",
    "    neural_images.append(Images[i])"
   ]
  },
  {
   "cell_type": "code",
   "execution_count": 21,
   "metadata": {
    "executionInfo": {
     "elapsed": 497,
     "status": "ok",
     "timestamp": 1640177897267,
     "user": {
      "displayName": "Mateo Forjan",
      "photoUrl": "https://lh3.googleusercontent.com/a/default-user=s64",
      "userId": "06372541481818120502"
     },
     "user_tz": -60
    },
    "id": "gYC1j4no6LhB"
   },
   "outputs": [],
   "source": [
    "neural_images = np.reshape(neural_images,newshape=(Images.shape[0],96,96,1))"
   ]
  },
  {
   "cell_type": "code",
   "execution_count": 22,
   "metadata": {
    "colab": {
     "base_uri": "https://localhost:8080/",
     "height": 270
    },
    "executionInfo": {
     "elapsed": 213,
     "status": "ok",
     "timestamp": 1640177898654,
     "user": {
      "displayName": "Mateo Forjan",
      "photoUrl": "https://lh3.googleusercontent.com/a/default-user=s64",
      "userId": "06372541481818120502"
     },
     "user_tz": -60
    },
    "id": "oIjVTHDp3X1n",
    "outputId": "b755f8e4-d000-49ad-e929-c565cc5dcadc"
   },
   "outputs": [
    {
     "data": {
      "text/html": [
       "\n",
       "  <div id=\"df-020940aa-93a2-4ebc-a10f-77c7c5a8fb09\">\n",
       "    <div class=\"colab-df-container\">\n",
       "      <div>\n",
       "<style scoped>\n",
       "    .dataframe tbody tr th:only-of-type {\n",
       "        vertical-align: middle;\n",
       "    }\n",
       "\n",
       "    .dataframe tbody tr th {\n",
       "        vertical-align: top;\n",
       "    }\n",
       "\n",
       "    .dataframe thead th {\n",
       "        text-align: right;\n",
       "    }\n",
       "</style>\n",
       "<table border=\"1\" class=\"dataframe\">\n",
       "  <thead>\n",
       "    <tr style=\"text-align: right;\">\n",
       "      <th></th>\n",
       "      <th>left_eye_center_x</th>\n",
       "      <th>left_eye_center_y</th>\n",
       "      <th>right_eye_center_x</th>\n",
       "      <th>right_eye_center_y</th>\n",
       "      <th>left_eye_inner_corner_x</th>\n",
       "      <th>left_eye_inner_corner_y</th>\n",
       "      <th>left_eye_outer_corner_x</th>\n",
       "      <th>left_eye_outer_corner_y</th>\n",
       "      <th>right_eye_inner_corner_x</th>\n",
       "      <th>right_eye_inner_corner_y</th>\n",
       "      <th>right_eye_outer_corner_x</th>\n",
       "      <th>right_eye_outer_corner_y</th>\n",
       "      <th>left_eyebrow_inner_end_x</th>\n",
       "      <th>left_eyebrow_inner_end_y</th>\n",
       "      <th>left_eyebrow_outer_end_x</th>\n",
       "      <th>left_eyebrow_outer_end_y</th>\n",
       "      <th>right_eyebrow_inner_end_x</th>\n",
       "      <th>right_eyebrow_inner_end_y</th>\n",
       "      <th>right_eyebrow_outer_end_x</th>\n",
       "      <th>right_eyebrow_outer_end_y</th>\n",
       "      <th>nose_tip_x</th>\n",
       "      <th>nose_tip_y</th>\n",
       "      <th>mouth_left_corner_x</th>\n",
       "      <th>mouth_left_corner_y</th>\n",
       "      <th>mouth_right_corner_x</th>\n",
       "      <th>mouth_right_corner_y</th>\n",
       "      <th>mouth_center_top_lip_x</th>\n",
       "      <th>mouth_center_top_lip_y</th>\n",
       "      <th>mouth_center_bottom_lip_x</th>\n",
       "      <th>mouth_center_bottom_lip_y</th>\n",
       "    </tr>\n",
       "  </thead>\n",
       "  <tbody>\n",
       "    <tr>\n",
       "      <th>0</th>\n",
       "      <td>66.033564</td>\n",
       "      <td>39.002274</td>\n",
       "      <td>30.227008</td>\n",
       "      <td>36.421678</td>\n",
       "      <td>59.582075</td>\n",
       "      <td>39.647423</td>\n",
       "      <td>73.130346</td>\n",
       "      <td>39.969997</td>\n",
       "      <td>36.356571</td>\n",
       "      <td>37.389402</td>\n",
       "      <td>23.452872</td>\n",
       "      <td>37.389402</td>\n",
       "      <td>56.953263</td>\n",
       "      <td>29.033648</td>\n",
       "      <td>80.227128</td>\n",
       "      <td>32.228138</td>\n",
       "      <td>40.227609</td>\n",
       "      <td>29.002322</td>\n",
       "      <td>16.356379</td>\n",
       "      <td>29.647471</td>\n",
       "      <td>44.420571</td>\n",
       "      <td>57.066803</td>\n",
       "      <td>61.195308</td>\n",
       "      <td>79.970165</td>\n",
       "      <td>28.614496</td>\n",
       "      <td>77.388992</td>\n",
       "      <td>43.312602</td>\n",
       "      <td>72.935459</td>\n",
       "      <td>43.130707</td>\n",
       "      <td>84.485774</td>\n",
       "    </tr>\n",
       "    <tr>\n",
       "      <th>1</th>\n",
       "      <td>64.332936</td>\n",
       "      <td>34.970077</td>\n",
       "      <td>29.949277</td>\n",
       "      <td>33.448715</td>\n",
       "      <td>58.856170</td>\n",
       "      <td>35.274349</td>\n",
       "      <td>70.722723</td>\n",
       "      <td>36.187166</td>\n",
       "      <td>36.034723</td>\n",
       "      <td>34.361532</td>\n",
       "      <td>24.472511</td>\n",
       "      <td>33.144443</td>\n",
       "      <td>53.987404</td>\n",
       "      <td>28.275949</td>\n",
       "      <td>78.634213</td>\n",
       "      <td>30.405923</td>\n",
       "      <td>42.728851</td>\n",
       "      <td>26.146043</td>\n",
       "      <td>16.865362</td>\n",
       "      <td>27.058860</td>\n",
       "      <td>48.206298</td>\n",
       "      <td>55.660936</td>\n",
       "      <td>56.421447</td>\n",
       "      <td>76.352000</td>\n",
       "      <td>35.122383</td>\n",
       "      <td>76.047660</td>\n",
       "      <td>46.684596</td>\n",
       "      <td>70.266553</td>\n",
       "      <td>45.467915</td>\n",
       "      <td>85.480170</td>\n",
       "    </tr>\n",
       "    <tr>\n",
       "      <th>2</th>\n",
       "      <td>65.057053</td>\n",
       "      <td>34.909642</td>\n",
       "      <td>30.903789</td>\n",
       "      <td>34.909642</td>\n",
       "      <td>59.412000</td>\n",
       "      <td>36.320968</td>\n",
       "      <td>70.984421</td>\n",
       "      <td>36.320968</td>\n",
       "      <td>37.678105</td>\n",
       "      <td>36.320968</td>\n",
       "      <td>24.976421</td>\n",
       "      <td>36.603221</td>\n",
       "      <td>55.742526</td>\n",
       "      <td>27.570947</td>\n",
       "      <td>78.887368</td>\n",
       "      <td>32.651621</td>\n",
       "      <td>42.193895</td>\n",
       "      <td>28.135453</td>\n",
       "      <td>16.791158</td>\n",
       "      <td>32.087116</td>\n",
       "      <td>47.557263</td>\n",
       "      <td>53.538947</td>\n",
       "      <td>60.822947</td>\n",
       "      <td>73.014316</td>\n",
       "      <td>33.726316</td>\n",
       "      <td>72.732000</td>\n",
       "      <td>47.274947</td>\n",
       "      <td>70.191789</td>\n",
       "      <td>47.274947</td>\n",
       "      <td>78.659368</td>\n",
       "    </tr>\n",
       "    <tr>\n",
       "      <th>3</th>\n",
       "      <td>65.225739</td>\n",
       "      <td>37.261774</td>\n",
       "      <td>32.023096</td>\n",
       "      <td>37.261774</td>\n",
       "      <td>60.003339</td>\n",
       "      <td>39.127179</td>\n",
       "      <td>72.314713</td>\n",
       "      <td>38.380967</td>\n",
       "      <td>37.618643</td>\n",
       "      <td>38.754115</td>\n",
       "      <td>25.307270</td>\n",
       "      <td>38.007903</td>\n",
       "      <td>56.433809</td>\n",
       "      <td>30.929864</td>\n",
       "      <td>77.910261</td>\n",
       "      <td>31.665725</td>\n",
       "      <td>41.671513</td>\n",
       "      <td>31.049990</td>\n",
       "      <td>20.458017</td>\n",
       "      <td>29.909343</td>\n",
       "      <td>51.885078</td>\n",
       "      <td>54.166539</td>\n",
       "      <td>65.598887</td>\n",
       "      <td>72.703722</td>\n",
       "      <td>37.245496</td>\n",
       "      <td>74.195478</td>\n",
       "      <td>50.303165</td>\n",
       "      <td>70.091687</td>\n",
       "      <td>51.561183</td>\n",
       "      <td>78.268383</td>\n",
       "    </tr>\n",
       "    <tr>\n",
       "      <th>4</th>\n",
       "      <td>66.725301</td>\n",
       "      <td>39.621261</td>\n",
       "      <td>32.244810</td>\n",
       "      <td>38.042032</td>\n",
       "      <td>58.565890</td>\n",
       "      <td>39.621261</td>\n",
       "      <td>72.515926</td>\n",
       "      <td>39.884466</td>\n",
       "      <td>36.982380</td>\n",
       "      <td>39.094852</td>\n",
       "      <td>22.506110</td>\n",
       "      <td>38.305237</td>\n",
       "      <td>57.249571</td>\n",
       "      <td>30.672177</td>\n",
       "      <td>77.762945</td>\n",
       "      <td>31.737247</td>\n",
       "      <td>38.035436</td>\n",
       "      <td>30.935382</td>\n",
       "      <td>15.925870</td>\n",
       "      <td>30.672177</td>\n",
       "      <td>43.299534</td>\n",
       "      <td>64.889521</td>\n",
       "      <td>60.671411</td>\n",
       "      <td>77.523239</td>\n",
       "      <td>31.191755</td>\n",
       "      <td>76.997301</td>\n",
       "      <td>44.962748</td>\n",
       "      <td>73.707387</td>\n",
       "      <td>44.227141</td>\n",
       "      <td>86.871166</td>\n",
       "    </tr>\n",
       "  </tbody>\n",
       "</table>\n",
       "</div>\n",
       "      <button class=\"colab-df-convert\" onclick=\"convertToInteractive('df-020940aa-93a2-4ebc-a10f-77c7c5a8fb09')\"\n",
       "              title=\"Convert this dataframe to an interactive table.\"\n",
       "              style=\"display:none;\">\n",
       "        \n",
       "  <svg xmlns=\"http://www.w3.org/2000/svg\" height=\"24px\"viewBox=\"0 0 24 24\"\n",
       "       width=\"24px\">\n",
       "    <path d=\"M0 0h24v24H0V0z\" fill=\"none\"/>\n",
       "    <path d=\"M18.56 5.44l.94 2.06.94-2.06 2.06-.94-2.06-.94-.94-2.06-.94 2.06-2.06.94zm-11 1L8.5 8.5l.94-2.06 2.06-.94-2.06-.94L8.5 2.5l-.94 2.06-2.06.94zm10 10l.94 2.06.94-2.06 2.06-.94-2.06-.94-.94-2.06-.94 2.06-2.06.94z\"/><path d=\"M17.41 7.96l-1.37-1.37c-.4-.4-.92-.59-1.43-.59-.52 0-1.04.2-1.43.59L10.3 9.45l-7.72 7.72c-.78.78-.78 2.05 0 2.83L4 21.41c.39.39.9.59 1.41.59.51 0 1.02-.2 1.41-.59l7.78-7.78 2.81-2.81c.8-.78.8-2.07 0-2.86zM5.41 20L4 18.59l7.72-7.72 1.47 1.35L5.41 20z\"/>\n",
       "  </svg>\n",
       "      </button>\n",
       "      \n",
       "  <style>\n",
       "    .colab-df-container {\n",
       "      display:flex;\n",
       "      flex-wrap:wrap;\n",
       "      gap: 12px;\n",
       "    }\n",
       "\n",
       "    .colab-df-convert {\n",
       "      background-color: #E8F0FE;\n",
       "      border: none;\n",
       "      border-radius: 50%;\n",
       "      cursor: pointer;\n",
       "      display: none;\n",
       "      fill: #1967D2;\n",
       "      height: 32px;\n",
       "      padding: 0 0 0 0;\n",
       "      width: 32px;\n",
       "    }\n",
       "\n",
       "    .colab-df-convert:hover {\n",
       "      background-color: #E2EBFA;\n",
       "      box-shadow: 0px 1px 2px rgba(60, 64, 67, 0.3), 0px 1px 3px 1px rgba(60, 64, 67, 0.15);\n",
       "      fill: #174EA6;\n",
       "    }\n",
       "\n",
       "    [theme=dark] .colab-df-convert {\n",
       "      background-color: #3B4455;\n",
       "      fill: #D2E3FC;\n",
       "    }\n",
       "\n",
       "    [theme=dark] .colab-df-convert:hover {\n",
       "      background-color: #434B5C;\n",
       "      box-shadow: 0px 1px 3px 1px rgba(0, 0, 0, 0.15);\n",
       "      filter: drop-shadow(0px 1px 2px rgba(0, 0, 0, 0.3));\n",
       "      fill: #FFFFFF;\n",
       "    }\n",
       "  </style>\n",
       "\n",
       "      <script>\n",
       "        const buttonEl =\n",
       "          document.querySelector('#df-020940aa-93a2-4ebc-a10f-77c7c5a8fb09 button.colab-df-convert');\n",
       "        buttonEl.style.display =\n",
       "          google.colab.kernel.accessAllowed ? 'block' : 'none';\n",
       "\n",
       "        async function convertToInteractive(key) {\n",
       "          const element = document.querySelector('#df-020940aa-93a2-4ebc-a10f-77c7c5a8fb09');\n",
       "          const dataTable =\n",
       "            await google.colab.kernel.invokeFunction('convertToInteractive',\n",
       "                                                     [key], {});\n",
       "          if (!dataTable) return;\n",
       "\n",
       "          const docLinkHtml = 'Like what you see? Visit the ' +\n",
       "            '<a target=\"_blank\" href=https://colab.research.google.com/notebooks/data_table.ipynb>data table notebook</a>'\n",
       "            + ' to learn more about interactive tables.';\n",
       "          element.innerHTML = '';\n",
       "          dataTable['output_type'] = 'display_data';\n",
       "          await google.colab.output.renderOutput(dataTable, element);\n",
       "          const docLink = document.createElement('div');\n",
       "          docLink.innerHTML = docLinkHtml;\n",
       "          element.appendChild(docLink);\n",
       "        }\n",
       "      </script>\n",
       "    </div>\n",
       "  </div>\n",
       "  "
      ],
      "text/plain": [
       "   left_eye_center_x  left_eye_center_y  right_eye_center_x  \\\n",
       "0          66.033564          39.002274           30.227008   \n",
       "1          64.332936          34.970077           29.949277   \n",
       "2          65.057053          34.909642           30.903789   \n",
       "3          65.225739          37.261774           32.023096   \n",
       "4          66.725301          39.621261           32.244810   \n",
       "\n",
       "   right_eye_center_y  left_eye_inner_corner_x  left_eye_inner_corner_y  \\\n",
       "0           36.421678                59.582075                39.647423   \n",
       "1           33.448715                58.856170                35.274349   \n",
       "2           34.909642                59.412000                36.320968   \n",
       "3           37.261774                60.003339                39.127179   \n",
       "4           38.042032                58.565890                39.621261   \n",
       "\n",
       "   left_eye_outer_corner_x  left_eye_outer_corner_y  right_eye_inner_corner_x  \\\n",
       "0                73.130346                39.969997                 36.356571   \n",
       "1                70.722723                36.187166                 36.034723   \n",
       "2                70.984421                36.320968                 37.678105   \n",
       "3                72.314713                38.380967                 37.618643   \n",
       "4                72.515926                39.884466                 36.982380   \n",
       "\n",
       "   right_eye_inner_corner_y  right_eye_outer_corner_x  \\\n",
       "0                 37.389402                 23.452872   \n",
       "1                 34.361532                 24.472511   \n",
       "2                 36.320968                 24.976421   \n",
       "3                 38.754115                 25.307270   \n",
       "4                 39.094852                 22.506110   \n",
       "\n",
       "   right_eye_outer_corner_y  left_eyebrow_inner_end_x  \\\n",
       "0                 37.389402                 56.953263   \n",
       "1                 33.144443                 53.987404   \n",
       "2                 36.603221                 55.742526   \n",
       "3                 38.007903                 56.433809   \n",
       "4                 38.305237                 57.249571   \n",
       "\n",
       "   left_eyebrow_inner_end_y  left_eyebrow_outer_end_x  \\\n",
       "0                 29.033648                 80.227128   \n",
       "1                 28.275949                 78.634213   \n",
       "2                 27.570947                 78.887368   \n",
       "3                 30.929864                 77.910261   \n",
       "4                 30.672177                 77.762945   \n",
       "\n",
       "   left_eyebrow_outer_end_y  right_eyebrow_inner_end_x  \\\n",
       "0                 32.228138                  40.227609   \n",
       "1                 30.405923                  42.728851   \n",
       "2                 32.651621                  42.193895   \n",
       "3                 31.665725                  41.671513   \n",
       "4                 31.737247                  38.035436   \n",
       "\n",
       "   right_eyebrow_inner_end_y  right_eyebrow_outer_end_x  \\\n",
       "0                  29.002322                  16.356379   \n",
       "1                  26.146043                  16.865362   \n",
       "2                  28.135453                  16.791158   \n",
       "3                  31.049990                  20.458017   \n",
       "4                  30.935382                  15.925870   \n",
       "\n",
       "   right_eyebrow_outer_end_y  nose_tip_x  nose_tip_y  mouth_left_corner_x  \\\n",
       "0                  29.647471   44.420571   57.066803            61.195308   \n",
       "1                  27.058860   48.206298   55.660936            56.421447   \n",
       "2                  32.087116   47.557263   53.538947            60.822947   \n",
       "3                  29.909343   51.885078   54.166539            65.598887   \n",
       "4                  30.672177   43.299534   64.889521            60.671411   \n",
       "\n",
       "   mouth_left_corner_y  mouth_right_corner_x  mouth_right_corner_y  \\\n",
       "0            79.970165             28.614496             77.388992   \n",
       "1            76.352000             35.122383             76.047660   \n",
       "2            73.014316             33.726316             72.732000   \n",
       "3            72.703722             37.245496             74.195478   \n",
       "4            77.523239             31.191755             76.997301   \n",
       "\n",
       "   mouth_center_top_lip_x  mouth_center_top_lip_y  mouth_center_bottom_lip_x  \\\n",
       "0               43.312602               72.935459                  43.130707   \n",
       "1               46.684596               70.266553                  45.467915   \n",
       "2               47.274947               70.191789                  47.274947   \n",
       "3               50.303165               70.091687                  51.561183   \n",
       "4               44.962748               73.707387                  44.227141   \n",
       "\n",
       "   mouth_center_bottom_lip_y  \n",
       "0                  84.485774  \n",
       "1                  85.480170  \n",
       "2                  78.659368  \n",
       "3                  78.268383  \n",
       "4                  86.871166  "
      ]
     },
     "execution_count": 22,
     "metadata": {},
     "output_type": "execute_result"
    }
   ],
   "source": [
    "Labels.head()"
   ]
  },
  {
   "cell_type": "code",
   "execution_count": 23,
   "metadata": {
    "executionInfo": {
     "elapsed": 1,
     "status": "ok",
     "timestamp": 1640177898855,
     "user": {
      "displayName": "Mateo Forjan",
      "photoUrl": "https://lh3.googleusercontent.com/a/default-user=s64",
      "userId": "06372541481818120502"
     },
     "user_tz": -60
    },
    "id": "kJrDwUC-3X1o"
   },
   "outputs": [],
   "source": [
    "def visualize_neural(i):\n",
    "    img = neural_images[i,:,:,0]\n",
    "    plt.imshow(img,cmap='gray')\n",
    "    \n",
    "    columns = Labels.columns\n",
    "    for a in range(0,Labels.shape[1],2):\n",
    "        plt.plot(Labels[columns[a]][i],Labels[columns[a+1]][i], 'X',color='w',markersize=10)"
   ]
  },
  {
   "cell_type": "code",
   "execution_count": 24,
   "metadata": {
    "colab": {
     "base_uri": "https://localhost:8080/",
     "height": 268
    },
    "executionInfo": {
     "elapsed": 596,
     "status": "ok",
     "timestamp": 1640177900390,
     "user": {
      "displayName": "Mateo Forjan",
      "photoUrl": "https://lh3.googleusercontent.com/a/default-user=s64",
      "userId": "06372541481818120502"
     },
     "user_tz": -60
    },
    "id": "u7DIWlaU3X1o",
    "outputId": "81f911bf-edfb-4a66-dd78-acca9fafead7"
   },
   "outputs": [
    {
     "data": {
      "image/png": "[encoded data removed]",
      "text/plain": [
       "<Figure size 432x288 with 1 Axes>"
      ]
     },
     "metadata": {
      "needs_background": "light"
     },
     "output_type": "display_data"
    }
   ],
   "source": [
    "visualize_neural(80)"
   ]
  },
  {
   "cell_type": "code",
   "execution_count": 25,
   "metadata": {
    "executionInfo": {
     "elapsed": 3,
     "status": "ok",
     "timestamp": 1640177901148,
     "user": {
      "displayName": "Mateo Forjan",
      "photoUrl": "https://lh3.googleusercontent.com/a/default-user=s64",
      "userId": "06372541481818120502"
     },
     "user_tz": -60
    },
    "id": "7y725PJ-HIqu"
   },
   "outputs": [],
   "source": [
    "# INTERFERE WITH DATA HERE"
   ]
  },
  {
   "cell_type": "code",
   "execution_count": 26,
   "metadata": {
    "executionInfo": {
     "elapsed": 1,
     "status": "ok",
     "timestamp": 1640177901903,
     "user": {
      "displayName": "Mateo Forjan",
      "photoUrl": "https://lh3.googleusercontent.com/a/default-user=s64",
      "userId": "06372541481818120502"
     },
     "user_tz": -60
    },
    "id": "9SnsdXcpHIly"
   },
   "outputs": [],
   "source": [
    "## ADDING NOISE ##\n",
    "\n",
    "def add_noise_plot(i,factor):\n",
    "    \n",
    "    img = neural_images[i,:,:,:]\n",
    "    img_noise = img.copy()\n",
    "            \n",
    "    img_noise = img[:,:,0] + factor*np.random.rand(img.shape[0],img.shape[1]) #najbolje uzeti 0.1\n",
    "    np.reshape(img_noise,newshape=(96,96,1))\n",
    "    \n",
    "    f, axarr = plt.subplots(1,2)\n",
    "    axarr[0].imshow(img.reshape(96,96),cmap='gray')\n",
    "    axarr[1].imshow(img_noise.reshape(96,96),cmap='gray')\n",
    "    \n",
    "    \n",
    "def add_noise(i,factor):\n",
    "    \n",
    "    img = neural_images[i,:,:,:]\n",
    "    img_noise = img.copy()\n",
    "            \n",
    "    img_noise = img[:,:,0] + factor*np.random.rand(img.shape[0],img.shape[1]) #najbolje uzeti 0.1\n",
    "    np.reshape(img_noise,newshape=(96,96,1))\n",
    "    \n",
    "    features = Labels_mean.loc[i]\n",
    "    \n",
    "    return features,img_noise"
   ]
  },
  {
   "cell_type": "code",
   "execution_count": 27,
   "metadata": {
    "colab": {
     "base_uri": "https://localhost:8080/",
     "height": 203
    },
    "executionInfo": {
     "elapsed": 644,
     "status": "ok",
     "timestamp": 1640177903595,
     "user": {
      "displayName": "Mateo Forjan",
      "photoUrl": "https://lh3.googleusercontent.com/a/default-user=s64",
      "userId": "06372541481818120502"
     },
     "user_tz": -60
    },
    "id": "VC8K0UuN3X1p",
    "outputId": "4fda4c1b-726e-4cd7-a4cf-9061f4f4f970"
   },
   "outputs": [
    {
     "data": {
      "image/png": "[encoded data removed]",
      "text/plain": [
       "<Figure size 432x288 with 2 Axes>"
      ]
     },
     "metadata": {
      "needs_background": "light"
     },
     "output_type": "display_data"
    }
   ],
   "source": [
    "add_noise_plot(25,0.1)"
   ]
  },
  {
   "cell_type": "code",
   "execution_count": 28,
   "metadata": {
    "executionInfo": {
     "elapsed": 1,
     "status": "ok",
     "timestamp": 1640177903773,
     "user": {
      "displayName": "Mateo Forjan",
      "photoUrl": "https://lh3.googleusercontent.com/a/default-user=s64",
      "userId": "06372541481818120502"
     },
     "user_tz": -60
    },
    "id": "jL6ukDeoHIS2"
   },
   "outputs": [],
   "source": [
    "def add_brightness_plot(i,factor):\n",
    "\n",
    "    img = neural_images[i,:,:,:]\n",
    "    img_bright = img.copy()\n",
    "            \n",
    "    img_bright = img[:,:,0] + np.ones(shape=(img.shape[0],img.shape[1]))*(factor*(np.random.rand(1)[0]-0.5)) #najbolje uzeti 1.5\n",
    "    img_bright = np.clip(img_bright,0,1)\n",
    "    np.reshape(img_bright,newshape=(96,96,1))\n",
    "    \n",
    "    f, axarr = plt.subplots(1,2)\n",
    "    axarr[0].imshow(img.reshape(96,96),cmap='gray')\n",
    "    axarr[1].imshow(img_bright.reshape(96,96),cmap='gray')\n",
    "    \n",
    "def add_brightness(i,factor):\n",
    "\n",
    "    img = neural_images[i,:,:,:]\n",
    "    img_bright = img.copy()\n",
    "            \n",
    "    img_bright = img[:,:,0] + np.ones(shape=(img.shape[0],img.shape[1]))*(factor*(np.random.rand(1)[0]-0.5)) #najbolje uzeti 1.5\n",
    "    img_bright = np.clip(img_bright,0,1)\n",
    "    np.reshape(img_bright,newshape=(96,96,1))\n",
    "    \n",
    "    features = Labels_mean.loc[i]\n",
    "    \n",
    "    return features,img_bright"
   ]
  },
  {
   "cell_type": "code",
   "execution_count": 29,
   "metadata": {
    "colab": {
     "base_uri": "https://localhost:8080/",
     "height": 203
    },
    "executionInfo": {
     "elapsed": 785,
     "status": "ok",
     "timestamp": 1640177906139,
     "user": {
      "displayName": "Mateo Forjan",
      "photoUrl": "https://lh3.googleusercontent.com/a/default-user=s64",
      "userId": "06372541481818120502"
     },
     "user_tz": -60
    },
    "id": "-p230f-dHPL2",
    "outputId": "e863c20f-b81a-46a3-deca-f4a019cfd55c"
   },
   "outputs": [
    {
     "data": {
      "image/png": "[encoded data removed]",
      "text/plain": [
       "<Figure size 432x288 with 2 Axes>"
      ]
     },
     "metadata": {
      "needs_background": "light"
     },
     "output_type": "display_data"
    }
   ],
   "source": [
    "add_brightness_plot(10,1.5)"
   ]
  },
  {
   "cell_type": "code",
   "execution_count": 30,
   "metadata": {
    "executionInfo": {
     "elapsed": 184,
     "status": "ok",
     "timestamp": 1640177907350,
     "user": {
      "displayName": "Mateo Forjan",
      "photoUrl": "https://lh3.googleusercontent.com/a/default-user=s64",
      "userId": "06372541481818120502"
     },
     "user_tz": -60
    },
    "id": "b5kO236eHO28"
   },
   "outputs": [],
   "source": [
    "def add_flip_plot(i):\n",
    "    img = neural_images[i,:,:,:]\n",
    "    img_flip = img.copy()\n",
    "            \n",
    "    img_flip = np.flip(img,axis=1)\n",
    "    np.reshape(img_flip,newshape=(96,96,1))\n",
    "    \n",
    "    f, axarr = plt.subplots(1,2)\n",
    "    axarr[0].imshow(img.reshape(96,96),cmap='gray')\n",
    "    axarr[1].imshow(img_flip.reshape(96,96),cmap='gray')\n",
    "    \n",
    "# def add_flip_plot(i):\n",
    "#     img = neural_images[i,:,:,:]\n",
    "#     img_flip = img.copy()\n",
    "            \n",
    "#     img_flip = np.flip(img,axis=1)\n",
    "#     np.reshape(img_flip,newshape=(96,96,1))\n",
    "    \n",
    "#     features = "
   ]
  },
  {
   "cell_type": "code",
   "execution_count": 31,
   "metadata": {
    "colab": {
     "base_uri": "https://localhost:8080/",
     "height": 203
    },
    "executionInfo": {
     "elapsed": 858,
     "status": "ok",
     "timestamp": 1640177908788,
     "user": {
      "displayName": "Mateo Forjan",
      "photoUrl": "https://lh3.googleusercontent.com/a/default-user=s64",
      "userId": "06372541481818120502"
     },
     "user_tz": -60
    },
    "id": "_o8kL7fF3X1r",
    "outputId": "7f7a5022-985b-4646-c994-3ed0f8b34ad5"
   },
   "outputs": [
    {
     "data": {
      "image/png": "[encoded data removed]",
      "text/plain": [
       "<Figure size 432x288 with 2 Axes>"
      ]
     },
     "metadata": {
      "needs_background": "light"
     },
     "output_type": "display_data"
    }
   ],
   "source": [
    "add_flip_plot(10)"
   ]
  },
  {
   "cell_type": "code",
   "execution_count": 32,
   "metadata": {
    "executionInfo": {
     "elapsed": 3,
     "status": "ok",
     "timestamp": 1640177909001,
     "user": {
      "displayName": "Mateo Forjan",
      "photoUrl": "https://lh3.googleusercontent.com/a/default-user=s64",
      "userId": "06372541481818120502"
     },
     "user_tz": -60
    },
    "id": "gOLFC6ma3X1r"
   },
   "outputs": [],
   "source": [
    "### CREATING AN INTERFERED TRAIN SET ###"
   ]
  },
  {
   "cell_type": "code",
   "execution_count": 33,
   "metadata": {
    "executionInfo": {
     "elapsed": 21745,
     "status": "ok",
     "timestamp": 1640177931326,
     "user": {
      "displayName": "Mateo Forjan",
      "photoUrl": "https://lh3.googleusercontent.com/a/default-user=s64",
      "userId": "06372541481818120502"
     },
     "user_tz": -60
    },
    "id": "Q7Vn9rDt3X1r"
   },
   "outputs": [],
   "source": [
    "## CREATING A NOISED FEATURES AND IMAGES\n",
    "\n",
    "Images_interfered_noise = pd.DataFrame(columns=Labels_mean.columns)\n",
    "neural_images_interfered_noise = []\n",
    "\n",
    "for i in range(neural_images.shape[0]):\n",
    "    a = pd.DataFrame(np.array(add_noise(i,0.1)[0]).reshape(1,-1),columns = add_noise(i,0.1)[0].to_frame().reset_index()['index']) # DATA FRAME WITH INTERFERED FEATURES\n",
    "    #adding interfered features\n",
    "    Images_interfered_noise = pd.concat([Images_interfered_noise,a],axis=0)\n",
    "    #adding an image\n",
    "    neural_images_interfered_noise.append(add_noise(i,0.1)[1])\n",
    "    \n",
    "    \n",
    "Images_interfered_noise = Images_interfered_noise.reset_index().drop(columns=['index']) # WITHOUT THAT ALL OF THEM HAVE THE SAME INDEX           # FEATURES\n",
    "neural_images_interfered_noise = np.array(neural_images_interfered_noise).reshape(-1,96,96,1)      #IMAGE"
   ]
  },
  {
   "cell_type": "code",
   "execution_count": 34,
   "metadata": {
    "colab": {
     "base_uri": "https://localhost:8080/"
    },
    "executionInfo": {
     "elapsed": 172,
     "status": "ok",
     "timestamp": 1640177933986,
     "user": {
      "displayName": "Mateo Forjan",
      "photoUrl": "https://lh3.googleusercontent.com/a/default-user=s64",
      "userId": "06372541481818120502"
     },
     "user_tz": -60
    },
    "id": "PLH9OlF63X1r",
    "outputId": "47aaa52d-d6dd-4539-d456-3872ba503c4d"
   },
   "outputs": [
    {
     "data": {
      "text/plain": [
       "(7049, 96, 96, 1)"
      ]
     },
     "execution_count": 34,
     "metadata": {},
     "output_type": "execute_result"
    }
   ],
   "source": [
    "neural_images_interfered_noise.shape"
   ]
  },
  {
   "cell_type": "code",
   "execution_count": 35,
   "metadata": {
    "executionInfo": {
     "elapsed": 3,
     "status": "ok",
     "timestamp": 1640177934745,
     "user": {
      "displayName": "Mateo Forjan",
      "photoUrl": "https://lh3.googleusercontent.com/a/default-user=s64",
      "userId": "06372541481818120502"
     },
     "user_tz": -60
    },
    "id": "pIGyU0Og3X1s"
   },
   "outputs": [],
   "source": [
    "def visualize_neural_noised(i):\n",
    "    img = neural_images_interfered_noise[i,:,:,0]\n",
    "    plt.imshow(img,cmap='gray')\n",
    "    \n",
    "    columns = Labels.columns\n",
    "    for a in range(0,Labels.shape[1],2):\n",
    "        plt.plot(Labels[columns[a]][i],Labels[columns[a+1]][i], 'X',color='w',markersize=10)"
   ]
  },
  {
   "cell_type": "code",
   "execution_count": 36,
   "metadata": {
    "colab": {
     "base_uri": "https://localhost:8080/",
     "height": 268
    },
    "executionInfo": {
     "elapsed": 525,
     "status": "ok",
     "timestamp": 1640177936889,
     "user": {
      "displayName": "Mateo Forjan",
      "photoUrl": "https://lh3.googleusercontent.com/a/default-user=s64",
      "userId": "06372541481818120502"
     },
     "user_tz": -60
    },
    "id": "w8BD5eQ23X1s",
    "outputId": "afab5a75-b0b3-4e68-8725-009baff997e5"
   },
   "outputs": [
    {
     "data": {
      "image/png": "[encoded data removed]",
      "text/plain": [
       "<Figure size 432x288 with 1 Axes>"
      ]
     },
     "metadata": {
      "needs_background": "light"
     },
     "output_type": "display_data"
    }
   ],
   "source": [
    "visualize_neural_noised(80)"
   ]
  },
  {
   "cell_type": "code",
   "execution_count": 37,
   "metadata": {
    "executionInfo": {
     "elapsed": 22436,
     "status": "ok",
     "timestamp": 1640177959946,
     "user": {
      "displayName": "Mateo Forjan",
      "photoUrl": "https://lh3.googleusercontent.com/a/default-user=s64",
      "userId": "06372541481818120502"
     },
     "user_tz": -60
    },
    "id": "id96Uv9z3X1s"
   },
   "outputs": [],
   "source": [
    "## CREATING A BRIGHTNESSED FEATURES AND IMAGES\n",
    "\n",
    "Images_interfered_brightness = pd.DataFrame(columns=Labels_mean.columns)\n",
    "neural_images_interfered_brightness = []\n",
    "\n",
    "for i in range(neural_images.shape[0]):\n",
    "    a = pd.DataFrame(np.array(add_brightness(i,1.5)[0]).reshape(1,-1),columns = add_brightness(i,1.5)[0].to_frame().reset_index()['index']) # DATA FRAME WITH INTERFERED FEATURES\n",
    "    #adding interfered features\n",
    "    Images_interfered_brightness = pd.concat([Images_interfered_brightness,a],axis=0)\n",
    "    #adding an image\n",
    "    neural_images_interfered_brightness.append(add_brightness(i,1.5)[1])\n",
    "    \n",
    "    \n",
    "Images_interfered_brightness = Images_interfered_brightness.reset_index().drop(columns=['index']) # WITHOUT THAT ALL OF THEM HAVE THE SAME INDEX      #FEATURES\n",
    "neural_images_interfered_brightness = np.array(neural_images_interfered_brightness).reshape(-1,96,96,1)                                                #IMAGES"
   ]
  },
  {
   "cell_type": "code",
   "execution_count": 38,
   "metadata": {
    "colab": {
     "base_uri": "https://localhost:8080/"
    },
    "executionInfo": {
     "elapsed": 10,
     "status": "ok",
     "timestamp": 1640177959947,
     "user": {
      "displayName": "Mateo Forjan",
      "photoUrl": "https://lh3.googleusercontent.com/a/default-user=s64",
      "userId": "06372541481818120502"
     },
     "user_tz": -60
    },
    "id": "1mPIU4FJ3X1s",
    "outputId": "69dce78e-0ceb-4aa4-fd12-9752a4c01785"
   },
   "outputs": [
    {
     "data": {
      "text/plain": [
       "(7049, 96, 96, 1)"
      ]
     },
     "execution_count": 38,
     "metadata": {},
     "output_type": "execute_result"
    }
   ],
   "source": [
    "neural_images_interfered_brightness.shape"
   ]
  },
  {
   "cell_type": "code",
   "execution_count": 39,
   "metadata": {
    "executionInfo": {
     "elapsed": 9,
     "status": "ok",
     "timestamp": 1640177959947,
     "user": {
      "displayName": "Mateo Forjan",
      "photoUrl": "https://lh3.googleusercontent.com/a/default-user=s64",
      "userId": "06372541481818120502"
     },
     "user_tz": -60
    },
    "id": "TIE9AEm53X1t"
   },
   "outputs": [],
   "source": [
    "def visualize_neural_brightness(i):\n",
    "    img = neural_images_interfered_brightness[i,:,:,0]\n",
    "    plt.imshow(img,cmap='gray')\n",
    "    \n",
    "    columns = Labels.columns\n",
    "    for a in range(0,Labels.shape[1],2):\n",
    "        plt.plot(Labels[columns[a]][i],Labels[columns[a+1]][i], 'X',color='w',markersize=10)"
   ]
  },
  {
   "cell_type": "code",
   "execution_count": 40,
   "metadata": {
    "colab": {
     "base_uri": "https://localhost:8080/",
     "height": 268
    },
    "executionInfo": {
     "elapsed": 357,
     "status": "ok",
     "timestamp": 1640177960295,
     "user": {
      "displayName": "Mateo Forjan",
      "photoUrl": "https://lh3.googleusercontent.com/a/default-user=s64",
      "userId": "06372541481818120502"
     },
     "user_tz": -60
    },
    "id": "PMjVvSQp3X1t",
    "outputId": "ad2ecebe-af2f-4ca2-ad3a-e03af75cb0d8"
   },
   "outputs": [
    {
     "data": {
      "image/png": "[encoded data removed]",
      "text/plain": [
       "<Figure size 432x288 with 1 Axes>"
      ]
     },
     "metadata": {
      "needs_background": "light"
     },
     "output_type": "display_data"
    }
   ],
   "source": [
    "visualize_neural_brightness(80)"
   ]
  },
  {
   "cell_type": "code",
   "execution_count": 41,
   "metadata": {
    "colab": {
     "base_uri": "https://localhost:8080/"
    },
    "executionInfo": {
     "elapsed": 1051,
     "status": "ok",
     "timestamp": 1640177964345,
     "user": {
      "displayName": "Mateo Forjan",
      "photoUrl": "https://lh3.googleusercontent.com/a/default-user=s64",
      "userId": "06372541481818120502"
     },
     "user_tz": -60
    },
    "id": "J_ZEGxx43X1t",
    "outputId": "506597bb-4ec1-4b7f-8015-6d7cc2b0bb05"
   },
   "outputs": [
    {
     "data": {
      "text/plain": [
       "(21147, 96, 96, 1)"
      ]
     },
     "execution_count": 41,
     "metadata": {},
     "output_type": "execute_result"
    }
   ],
   "source": [
    "neural_images_n_b = np.concatenate((neural_images,neural_images_interfered_noise,neural_images_interfered_brightness)) #original data, noised and brightened\n",
    "neural_images_n_b.shape"
   ]
  },
  {
   "cell_type": "code",
   "execution_count": 42,
   "metadata": {
    "colab": {
     "base_uri": "https://localhost:8080/"
    },
    "executionInfo": {
     "elapsed": 8,
     "status": "ok",
     "timestamp": 1640177965051,
     "user": {
      "displayName": "Mateo Forjan",
      "photoUrl": "https://lh3.googleusercontent.com/a/default-user=s64",
      "userId": "06372541481818120502"
     },
     "user_tz": -60
    },
    "id": "3Mq4YJcn3X1t",
    "outputId": "7839de5a-0718-4350-d20a-7ffa7f340a91"
   },
   "outputs": [
    {
     "data": {
      "text/plain": [
       "(21147, 30)"
      ]
     },
     "execution_count": 42,
     "metadata": {},
     "output_type": "execute_result"
    }
   ],
   "source": [
    "Labels_n_b = pd.concat([Labels_mean,Images_interfered_noise,Images_interfered_brightness])\n",
    "Labels_n_b.shape"
   ]
  },
  {
   "cell_type": "code",
   "execution_count": 43,
   "metadata": {
    "executionInfo": {
     "elapsed": 206,
     "status": "ok",
     "timestamp": 1640177966843,
     "user": {
      "displayName": "Mateo Forjan",
      "photoUrl": "https://lh3.googleusercontent.com/a/default-user=s64",
      "userId": "06372541481818120502"
     },
     "user_tz": -60
    },
    "id": "NaFGyOBfMqBT"
   },
   "outputs": [],
   "source": [
    "del Labels\n",
    "del neural_images\n",
    "del neural_images_interfered_noise\n",
    "del neural_images_interfered_brightness\n",
    "del Images_interfered_noise\n",
    "del Images_interfered_brightness"
   ]
  },
  {
   "cell_type": "code",
   "execution_count": 44,
   "metadata": {
    "executionInfo": {
     "elapsed": 1,
     "status": "ok",
     "timestamp": 1640177967149,
     "user": {
      "displayName": "Mateo Forjan",
      "photoUrl": "https://lh3.googleusercontent.com/a/default-user=s64",
      "userId": "06372541481818120502"
     },
     "user_tz": -60
    },
    "id": "DkE4_vOINR6-"
   },
   "outputs": [],
   "source": [
    "import gc"
   ]
  },
  {
   "cell_type": "code",
   "execution_count": 45,
   "metadata": {
    "colab": {
     "base_uri": "https://localhost:8080/"
    },
    "executionInfo": {
     "elapsed": 2,
     "status": "ok",
     "timestamp": 1640177967939,
     "user": {
      "displayName": "Mateo Forjan",
      "photoUrl": "https://lh3.googleusercontent.com/a/default-user=s64",
      "userId": "06372541481818120502"
     },
     "user_tz": -60
    },
    "id": "27A2FBJYM_eG",
    "outputId": "d60307a5-e67b-44a5-eea8-4c729079dc77"
   },
   "outputs": [
    {
     "data": {
      "text/plain": [
       "26076"
      ]
     },
     "execution_count": 45,
     "metadata": {},
     "output_type": "execute_result"
    }
   ],
   "source": [
    "gc.collect()"
   ]
  },
  {
   "cell_type": "code",
   "execution_count": 46,
   "metadata": {
    "executionInfo": {
     "elapsed": 252,
     "status": "ok",
     "timestamp": 1640177974457,
     "user": {
      "displayName": "Mateo Forjan",
      "photoUrl": "https://lh3.googleusercontent.com/a/default-user=s64",
      "userId": "06372541481818120502"
     },
     "user_tz": -60
    },
    "id": "HQQeYlBd3X1u"
   },
   "outputs": [],
   "source": [
    "## TRAIN TEST SPLIT (TRAIN-VALID SPLIT)"
   ]
  },
  {
   "cell_type": "code",
   "execution_count": 47,
   "metadata": {
    "executionInfo": {
     "elapsed": 2150,
     "status": "ok",
     "timestamp": 1640177976892,
     "user": {
      "displayName": "Mateo Forjan",
      "photoUrl": "https://lh3.googleusercontent.com/a/default-user=s64",
      "userId": "06372541481818120502"
     },
     "user_tz": -60
    },
    "id": "KqpnUt6f6cnp"
   },
   "outputs": [],
   "source": [
    "from sklearn.model_selection import train_test_split"
   ]
  },
  {
   "cell_type": "code",
   "execution_count": 48,
   "metadata": {
    "executionInfo": {
     "elapsed": 1348,
     "status": "ok",
     "timestamp": 1640177978238,
     "user": {
      "displayName": "Mateo Forjan",
      "photoUrl": "https://lh3.googleusercontent.com/a/default-user=s64",
      "userId": "06372541481818120502"
     },
     "user_tz": -60
    },
    "id": "d8bdfZjm6eaB"
   },
   "outputs": [],
   "source": [
    "X_train, X_test, y_train, y_test = train_test_split(neural_images_n_b, Labels_n_b, test_size=0.4, random_state=25)"
   ]
  },
  {
   "cell_type": "code",
   "execution_count": 49,
   "metadata": {
    "executionInfo": {
     "elapsed": 5779,
     "status": "ok",
     "timestamp": 1640177984016,
     "user": {
      "displayName": "Mateo Forjan",
      "photoUrl": "https://lh3.googleusercontent.com/a/default-user=s64",
      "userId": "06372541481818120502"
     },
     "user_tz": -60
    },
    "id": "4dlLCqqn6Wqi"
   },
   "outputs": [],
   "source": [
    "from tensorflow.keras.models import Sequential"
   ]
  },
  {
   "cell_type": "code",
   "execution_count": 50,
   "metadata": {
    "executionInfo": {
     "elapsed": 4,
     "status": "ok",
     "timestamp": 1640177984017,
     "user": {
      "displayName": "Mateo Forjan",
      "photoUrl": "https://lh3.googleusercontent.com/a/default-user=s64",
      "userId": "06372541481818120502"
     },
     "user_tz": -60
    },
    "id": "_cxIRYtU6YkR"
   },
   "outputs": [],
   "source": [
    "from tensorflow.keras.layers import Conv2D,Dropout,Dense,Flatten,MaxPooling2D, BatchNormalization"
   ]
  },
  {
   "cell_type": "code",
   "execution_count": 51,
   "metadata": {
    "executionInfo": {
     "elapsed": 3480,
     "status": "ok",
     "timestamp": 1640177987494,
     "user": {
      "displayName": "Mateo Forjan",
      "photoUrl": "https://lh3.googleusercontent.com/a/default-user=s64",
      "userId": "06372541481818120502"
     },
     "user_tz": -60
    },
    "id": "ZIvtb2mW6Zu5"
   },
   "outputs": [],
   "source": [
    "# more complicated model\n",
    "\n",
    "# model = Sequential()\n",
    "\n",
    "# model.add(Conv2D(filters = 32,kernel_size=(2,2),activation='relu',input_shape=(96,96,1)))\n",
    "# model.add(BatchNormalization())\n",
    "# model.add(MaxPooling2D(pool_size=(2,2)))\n",
    "\n",
    "# model.add(Conv2D(filters = 64,kernel_size=(2,2),activation='relu'))\n",
    "# model.add(BatchNormalization())\n",
    "# model.add(MaxPooling2D(pool_size=(2,2)))\n",
    "# model.add(Dropout(0.5))\n",
    "\n",
    "# model.add(Conv2D(filters = 128,kernel_size=(2,2),activation='relu'))\n",
    "# model.add(BatchNormalization())\n",
    "# model.add(MaxPooling2D(pool_size=(2,2)))\n",
    "\n",
    "# model.add(Conv2D(filters = 256,kernel_size=(2,2),activation='relu'))\n",
    "# model.add(BatchNormalization())\n",
    "# model.add(MaxPooling2D(pool_size=(2,2)))\n",
    "# model.add(Dropout(0.4))\n",
    "\n",
    "# model.add(Conv2D(filters = 512,kernel_size=(2,2),activation='relu'))\n",
    "# model.add(MaxPooling2D(pool_size=(2,2)))\n",
    "\n",
    "# model.add(Flatten())\n",
    "\n",
    "# model.add(Dense(512,activation='relu'))\n",
    "\n",
    "# model.add(Dropout(0.5))\n",
    "\n",
    "# model.add(Dense(units=30))\n",
    "\n",
    "## DAJE CUDNE KRIVULJE\n",
    "\n",
    "# model = Sequential()\n",
    "\n",
    "# model.add(Conv2D(filters = 4,kernel_size=(3,3),activation='relu',input_shape=(96,96,1)))\n",
    "# model.add(Conv2D(filters = 16,kernel_size=(3,3),activation='relu'))\n",
    "# model.add(BatchNormalization())\n",
    "# model.add(Dropout(0.5))\n",
    "\n",
    "# model.add(Conv2D(filters = 32,kernel_size=(3,3),activation='relu'))\n",
    "# model.add(BatchNormalization())\n",
    "\n",
    "# model.add(Conv2D(filters = 64,kernel_size=(3,3),activation='relu'))\n",
    "# model.add(BatchNormalization())\n",
    "# model.add(MaxPooling2D(pool_size=(2,2)))\n",
    "# model.add(Dropout(0.4))\n",
    "\n",
    "# model.add(Conv2D(filters = 128,kernel_size=(3,3),activation='relu'))\n",
    "# model.add(BatchNormalization())\n",
    "# model.add(MaxPooling2D(pool_size=(2,2)))\n",
    "\n",
    "# model.add(Conv2D(filters = 256,kernel_size=(3,3),activation='relu'))\n",
    "# model.add(BatchNormalization())\n",
    "# model.add(MaxPooling2D(pool_size=(2,2)))\n",
    "\n",
    "# model.add(Conv2D(filters = 512,kernel_size=(3,3),activation='relu'))\n",
    "# model.add(BatchNormalization())\n",
    "# model.add(MaxPooling2D(pool_size=(2,2)))\n",
    "\n",
    "# model.add(Flatten())\n",
    "\n",
    "# model.add(Dense(512,activation='relu'))\n",
    "\n",
    "# model.add(Dropout(0.5))\n",
    "\n",
    "# model.add(Dense(units=30))\n",
    "\n",
    "model = Sequential()\n",
    "\n",
    "model.add(Conv2D(filters = 4,kernel_size=(3,3),activation='relu',input_shape=(96,96,1)))\n",
    "model.add(Conv2D(filters = 16,kernel_size=(3,3),activation='relu'))\n",
    "model.add(BatchNormalization())\n",
    "model.add(MaxPooling2D(pool_size=(2,2)))\n",
    "model.add(Dropout(0.5))\n",
    "\n",
    "model.add(Conv2D(filters = 16,kernel_size=(3,3),activation='relu'))\n",
    "model.add(BatchNormalization())\n",
    "\n",
    "model.add(Conv2D(filters = 32,kernel_size=(3,3),activation='relu'))\n",
    "model.add(BatchNormalization())\n",
    "\n",
    "model.add(Conv2D(filters = 64,kernel_size=(3,3),activation='relu'))\n",
    "model.add(MaxPooling2D(pool_size=(2,2)))\n",
    "\n",
    "model.add(Conv2D(filters = 128,kernel_size=(3,3),activation='relu'))\n",
    "model.add(BatchNormalization())\n",
    "\n",
    "model.add(Conv2D(filters = 256,kernel_size=(3,3),activation='relu'))\n",
    "model.add(BatchNormalization())\n",
    "model.add(MaxPooling2D(pool_size=(2,2)))\n",
    "\n",
    "model.add(Conv2D(filters = 512,kernel_size=(3,3),activation='relu'))\n",
    "model.add(MaxPooling2D(pool_size=(2,2)))\n",
    "\n",
    "model.add(Flatten())\n",
    "\n",
    "model.add(Dense(512,activation='relu'))\n",
    "\n",
    "model.add(Dropout(0.5))\n",
    "\n",
    "model.add(Dense(units=30))"
   ]
  },
  {
   "cell_type": "code",
   "execution_count": 52,
   "metadata": {
    "colab": {
     "base_uri": "https://localhost:8080/"
    },
    "executionInfo": {
     "elapsed": 4,
     "status": "ok",
     "timestamp": 1640177987494,
     "user": {
      "displayName": "Mateo Forjan",
      "photoUrl": "https://lh3.googleusercontent.com/a/default-user=s64",
      "userId": "06372541481818120502"
     },
     "user_tz": -60
    },
    "id": "IaJTR3jd6apJ",
    "outputId": "8bb545c7-2ade-487e-f828-6a0a5d9cdc85"
   },
   "outputs": [
    {
     "name": "stdout",
     "output_type": "stream",
     "text": [
      "Model: \"sequential\"\n",
      "_________________________________________________________________\n",
      " Layer (type)                Output Shape              Param #   \n",
      "=================================================================\n",
      " conv2d (Conv2D)             (None, 94, 94, 4)         40        \n",
      "                                                                 \n",
      " conv2d_1 (Conv2D)           (None, 92, 92, 16)        592       \n",
      "                                                                 \n",
      " batch_normalization (BatchN  (None, 92, 92, 16)       64        \n",
      " ormalization)                                                   \n",
      "                                                                 \n",
      " max_pooling2d (MaxPooling2D  (None, 46, 46, 16)       0         \n",
      " )                                                               \n",
      "                                                                 \n",
      " dropout (Dropout)           (None, 46, 46, 16)        0         \n",
      "                                                                 \n",
      " conv2d_2 (Conv2D)           (None, 44, 44, 16)        2320      \n",
      "                                                                 \n",
      " batch_normalization_1 (Batc  (None, 44, 44, 16)       64        \n",
      " hNormalization)                                                 \n",
      "                                                                 \n",
      " conv2d_3 (Conv2D)           (None, 42, 42, 32)        4640      \n",
      "                                                                 \n",
      " batch_normalization_2 (Batc  (None, 42, 42, 32)       128       \n",
      " hNormalization)                                                 \n",
      "                                                                 \n",
      " conv2d_4 (Conv2D)           (None, 40, 40, 64)        18496     \n",
      "                                                                 \n",
      " max_pooling2d_1 (MaxPooling  (None, 20, 20, 64)       0         \n",
      " 2D)                                                             \n",
      "                                                                 \n",
      " conv2d_5 (Conv2D)           (None, 18, 18, 128)       73856     \n",
      "                                                                 \n",
      " batch_normalization_3 (Batc  (None, 18, 18, 128)      512       \n",
      " hNormalization)                                                 \n",
      "                                                                 \n",
      " conv2d_6 (Conv2D)           (None, 16, 16, 256)       295168    \n",
      "                                                                 \n",
      " batch_normalization_4 (Batc  (None, 16, 16, 256)      1024      \n",
      " hNormalization)                                                 \n",
      "                                                                 \n",
      " max_pooling2d_2 (MaxPooling  (None, 8, 8, 256)        0         \n",
      " 2D)                                                             \n",
      "                                                                 \n",
      " conv2d_7 (Conv2D)           (None, 6, 6, 512)         1180160   \n",
      "                                                                 \n",
      " max_pooling2d_3 (MaxPooling  (None, 3, 3, 512)        0         \n",
      " 2D)                                                             \n",
      "                                                                 \n",
      " flatten (Flatten)           (None, 4608)              0         \n",
      "                                                                 \n",
      " dense (Dense)               (None, 512)               2359808   \n",
      "                                                                 \n",
      " dropout_1 (Dropout)         (None, 512)               0         \n",
      "                                                                 \n",
      " dense_1 (Dense)             (None, 30)                15390     \n",
      "                                                                 \n",
      "=================================================================\n",
      "Total params: 3,952,262\n",
      "Trainable params: 3,951,366\n",
      "Non-trainable params: 896\n",
      "_________________________________________________________________\n"
     ]
    }
   ],
   "source": [
    "model.summary()"
   ]
  },
  {
   "cell_type": "code",
   "execution_count": 53,
   "metadata": {
    "executionInfo": {
     "elapsed": 196,
     "status": "ok",
     "timestamp": 1640177990618,
     "user": {
      "displayName": "Mateo Forjan",
      "photoUrl": "https://lh3.googleusercontent.com/a/default-user=s64",
      "userId": "06372541481818120502"
     },
     "user_tz": -60
    },
    "id": "M8v2FEKt-Ahq"
   },
   "outputs": [],
   "source": [
    "model.compile(optimizer='adam',loss='mean_squared_error', metrics=['mae'])"
   ]
  },
  {
   "cell_type": "code",
   "execution_count": 54,
   "metadata": {
    "executionInfo": {
     "elapsed": 169,
     "status": "ok",
     "timestamp": 1640177991928,
     "user": {
      "displayName": "Mateo Forjan",
      "photoUrl": "https://lh3.googleusercontent.com/a/default-user=s64",
      "userId": "06372541481818120502"
     },
     "user_tz": -60
    },
    "id": "24SkLGDq78c4"
   },
   "outputs": [],
   "source": [
    "import keras"
   ]
  },
  {
   "cell_type": "code",
   "execution_count": 55,
   "metadata": {
    "executionInfo": {
     "elapsed": 185,
     "status": "ok",
     "timestamp": 1640177997449,
     "user": {
      "displayName": "Mateo Forjan",
      "photoUrl": "https://lh3.googleusercontent.com/a/default-user=s64",
      "userId": "06372541481818120502"
     },
     "user_tz": -60
    },
    "id": "TZL6w7UY6RtQ"
   },
   "outputs": [],
   "source": [
    "checkpoint_filepath = '/content/gdrive/MyDrive/Kaggle/'\n",
    "model_checkpoint_callback = keras.callbacks.ModelCheckpoint(\n",
    "    filepath=checkpoint_filepath,\n",
    "    save_weights_only=True,\n",
    "    monitor='val_loss',\n",
    "    mode='min',\n",
    "    save_best_only=True)"
   ]
  },
  {
   "cell_type": "code",
   "execution_count": 56,
   "metadata": {
    "colab": {
     "base_uri": "https://localhost:8080/"
    },
    "executionInfo": {
     "elapsed": 10765626,
     "status": "ok",
     "timestamp": 1640188771470,
     "user": {
      "displayName": "Mateo Forjan",
      "photoUrl": "https://lh3.googleusercontent.com/a/default-user=s64",
      "userId": "06372541481818120502"
     },
     "user_tz": -60
    },
    "id": "IKR1CPAV68kB",
    "outputId": "29c91837-16e3-400c-d447-c72228d47d30"
   },
   "outputs": [
    {
     "name": "stdout",
     "output_type": "stream",
     "text": [
      "Epoch 1/450\n",
      "397/397 - 33s - loss: 94.8574 - mae: 7.0348 - val_loss: 49.6259 - val_mae: 5.8671 - 33s/epoch - 82ms/step\n",
      "Epoch 2/450\n",
      "397/397 - 24s - loss: 38.6402 - mae: 4.6955 - val_loss: 38.3351 - val_mae: 4.7625 - 24s/epoch - 61ms/step\n",
      "Epoch 3/450\n",
      "397/397 - 25s - loss: 33.5233 - mae: 4.3219 - val_loss: 37.3956 - val_mae: 4.9250 - 25s/epoch - 64ms/step\n",
      "Epoch 4/450\n",
      "397/397 - 24s - loss: 29.5617 - mae: 4.0454 - val_loss: 30.3796 - val_mae: 4.3531 - 24s/epoch - 61ms/step\n",
      "Epoch 5/450\n",
      "397/397 - 24s - loss: 28.2855 - mae: 3.9508 - val_loss: 21.8925 - val_mae: 3.6383 - 24s/epoch - 61ms/step\n",
      "Epoch 6/450\n",
      "397/397 - 24s - loss: 27.7838 - mae: 3.9002 - val_loss: 119.2690 - val_mae: 9.0490 - 24s/epoch - 61ms/step\n",
      "Epoch 7/450\n",
      "397/397 - 24s - loss: 26.1980 - mae: 3.7880 - val_loss: 17.9847 - val_mae: 3.1773 - 24s/epoch - 61ms/step\n",
      "Epoch 8/450\n",
      "397/397 - 24s - loss: 26.4370 - mae: 3.8017 - val_loss: 10.4949 - val_mae: 2.0856 - 24s/epoch - 61ms/step\n",
      "Epoch 9/450\n",
      "397/397 - 24s - loss: 26.0941 - mae: 3.7723 - val_loss: 26.7519 - val_mae: 4.1204 - 24s/epoch - 60ms/step\n",
      "Epoch 10/450\n",
      "397/397 - 24s - loss: 25.1845 - mae: 3.7149 - val_loss: 20.9943 - val_mae: 3.2544 - 24s/epoch - 60ms/step\n",
      "Epoch 11/450\n",
      "397/397 - 25s - loss: 25.9516 - mae: 3.7654 - val_loss: 10.3167 - val_mae: 2.1268 - 25s/epoch - 64ms/step\n",
      "Epoch 12/450\n",
      "397/397 - 24s - loss: 25.5164 - mae: 3.7386 - val_loss: 21.7388 - val_mae: 3.5832 - 24s/epoch - 60ms/step\n",
      "Epoch 13/450\n",
      "397/397 - 24s - loss: 25.6154 - mae: 3.7406 - val_loss: 16.5102 - val_mae: 3.0084 - 24s/epoch - 60ms/step\n",
      "Epoch 14/450\n",
      "397/397 - 24s - loss: 25.0568 - mae: 3.6957 - val_loss: 15.0461 - val_mae: 2.6974 - 24s/epoch - 60ms/step\n",
      "Epoch 15/450\n",
      "397/397 - 25s - loss: 24.3760 - mae: 3.6447 - val_loss: 10.4580 - val_mae: 2.0969 - 25s/epoch - 63ms/step\n",
      "Epoch 16/450\n",
      "397/397 - 24s - loss: 25.0931 - mae: 3.6991 - val_loss: 17.8222 - val_mae: 3.2659 - 24s/epoch - 60ms/step\n",
      "Epoch 17/450\n",
      "397/397 - 24s - loss: 25.0246 - mae: 3.6993 - val_loss: 12.5038 - val_mae: 2.5554 - 24s/epoch - 60ms/step\n",
      "Epoch 18/450\n",
      "397/397 - 25s - loss: 24.5229 - mae: 3.6536 - val_loss: 14.3184 - val_mae: 2.7589 - 25s/epoch - 63ms/step\n",
      "Epoch 19/450\n",
      "397/397 - 24s - loss: 24.0077 - mae: 3.6123 - val_loss: 9.3581 - val_mae: 1.9804 - 24s/epoch - 61ms/step\n",
      "Epoch 20/450\n",
      "397/397 - 24s - loss: 24.3034 - mae: 3.6341 - val_loss: 12.0506 - val_mae: 2.5135 - 24s/epoch - 60ms/step\n",
      "Epoch 21/450\n",
      "397/397 - 25s - loss: 23.4719 - mae: 3.5727 - val_loss: 11.6728 - val_mae: 2.4227 - 25s/epoch - 63ms/step\n",
      "Epoch 22/450\n",
      "397/397 - 25s - loss: 24.1662 - mae: 3.6329 - val_loss: 9.1718 - val_mae: 1.9881 - 25s/epoch - 64ms/step\n",
      "Epoch 23/450\n",
      "397/397 - 24s - loss: 24.0079 - mae: 3.6099 - val_loss: 9.2936 - val_mae: 1.9809 - 24s/epoch - 60ms/step\n",
      "Epoch 24/450\n",
      "397/397 - 24s - loss: 23.7201 - mae: 3.5960 - val_loss: 10.8531 - val_mae: 2.2342 - 24s/epoch - 60ms/step\n",
      "Epoch 25/450\n",
      "397/397 - 24s - loss: 23.4186 - mae: 3.5665 - val_loss: 8.9719 - val_mae: 1.9205 - 24s/epoch - 61ms/step\n",
      "Epoch 26/450\n",
      "397/397 - 25s - loss: 23.5621 - mae: 3.5800 - val_loss: 11.4631 - val_mae: 2.3888 - 25s/epoch - 63ms/step\n",
      "Epoch 27/450\n",
      "397/397 - 24s - loss: 23.8848 - mae: 3.6014 - val_loss: 11.7823 - val_mae: 2.4018 - 24s/epoch - 60ms/step\n",
      "Epoch 28/450\n",
      "397/397 - 24s - loss: 23.6381 - mae: 3.5829 - val_loss: 8.3171 - val_mae: 1.8175 - 24s/epoch - 61ms/step\n",
      "Epoch 29/450\n",
      "397/397 - 24s - loss: 23.5628 - mae: 3.5731 - val_loss: 10.6236 - val_mae: 2.2786 - 24s/epoch - 60ms/step\n",
      "Epoch 30/450\n",
      "397/397 - 24s - loss: 23.1709 - mae: 3.5423 - val_loss: 9.9359 - val_mae: 2.1591 - 24s/epoch - 60ms/step\n",
      "Epoch 31/450\n",
      "397/397 - 25s - loss: 22.7205 - mae: 3.5021 - val_loss: 8.8643 - val_mae: 1.8681 - 25s/epoch - 63ms/step\n",
      "Epoch 32/450\n",
      "397/397 - 24s - loss: 23.5327 - mae: 3.5846 - val_loss: 11.7666 - val_mae: 2.5087 - 24s/epoch - 60ms/step\n",
      "Epoch 33/450\n",
      "397/397 - 24s - loss: 22.9012 - mae: 3.5259 - val_loss: 8.0768 - val_mae: 1.7896 - 24s/epoch - 61ms/step\n",
      "Epoch 34/450\n",
      "397/397 - 24s - loss: 23.4807 - mae: 3.5765 - val_loss: 28.1422 - val_mae: 2.2529 - 24s/epoch - 60ms/step\n",
      "Epoch 35/450\n",
      "397/397 - 24s - loss: 23.0535 - mae: 3.5361 - val_loss: 14.5223 - val_mae: 2.9342 - 24s/epoch - 60ms/step\n",
      "Epoch 36/450\n",
      "397/397 - 24s - loss: 22.5420 - mae: 3.4977 - val_loss: 13.7756 - val_mae: 2.8540 - 24s/epoch - 60ms/step\n",
      "Epoch 37/450\n",
      "397/397 - 24s - loss: 22.5410 - mae: 3.5007 - val_loss: 36.7515 - val_mae: 2.3456 - 24s/epoch - 60ms/step\n",
      "Epoch 38/450\n",
      "397/397 - 24s - loss: 22.2145 - mae: 3.4832 - val_loss: 35.0370 - val_mae: 2.9169 - 24s/epoch - 60ms/step\n",
      "Epoch 39/450\n",
      "397/397 - 24s - loss: 22.1127 - mae: 3.4586 - val_loss: 24.5893 - val_mae: 2.3295 - 24s/epoch - 60ms/step\n",
      "Epoch 40/450\n",
      "397/397 - 24s - loss: 22.4931 - mae: 3.4907 - val_loss: 11.8672 - val_mae: 2.0972 - 24s/epoch - 60ms/step\n",
      "Epoch 41/450\n",
      "397/397 - 24s - loss: 22.2766 - mae: 3.4777 - val_loss: 9.9801 - val_mae: 2.2123 - 24s/epoch - 60ms/step\n",
      "Epoch 42/450\n",
      "397/397 - 25s - loss: 22.6218 - mae: 3.5096 - val_loss: 28.5950 - val_mae: 2.5396 - 25s/epoch - 63ms/step\n",
      "Epoch 43/450\n",
      "397/397 - 24s - loss: 21.6949 - mae: 3.4301 - val_loss: 27.1083 - val_mae: 2.0969 - 24s/epoch - 60ms/step\n",
      "Epoch 44/450\n",
      "397/397 - 24s - loss: 21.9494 - mae: 3.4495 - val_loss: 7.5387 - val_mae: 1.6986 - 24s/epoch - 61ms/step\n",
      "Epoch 45/450\n",
      "397/397 - 24s - loss: 22.3375 - mae: 3.4770 - val_loss: 7.5472 - val_mae: 1.6998 - 24s/epoch - 60ms/step\n",
      "Epoch 46/450\n",
      "397/397 - 24s - loss: 21.3088 - mae: 3.4006 - val_loss: 9.1806 - val_mae: 1.9557 - 24s/epoch - 60ms/step\n",
      "Epoch 47/450\n",
      "397/397 - 25s - loss: 21.5716 - mae: 3.4150 - val_loss: 8.3441 - val_mae: 1.9361 - 25s/epoch - 63ms/step\n",
      "Epoch 48/450\n",
      "397/397 - 24s - loss: 21.8690 - mae: 3.4447 - val_loss: 43.3969 - val_mae: 2.4143 - 24s/epoch - 60ms/step\n",
      "Epoch 49/450\n",
      "397/397 - 24s - loss: 21.8713 - mae: 3.4371 - val_loss: 24.2510 - val_mae: 1.8735 - 24s/epoch - 60ms/step\n",
      "Epoch 50/450\n",
      "397/397 - 24s - loss: 21.3796 - mae: 3.3940 - val_loss: 13.3505 - val_mae: 2.7576 - 24s/epoch - 60ms/step\n",
      "Epoch 51/450\n",
      "397/397 - 24s - loss: 21.5366 - mae: 3.4076 - val_loss: 7.6482 - val_mae: 1.6828 - 24s/epoch - 60ms/step\n",
      "Epoch 52/450\n",
      "397/397 - 24s - loss: 21.0928 - mae: 3.3709 - val_loss: 35.7596 - val_mae: 2.4066 - 24s/epoch - 60ms/step\n",
      "Epoch 53/450\n",
      "397/397 - 24s - loss: 20.7223 - mae: 3.3389 - val_loss: 6.8550 - val_mae: 1.5918 - 24s/epoch - 61ms/step\n",
      "Epoch 54/450\n",
      "397/397 - 24s - loss: 21.1954 - mae: 3.3842 - val_loss: 8.3669 - val_mae: 1.9740 - 24s/epoch - 60ms/step\n",
      "Epoch 55/450\n",
      "397/397 - 25s - loss: 21.2468 - mae: 3.3938 - val_loss: 9.2758 - val_mae: 2.1345 - 25s/epoch - 63ms/step\n",
      "Epoch 56/450\n",
      "397/397 - 24s - loss: 20.4819 - mae: 3.3233 - val_loss: 7.2504 - val_mae: 1.6812 - 24s/epoch - 60ms/step\n",
      "Epoch 57/450\n",
      "397/397 - 24s - loss: 21.0298 - mae: 3.3727 - val_loss: 7.7416 - val_mae: 1.7840 - 24s/epoch - 60ms/step\n",
      "Epoch 58/450\n",
      "397/397 - 24s - loss: 20.8768 - mae: 3.3607 - val_loss: 42.7270 - val_mae: 2.5817 - 24s/epoch - 60ms/step\n",
      "Epoch 59/450\n",
      "397/397 - 24s - loss: 20.7137 - mae: 3.3427 - val_loss: 7.5460 - val_mae: 1.7480 - 24s/epoch - 60ms/step\n",
      "Epoch 60/450\n",
      "397/397 - 24s - loss: 20.3067 - mae: 3.3146 - val_loss: 8.8726 - val_mae: 2.0487 - 24s/epoch - 60ms/step\n",
      "Epoch 61/450\n",
      "397/397 - 25s - loss: 20.4548 - mae: 3.3228 - val_loss: 6.6906 - val_mae: 1.6256 - 25s/epoch - 63ms/step\n",
      "Epoch 62/450\n",
      "397/397 - 24s - loss: 20.5948 - mae: 3.3299 - val_loss: 9.9426 - val_mae: 2.3010 - 24s/epoch - 60ms/step\n",
      "Epoch 63/450\n",
      "397/397 - 24s - loss: 20.3134 - mae: 3.3022 - val_loss: 9.0374 - val_mae: 2.0694 - 24s/epoch - 60ms/step\n",
      "Epoch 64/450\n",
      "397/397 - 24s - loss: 19.9988 - mae: 3.2880 - val_loss: 7.8224 - val_mae: 1.8665 - 24s/epoch - 60ms/step\n",
      "Epoch 65/450\n",
      "397/397 - 24s - loss: 20.1515 - mae: 3.2981 - val_loss: 7.7535 - val_mae: 1.8112 - 24s/epoch - 60ms/step\n",
      "Epoch 66/450\n",
      "397/397 - 25s - loss: 19.9426 - mae: 3.2809 - val_loss: 6.6078 - val_mae: 1.5747 - 25s/epoch - 64ms/step\n",
      "Epoch 67/450\n",
      "397/397 - 24s - loss: 20.0995 - mae: 3.2857 - val_loss: 7.2266 - val_mae: 1.7387 - 24s/epoch - 60ms/step\n",
      "Epoch 68/450\n",
      "397/397 - 25s - loss: 20.1697 - mae: 3.3016 - val_loss: 7.0132 - val_mae: 1.5889 - 25s/epoch - 63ms/step\n",
      "Epoch 69/450\n",
      "397/397 - 24s - loss: 19.3738 - mae: 3.2296 - val_loss: 6.6495 - val_mae: 1.6254 - 24s/epoch - 60ms/step\n",
      "Epoch 70/450\n",
      "397/397 - 24s - loss: 19.3844 - mae: 3.2205 - val_loss: 6.6516 - val_mae: 1.5793 - 24s/epoch - 60ms/step\n",
      "Epoch 71/450\n",
      "397/397 - 24s - loss: 19.6918 - mae: 3.2652 - val_loss: 7.8559 - val_mae: 1.9076 - 24s/epoch - 60ms/step\n",
      "Epoch 72/450\n",
      "397/397 - 24s - loss: 19.3657 - mae: 3.2234 - val_loss: 6.5345 - val_mae: 1.5487 - 24s/epoch - 61ms/step\n",
      "Epoch 73/450\n",
      "397/397 - 24s - loss: 19.0500 - mae: 3.1932 - val_loss: 6.8362 - val_mae: 1.7140 - 24s/epoch - 60ms/step\n",
      "Epoch 74/450\n",
      "397/397 - 24s - loss: 19.4487 - mae: 3.2389 - val_loss: 8.9033 - val_mae: 2.0706 - 24s/epoch - 60ms/step\n",
      "Epoch 75/450\n",
      "397/397 - 24s - loss: 19.5790 - mae: 3.2480 - val_loss: 7.5822 - val_mae: 1.7192 - 24s/epoch - 60ms/step\n",
      "Epoch 76/450\n",
      "397/397 - 24s - loss: 19.1241 - mae: 3.2105 - val_loss: 6.5758 - val_mae: 1.6136 - 24s/epoch - 60ms/step\n",
      "Epoch 77/450\n",
      "397/397 - 24s - loss: 19.2705 - mae: 3.2152 - val_loss: 6.5250 - val_mae: 1.5713 - 24s/epoch - 61ms/step\n",
      "Epoch 78/450\n",
      "397/397 - 24s - loss: 19.4984 - mae: 3.2426 - val_loss: 8.9995 - val_mae: 2.1590 - 24s/epoch - 60ms/step\n",
      "Epoch 79/450\n",
      "397/397 - 24s - loss: 18.9110 - mae: 3.1836 - val_loss: 6.8644 - val_mae: 1.6391 - 24s/epoch - 60ms/step\n",
      "Epoch 80/450\n",
      "397/397 - 24s - loss: 18.9905 - mae: 3.1943 - val_loss: 9.1324 - val_mae: 2.1210 - 24s/epoch - 60ms/step\n",
      "Epoch 81/450\n",
      "397/397 - 25s - loss: 18.7014 - mae: 3.1695 - val_loss: 9.6332 - val_mae: 2.2794 - 25s/epoch - 62ms/step\n",
      "Epoch 82/450\n",
      "397/397 - 25s - loss: 18.8861 - mae: 3.1944 - val_loss: 9.3564 - val_mae: 2.2412 - 25s/epoch - 63ms/step\n",
      "Epoch 83/450\n",
      "397/397 - 24s - loss: 18.5710 - mae: 3.1654 - val_loss: 7.2511 - val_mae: 1.7284 - 24s/epoch - 60ms/step\n",
      "Epoch 84/450\n",
      "397/397 - 24s - loss: 19.1653 - mae: 3.2117 - val_loss: 32.6037 - val_mae: 2.4986 - 24s/epoch - 60ms/step\n",
      "Epoch 85/450\n",
      "397/397 - 24s - loss: 18.6526 - mae: 3.1606 - val_loss: 7.0865 - val_mae: 1.7000 - 24s/epoch - 60ms/step\n",
      "Epoch 86/450\n",
      "397/397 - 24s - loss: 18.3809 - mae: 3.1388 - val_loss: 8.4389 - val_mae: 1.9584 - 24s/epoch - 61ms/step\n",
      "Epoch 87/450\n",
      "397/397 - 24s - loss: 18.6446 - mae: 3.1662 - val_loss: 6.2909 - val_mae: 1.6121 - 24s/epoch - 62ms/step\n",
      "Epoch 88/450\n",
      "397/397 - 24s - loss: 18.8883 - mae: 3.1887 - val_loss: 9.0403 - val_mae: 2.1657 - 24s/epoch - 60ms/step\n",
      "Epoch 89/450\n",
      "397/397 - 24s - loss: 18.4500 - mae: 3.1558 - val_loss: 6.3875 - val_mae: 1.4970 - 24s/epoch - 60ms/step\n",
      "Epoch 90/450\n",
      "397/397 - 24s - loss: 18.1113 - mae: 3.1092 - val_loss: 6.9730 - val_mae: 1.7350 - 24s/epoch - 60ms/step\n",
      "Epoch 91/450\n",
      "397/397 - 24s - loss: 18.1407 - mae: 3.1109 - val_loss: 7.9596 - val_mae: 1.9182 - 24s/epoch - 61ms/step\n",
      "Epoch 92/450\n",
      "397/397 - 24s - loss: 18.2686 - mae: 3.1228 - val_loss: 6.7022 - val_mae: 1.6409 - 24s/epoch - 60ms/step\n",
      "Epoch 93/450\n",
      "397/397 - 24s - loss: 18.0151 - mae: 3.1026 - val_loss: 6.2306 - val_mae: 1.5223 - 24s/epoch - 61ms/step\n",
      "Epoch 94/450\n",
      "397/397 - 25s - loss: 18.0717 - mae: 3.1157 - val_loss: 8.4603 - val_mae: 2.0423 - 25s/epoch - 63ms/step\n",
      "Epoch 95/450\n",
      "397/397 - 24s - loss: 18.1270 - mae: 3.1212 - val_loss: 6.1789 - val_mae: 1.4906 - 24s/epoch - 62ms/step\n",
      "Epoch 96/450\n",
      "397/397 - 25s - loss: 17.6930 - mae: 3.0725 - val_loss: 6.0785 - val_mae: 1.4862 - 25s/epoch - 64ms/step\n",
      "Epoch 97/450\n",
      "397/397 - 24s - loss: 17.6425 - mae: 3.0780 - val_loss: 6.1876 - val_mae: 1.5426 - 24s/epoch - 60ms/step\n",
      "Epoch 98/450\n",
      "397/397 - 24s - loss: 17.8974 - mae: 3.0937 - val_loss: 6.9353 - val_mae: 1.6959 - 24s/epoch - 61ms/step\n",
      "Epoch 99/450\n",
      "397/397 - 24s - loss: 17.5932 - mae: 3.0682 - val_loss: 6.0782 - val_mae: 1.5088 - 24s/epoch - 61ms/step\n",
      "Epoch 100/450\n",
      "397/397 - 24s - loss: 17.4819 - mae: 3.0569 - val_loss: 8.0661 - val_mae: 1.9796 - 24s/epoch - 60ms/step\n",
      "Epoch 101/450\n",
      "397/397 - 24s - loss: 17.4894 - mae: 3.0485 - val_loss: 13.5217 - val_mae: 2.0101 - 24s/epoch - 60ms/step\n",
      "Epoch 102/450\n",
      "397/397 - 24s - loss: 17.3812 - mae: 3.0517 - val_loss: 6.4453 - val_mae: 1.5516 - 24s/epoch - 60ms/step\n",
      "Epoch 103/450\n",
      "397/397 - 25s - loss: 17.5129 - mae: 3.0678 - val_loss: 7.5536 - val_mae: 1.8756 - 25s/epoch - 63ms/step\n",
      "Epoch 104/450\n",
      "397/397 - 24s - loss: 17.2628 - mae: 3.0250 - val_loss: 6.7292 - val_mae: 1.5533 - 24s/epoch - 60ms/step\n",
      "Epoch 105/450\n",
      "397/397 - 24s - loss: 16.8359 - mae: 3.0018 - val_loss: 7.4829 - val_mae: 1.8974 - 24s/epoch - 60ms/step\n",
      "Epoch 106/450\n",
      "397/397 - 24s - loss: 17.5489 - mae: 3.0561 - val_loss: 7.1639 - val_mae: 1.7806 - 24s/epoch - 60ms/step\n",
      "Epoch 107/450\n",
      "397/397 - 24s - loss: 16.8552 - mae: 2.9919 - val_loss: 6.1648 - val_mae: 1.4944 - 24s/epoch - 60ms/step\n",
      "Epoch 108/450\n",
      "397/397 - 24s - loss: 16.9913 - mae: 3.0016 - val_loss: 6.2219 - val_mae: 1.5067 - 24s/epoch - 60ms/step\n",
      "Epoch 109/450\n",
      "397/397 - 24s - loss: 16.6925 - mae: 2.9683 - val_loss: 7.8619 - val_mae: 1.9299 - 24s/epoch - 60ms/step\n",
      "Epoch 110/450\n",
      "397/397 - 24s - loss: 16.9721 - mae: 2.9983 - val_loss: 5.8925 - val_mae: 1.4386 - 24s/epoch - 61ms/step\n",
      "Epoch 111/450\n",
      "397/397 - 24s - loss: 16.7724 - mae: 2.9815 - val_loss: 6.2435 - val_mae: 1.5652 - 24s/epoch - 60ms/step\n",
      "Epoch 112/450\n",
      "397/397 - 24s - loss: 16.5079 - mae: 2.9631 - val_loss: 5.9723 - val_mae: 1.4930 - 24s/epoch - 60ms/step\n",
      "Epoch 113/450\n",
      "397/397 - 24s - loss: 16.6835 - mae: 2.9805 - val_loss: 6.5075 - val_mae: 1.6049 - 24s/epoch - 60ms/step\n",
      "Epoch 114/450\n",
      "397/397 - 24s - loss: 16.6403 - mae: 2.9707 - val_loss: 9.6987 - val_mae: 2.2861 - 24s/epoch - 60ms/step\n",
      "Epoch 115/450\n",
      "397/397 - 24s - loss: 16.7229 - mae: 2.9885 - val_loss: 5.6961 - val_mae: 1.4061 - 24s/epoch - 61ms/step\n",
      "Epoch 116/450\n",
      "397/397 - 24s - loss: 16.3074 - mae: 2.9329 - val_loss: 5.7176 - val_mae: 1.4458 - 24s/epoch - 60ms/step\n",
      "Epoch 117/450\n",
      "397/397 - 24s - loss: 16.3118 - mae: 2.9452 - val_loss: 869979.3750 - val_mae: 170.3822 - 24s/epoch - 60ms/step\n",
      "Epoch 118/450\n",
      "397/397 - 24s - loss: 16.4828 - mae: 2.9487 - val_loss: 10.8028 - val_mae: 2.3875 - 24s/epoch - 60ms/step\n",
      "Epoch 119/450\n",
      "397/397 - 24s - loss: 16.6172 - mae: 2.9601 - val_loss: 7.8107 - val_mae: 1.9456 - 24s/epoch - 60ms/step\n",
      "Epoch 120/450\n",
      "397/397 - 24s - loss: 16.2459 - mae: 2.9312 - val_loss: 6.7764 - val_mae: 1.5839 - 24s/epoch - 60ms/step\n",
      "Epoch 121/450\n",
      "397/397 - 24s - loss: 16.0755 - mae: 2.9082 - val_loss: 5.8281 - val_mae: 1.4964 - 24s/epoch - 59ms/step\n",
      "Epoch 122/450\n",
      "397/397 - 24s - loss: 16.2380 - mae: 2.9297 - val_loss: 5.8723 - val_mae: 1.4391 - 24s/epoch - 60ms/step\n",
      "Epoch 123/450\n",
      "397/397 - 24s - loss: 16.0687 - mae: 2.9180 - val_loss: 5.6268 - val_mae: 1.4168 - 24s/epoch - 61ms/step\n",
      "Epoch 124/450\n",
      "397/397 - 24s - loss: 15.9120 - mae: 2.9052 - val_loss: 5.7891 - val_mae: 1.4443 - 24s/epoch - 60ms/step\n",
      "Epoch 125/450\n",
      "397/397 - 23s - loss: 16.0380 - mae: 2.9120 - val_loss: 9.1738 - val_mae: 2.2105 - 23s/epoch - 59ms/step\n",
      "Epoch 126/450\n",
      "397/397 - 24s - loss: 15.7669 - mae: 2.8837 - val_loss: 5.9362 - val_mae: 1.4844 - 24s/epoch - 59ms/step\n",
      "Epoch 127/450\n",
      "397/397 - 24s - loss: 15.4261 - mae: 2.8617 - val_loss: 7.8014 - val_mae: 1.9219 - 24s/epoch - 59ms/step\n",
      "Epoch 128/450\n",
      "397/397 - 24s - loss: 15.6231 - mae: 2.8790 - val_loss: 8.9169 - val_mae: 2.1419 - 24s/epoch - 60ms/step\n",
      "Epoch 129/450\n",
      "397/397 - 24s - loss: 15.6903 - mae: 2.8704 - val_loss: 8.4845 - val_mae: 2.1050 - 24s/epoch - 59ms/step\n",
      "Epoch 130/450\n",
      "397/397 - 24s - loss: 15.5719 - mae: 2.8688 - val_loss: 5.6801 - val_mae: 1.4170 - 24s/epoch - 60ms/step\n",
      "Epoch 131/450\n",
      "397/397 - 24s - loss: 23.2573 - mae: 2.9597 - val_loss: 17.4800 - val_mae: 3.3687 - 24s/epoch - 59ms/step\n",
      "Epoch 132/450\n",
      "397/397 - 24s - loss: 16.1719 - mae: 2.9182 - val_loss: 6.0687 - val_mae: 1.4591 - 24s/epoch - 60ms/step\n",
      "Epoch 133/450\n",
      "397/397 - 24s - loss: 15.7561 - mae: 2.8743 - val_loss: 5.7905 - val_mae: 1.4519 - 24s/epoch - 59ms/step\n",
      "Epoch 134/450\n",
      "397/397 - 24s - loss: 15.9211 - mae: 2.8863 - val_loss: 8.0448 - val_mae: 1.9626 - 24s/epoch - 59ms/step\n",
      "Epoch 135/450\n",
      "397/397 - 24s - loss: 15.3725 - mae: 2.8377 - val_loss: 5.5817 - val_mae: 1.3751 - 24s/epoch - 60ms/step\n",
      "Epoch 136/450\n",
      "397/397 - 24s - loss: 15.4065 - mae: 2.8461 - val_loss: 7.0297 - val_mae: 1.7810 - 24s/epoch - 60ms/step\n",
      "Epoch 137/450\n",
      "397/397 - 24s - loss: 15.2692 - mae: 2.8288 - val_loss: 6.1093 - val_mae: 1.5832 - 24s/epoch - 60ms/step\n",
      "Epoch 138/450\n",
      "397/397 - 24s - loss: 15.4567 - mae: 2.8500 - val_loss: 6.8852 - val_mae: 1.6634 - 24s/epoch - 59ms/step\n",
      "Epoch 139/450\n",
      "397/397 - 24s - loss: 14.9309 - mae: 2.8006 - val_loss: 5.5725 - val_mae: 1.3934 - 24s/epoch - 60ms/step\n",
      "Epoch 140/450\n",
      "397/397 - 24s - loss: 15.1513 - mae: 2.8201 - val_loss: 9.8462 - val_mae: 2.3159 - 24s/epoch - 60ms/step\n",
      "Epoch 141/450\n",
      "397/397 - 24s - loss: 14.8736 - mae: 2.7942 - val_loss: 7.2034 - val_mae: 1.8959 - 24s/epoch - 59ms/step\n",
      "Epoch 142/450\n",
      "397/397 - 24s - loss: 14.9559 - mae: 2.7960 - val_loss: 5.3555 - val_mae: 1.3750 - 24s/epoch - 61ms/step\n",
      "Epoch 143/450\n",
      "397/397 - 24s - loss: 14.9074 - mae: 2.7943 - val_loss: 5.2690 - val_mae: 1.3646 - 24s/epoch - 61ms/step\n",
      "Epoch 144/450\n",
      "397/397 - 25s - loss: 14.6858 - mae: 2.7720 - val_loss: 7.1916 - val_mae: 1.8136 - 25s/epoch - 63ms/step\n",
      "Epoch 145/450\n",
      "397/397 - 24s - loss: 14.8360 - mae: 2.7964 - val_loss: 8.0235 - val_mae: 1.9586 - 24s/epoch - 60ms/step\n",
      "Epoch 146/450\n",
      "397/397 - 24s - loss: 14.9079 - mae: 2.7929 - val_loss: 5.3669 - val_mae: 1.3824 - 24s/epoch - 59ms/step\n",
      "Epoch 147/450\n",
      "397/397 - 24s - loss: 14.3979 - mae: 2.7438 - val_loss: 5.5028 - val_mae: 1.4152 - 24s/epoch - 59ms/step\n",
      "Epoch 148/450\n",
      "397/397 - 24s - loss: 14.4793 - mae: 2.7575 - val_loss: 7.4709 - val_mae: 1.8497 - 24s/epoch - 60ms/step\n",
      "Epoch 149/450\n",
      "397/397 - 24s - loss: 14.5584 - mae: 2.7600 - val_loss: 5.4636 - val_mae: 1.3817 - 24s/epoch - 59ms/step\n",
      "Epoch 150/450\n",
      "397/397 - 24s - loss: 14.4432 - mae: 2.7458 - val_loss: 5.8287 - val_mae: 1.4921 - 24s/epoch - 60ms/step\n",
      "Epoch 151/450\n",
      "397/397 - 24s - loss: 14.4053 - mae: 2.7451 - val_loss: 5.3282 - val_mae: 1.3567 - 24s/epoch - 60ms/step\n",
      "Epoch 152/450\n",
      "397/397 - 24s - loss: 14.1884 - mae: 2.7212 - val_loss: 8.0010 - val_mae: 1.9748 - 24s/epoch - 60ms/step\n",
      "Epoch 153/450\n",
      "397/397 - 24s - loss: 14.4514 - mae: 2.7476 - val_loss: 5.1775 - val_mae: 1.3491 - 24s/epoch - 60ms/step\n",
      "Epoch 154/450\n",
      "397/397 - 24s - loss: 14.2298 - mae: 2.7269 - val_loss: 6.7247 - val_mae: 1.7080 - 24s/epoch - 60ms/step\n",
      "Epoch 155/450\n",
      "397/397 - 24s - loss: 14.3072 - mae: 2.7325 - val_loss: 5.3283 - val_mae: 1.3992 - 24s/epoch - 60ms/step\n",
      "Epoch 156/450\n",
      "397/397 - 24s - loss: 14.1058 - mae: 2.7063 - val_loss: 5.9100 - val_mae: 1.4479 - 24s/epoch - 60ms/step\n",
      "Epoch 157/450\n",
      "397/397 - 24s - loss: 14.1475 - mae: 2.7157 - val_loss: 5.3761 - val_mae: 1.3784 - 24s/epoch - 60ms/step\n",
      "Epoch 158/450\n",
      "397/397 - 24s - loss: 14.0908 - mae: 2.7103 - val_loss: 5.3658 - val_mae: 1.3944 - 24s/epoch - 60ms/step\n",
      "Epoch 159/450\n",
      "397/397 - 24s - loss: 13.8124 - mae: 2.6786 - val_loss: 5.9888 - val_mae: 1.5321 - 24s/epoch - 60ms/step\n",
      "Epoch 160/450\n",
      "397/397 - 24s - loss: 13.9369 - mae: 2.6941 - val_loss: 6.0252 - val_mae: 1.5550 - 24s/epoch - 60ms/step\n",
      "Epoch 161/450\n",
      "397/397 - 24s - loss: 13.8758 - mae: 2.6922 - val_loss: 6.4296 - val_mae: 1.6880 - 24s/epoch - 60ms/step\n",
      "Epoch 162/450\n",
      "397/397 - 25s - loss: 13.8807 - mae: 2.6897 - val_loss: 8.5850 - val_mae: 2.0974 - 25s/epoch - 63ms/step\n",
      "Epoch 163/450\n",
      "397/397 - 24s - loss: 13.4518 - mae: 2.6475 - val_loss: 5.4223 - val_mae: 1.4264 - 24s/epoch - 60ms/step\n",
      "Epoch 164/450\n",
      "397/397 - 25s - loss: 13.8258 - mae: 2.6787 - val_loss: 6.9425 - val_mae: 1.6517 - 25s/epoch - 63ms/step\n",
      "Epoch 165/450\n",
      "397/397 - 24s - loss: 13.5779 - mae: 2.6485 - val_loss: 5.9449 - val_mae: 1.5544 - 24s/epoch - 59ms/step\n",
      "Epoch 166/450\n",
      "397/397 - 24s - loss: 13.4364 - mae: 2.6418 - val_loss: 6.6372 - val_mae: 1.7203 - 24s/epoch - 59ms/step\n",
      "Epoch 167/450\n",
      "397/397 - 24s - loss: 13.5152 - mae: 2.6552 - val_loss: 5.4588 - val_mae: 1.3992 - 24s/epoch - 60ms/step\n",
      "Epoch 168/450\n",
      "397/397 - 24s - loss: 13.4297 - mae: 2.6437 - val_loss: 6.1732 - val_mae: 1.5927 - 24s/epoch - 60ms/step\n",
      "Epoch 169/450\n",
      "397/397 - 24s - loss: 13.5738 - mae: 2.6562 - val_loss: 5.2371 - val_mae: 1.3437 - 24s/epoch - 60ms/step\n",
      "Epoch 170/450\n",
      "397/397 - 24s - loss: 13.4681 - mae: 2.6461 - val_loss: 5.9662 - val_mae: 1.5474 - 24s/epoch - 60ms/step\n",
      "Epoch 171/450\n",
      "397/397 - 24s - loss: 13.2545 - mae: 2.6171 - val_loss: 5.2084 - val_mae: 1.3362 - 24s/epoch - 60ms/step\n",
      "Epoch 172/450\n",
      "397/397 - 24s - loss: 13.2206 - mae: 2.6189 - val_loss: 5.5600 - val_mae: 1.4319 - 24s/epoch - 60ms/step\n",
      "Epoch 173/450\n",
      "397/397 - 24s - loss: 13.2107 - mae: 2.6176 - val_loss: 5.4239 - val_mae: 1.3146 - 24s/epoch - 59ms/step\n",
      "Epoch 174/450\n",
      "397/397 - 24s - loss: 13.0526 - mae: 2.6028 - val_loss: 5.1099 - val_mae: 1.3249 - 24s/epoch - 61ms/step\n",
      "Epoch 175/450\n",
      "397/397 - 24s - loss: 13.4094 - mae: 2.6279 - val_loss: 5.3252 - val_mae: 1.3729 - 24s/epoch - 60ms/step\n",
      "Epoch 176/450\n",
      "397/397 - 24s - loss: 12.9257 - mae: 2.5878 - val_loss: 9.2118 - val_mae: 2.2307 - 24s/epoch - 59ms/step\n",
      "Epoch 177/450\n",
      "397/397 - 24s - loss: 12.9437 - mae: 2.5879 - val_loss: 5.0823 - val_mae: 1.3565 - 24s/epoch - 60ms/step\n",
      "Epoch 178/450\n",
      "397/397 - 24s - loss: 12.8206 - mae: 2.5760 - val_loss: 5.1512 - val_mae: 1.3280 - 24s/epoch - 60ms/step\n",
      "Epoch 179/450\n",
      "397/397 - 24s - loss: 12.6811 - mae: 2.5622 - val_loss: 5.6738 - val_mae: 1.4818 - 24s/epoch - 60ms/step\n",
      "Epoch 180/450\n",
      "397/397 - 24s - loss: 12.7119 - mae: 2.5677 - val_loss: 7.6762 - val_mae: 1.9660 - 24s/epoch - 60ms/step\n",
      "Epoch 181/450\n",
      "397/397 - 24s - loss: 12.7250 - mae: 2.5659 - val_loss: 5.0427 - val_mae: 1.3386 - 24s/epoch - 61ms/step\n",
      "Epoch 182/450\n",
      "397/397 - 24s - loss: 12.6831 - mae: 2.5598 - val_loss: 6.5260 - val_mae: 1.7221 - 24s/epoch - 60ms/step\n",
      "Epoch 183/450\n",
      "397/397 - 24s - loss: 12.6401 - mae: 2.5537 - val_loss: 6.8282 - val_mae: 1.7996 - 24s/epoch - 60ms/step\n",
      "Epoch 184/450\n",
      "397/397 - 25s - loss: 12.5116 - mae: 2.5363 - val_loss: 5.1048 - val_mae: 1.3293 - 25s/epoch - 63ms/step\n",
      "Epoch 185/450\n",
      "397/397 - 24s - loss: 12.5219 - mae: 2.5485 - val_loss: 5.0836 - val_mae: 1.3247 - 24s/epoch - 60ms/step\n",
      "Epoch 186/450\n",
      "397/397 - 24s - loss: 12.2969 - mae: 2.5238 - val_loss: 5.8525 - val_mae: 1.4464 - 24s/epoch - 60ms/step\n",
      "Epoch 187/450\n",
      "397/397 - 24s - loss: 12.5143 - mae: 2.5378 - val_loss: 5.3861 - val_mae: 1.4048 - 24s/epoch - 60ms/step\n",
      "Epoch 188/450\n",
      "397/397 - 24s - loss: 12.5980 - mae: 2.5502 - val_loss: 8.3228 - val_mae: 2.0905 - 24s/epoch - 60ms/step\n",
      "Epoch 189/450\n",
      "397/397 - 24s - loss: 12.3238 - mae: 2.5227 - val_loss: 6.1850 - val_mae: 1.5632 - 24s/epoch - 60ms/step\n",
      "Epoch 190/450\n",
      "397/397 - 24s - loss: 12.1332 - mae: 2.5036 - val_loss: 5.3515 - val_mae: 1.4432 - 24s/epoch - 60ms/step\n",
      "Epoch 191/450\n",
      "397/397 - 24s - loss: 12.1799 - mae: 2.5058 - val_loss: 5.7563 - val_mae: 1.5509 - 24s/epoch - 60ms/step\n",
      "Epoch 192/450\n",
      "397/397 - 24s - loss: 12.2287 - mae: 2.5092 - val_loss: 5.4425 - val_mae: 1.3292 - 24s/epoch - 60ms/step\n",
      "Epoch 193/450\n",
      "397/397 - 24s - loss: 12.1807 - mae: 2.5103 - val_loss: 4.9416 - val_mae: 1.3224 - 24s/epoch - 60ms/step\n",
      "Epoch 194/450\n",
      "397/397 - 24s - loss: 12.1493 - mae: 2.4938 - val_loss: 5.5068 - val_mae: 1.4425 - 24s/epoch - 60ms/step\n",
      "Epoch 195/450\n",
      "397/397 - 24s - loss: 12.0096 - mae: 2.4852 - val_loss: 5.1985 - val_mae: 1.4104 - 24s/epoch - 59ms/step\n",
      "Epoch 196/450\n",
      "397/397 - 24s - loss: 11.9398 - mae: 2.4778 - val_loss: 4.9065 - val_mae: 1.3185 - 24s/epoch - 60ms/step\n",
      "Epoch 197/450\n",
      "397/397 - 24s - loss: 11.8837 - mae: 2.4724 - val_loss: 4.9729 - val_mae: 1.3030 - 24s/epoch - 60ms/step\n",
      "Epoch 198/450\n",
      "397/397 - 24s - loss: 12.0391 - mae: 2.4818 - val_loss: 4.9580 - val_mae: 1.2930 - 24s/epoch - 59ms/step\n",
      "Epoch 199/450\n",
      "397/397 - 24s - loss: 11.5522 - mae: 2.4344 - val_loss: 5.2175 - val_mae: 1.3698 - 24s/epoch - 60ms/step\n",
      "Epoch 200/450\n",
      "397/397 - 24s - loss: 11.7784 - mae: 2.4544 - val_loss: 4.8209 - val_mae: 1.2755 - 24s/epoch - 60ms/step\n",
      "Epoch 201/450\n",
      "397/397 - 24s - loss: 11.5697 - mae: 2.4375 - val_loss: 4.9186 - val_mae: 1.3457 - 24s/epoch - 59ms/step\n",
      "Epoch 202/450\n",
      "397/397 - 24s - loss: 11.5401 - mae: 2.4336 - val_loss: 6.1778 - val_mae: 1.5991 - 24s/epoch - 59ms/step\n",
      "Epoch 203/450\n",
      "397/397 - 24s - loss: 11.6254 - mae: 2.4406 - val_loss: 4.7212 - val_mae: 1.2665 - 24s/epoch - 61ms/step\n",
      "Epoch 204/450\n",
      "397/397 - 24s - loss: 11.3027 - mae: 2.4044 - val_loss: 6.5003 - val_mae: 1.7524 - 24s/epoch - 60ms/step\n",
      "Epoch 205/450\n",
      "397/397 - 24s - loss: 11.3918 - mae: 2.4122 - val_loss: 4.9549 - val_mae: 1.3469 - 24s/epoch - 59ms/step\n",
      "Epoch 206/450\n",
      "397/397 - 24s - loss: 11.3691 - mae: 2.4063 - val_loss: 5.3487 - val_mae: 1.3417 - 24s/epoch - 60ms/step\n",
      "Epoch 207/450\n",
      "397/397 - 24s - loss: 11.2895 - mae: 2.3982 - val_loss: 5.7656 - val_mae: 1.5669 - 24s/epoch - 60ms/step\n",
      "Epoch 208/450\n",
      "397/397 - 24s - loss: 11.0039 - mae: 2.3710 - val_loss: 5.8039 - val_mae: 1.5868 - 24s/epoch - 59ms/step\n",
      "Epoch 209/450\n",
      "397/397 - 23s - loss: 10.9432 - mae: 2.3629 - val_loss: 5.4055 - val_mae: 1.3498 - 23s/epoch - 59ms/step\n",
      "Epoch 210/450\n",
      "397/397 - 23s - loss: 10.8698 - mae: 2.3507 - val_loss: 6.5924 - val_mae: 1.7708 - 23s/epoch - 59ms/step\n",
      "Epoch 211/450\n",
      "397/397 - 24s - loss: 10.9510 - mae: 2.3639 - val_loss: 7.1534 - val_mae: 1.7666 - 24s/epoch - 59ms/step\n",
      "Epoch 212/450\n",
      "397/397 - 25s - loss: 10.8562 - mae: 2.3533 - val_loss: 6.4953 - val_mae: 1.4975 - 25s/epoch - 62ms/step\n",
      "Epoch 213/450\n",
      "397/397 - 24s - loss: 10.8290 - mae: 2.3529 - val_loss: 4.7475 - val_mae: 1.2968 - 24s/epoch - 59ms/step\n",
      "Epoch 214/450\n",
      "397/397 - 24s - loss: 10.8241 - mae: 2.3473 - val_loss: 5.3391 - val_mae: 1.3044 - 24s/epoch - 59ms/step\n",
      "Epoch 215/450\n",
      "397/397 - 24s - loss: 10.5147 - mae: 2.3126 - val_loss: 5.9612 - val_mae: 1.6116 - 24s/epoch - 59ms/step\n",
      "Epoch 216/450\n",
      "397/397 - 24s - loss: 10.4498 - mae: 2.3085 - val_loss: 5.8191 - val_mae: 1.5394 - 24s/epoch - 59ms/step\n",
      "Epoch 217/450\n",
      "397/397 - 24s - loss: 10.3178 - mae: 2.2862 - val_loss: 4.7277 - val_mae: 1.2745 - 24s/epoch - 59ms/step\n",
      "Epoch 218/450\n",
      "397/397 - 24s - loss: 10.4616 - mae: 2.3030 - val_loss: 5.2288 - val_mae: 1.4410 - 24s/epoch - 59ms/step\n",
      "Epoch 219/450\n",
      "397/397 - 24s - loss: 10.3651 - mae: 2.2992 - val_loss: 4.7755 - val_mae: 1.2591 - 24s/epoch - 59ms/step\n",
      "Epoch 220/450\n",
      "397/397 - 24s - loss: 10.1751 - mae: 2.2777 - val_loss: 5.7837 - val_mae: 1.4447 - 24s/epoch - 59ms/step\n",
      "Epoch 221/450\n",
      "397/397 - 25s - loss: 10.1633 - mae: 2.2724 - val_loss: 6.0305 - val_mae: 1.6162 - 25s/epoch - 62ms/step\n",
      "Epoch 222/450\n",
      "397/397 - 24s - loss: 10.0575 - mae: 2.2549 - val_loss: 4.7142 - val_mae: 1.2495 - 24s/epoch - 60ms/step\n",
      "Epoch 223/450\n",
      "397/397 - 24s - loss: 10.0163 - mae: 2.2555 - val_loss: 5.6458 - val_mae: 1.5377 - 24s/epoch - 60ms/step\n",
      "Epoch 224/450\n",
      "397/397 - 24s - loss: 10.0077 - mae: 2.2533 - val_loss: 5.3131 - val_mae: 1.3662 - 24s/epoch - 59ms/step\n",
      "Epoch 225/450\n",
      "397/397 - 24s - loss: 9.7954 - mae: 2.2288 - val_loss: 4.5535 - val_mae: 1.2468 - 24s/epoch - 60ms/step\n",
      "Epoch 226/450\n",
      "397/397 - 25s - loss: 9.7747 - mae: 2.2221 - val_loss: 4.6966 - val_mae: 1.3032 - 25s/epoch - 63ms/step\n",
      "Epoch 227/450\n",
      "397/397 - 24s - loss: 9.9132 - mae: 2.2434 - val_loss: 5.1467 - val_mae: 1.3972 - 24s/epoch - 59ms/step\n",
      "Epoch 228/450\n",
      "397/397 - 24s - loss: 9.8513 - mae: 2.2325 - val_loss: 5.4117 - val_mae: 1.4995 - 24s/epoch - 59ms/step\n",
      "Epoch 229/450\n",
      "397/397 - 24s - loss: 9.7977 - mae: 2.2254 - val_loss: 4.5204 - val_mae: 1.2202 - 24s/epoch - 61ms/step\n",
      "Epoch 230/450\n",
      "397/397 - 24s - loss: 9.7483 - mae: 2.2206 - val_loss: 4.7528 - val_mae: 1.2401 - 24s/epoch - 60ms/step\n",
      "Epoch 231/450\n",
      "397/397 - 24s - loss: 9.5585 - mae: 2.1959 - val_loss: 4.7667 - val_mae: 1.2404 - 24s/epoch - 60ms/step\n",
      "Epoch 232/450\n",
      "397/397 - 24s - loss: 9.6371 - mae: 2.2065 - val_loss: 5.9352 - val_mae: 1.5990 - 24s/epoch - 60ms/step\n",
      "Epoch 233/450\n",
      "397/397 - 24s - loss: 9.6222 - mae: 2.2080 - val_loss: 4.9564 - val_mae: 1.3506 - 24s/epoch - 60ms/step\n",
      "Epoch 234/450\n",
      "397/397 - 24s - loss: 9.4558 - mae: 2.1834 - val_loss: 4.6009 - val_mae: 1.2485 - 24s/epoch - 60ms/step\n",
      "Epoch 235/450\n",
      "397/397 - 24s - loss: 9.4719 - mae: 2.1894 - val_loss: 4.9371 - val_mae: 1.3833 - 24s/epoch - 60ms/step\n",
      "Epoch 236/450\n",
      "397/397 - 24s - loss: 9.4421 - mae: 2.1764 - val_loss: 4.8329 - val_mae: 1.2860 - 24s/epoch - 60ms/step\n",
      "Epoch 237/450\n",
      "397/397 - 24s - loss: 9.3111 - mae: 2.1629 - val_loss: 5.0444 - val_mae: 1.2813 - 24s/epoch - 60ms/step\n",
      "Epoch 238/450\n",
      "397/397 - 24s - loss: 9.0453 - mae: 2.1312 - val_loss: 5.1157 - val_mae: 1.3830 - 24s/epoch - 60ms/step\n",
      "Epoch 239/450\n",
      "397/397 - 24s - loss: 9.1849 - mae: 2.1471 - val_loss: 4.7191 - val_mae: 1.3005 - 24s/epoch - 60ms/step\n",
      "Epoch 240/450\n",
      "397/397 - 24s - loss: 9.1566 - mae: 2.1439 - val_loss: 5.2658 - val_mae: 1.4162 - 24s/epoch - 60ms/step\n",
      "Epoch 241/450\n",
      "397/397 - 24s - loss: 9.0917 - mae: 2.1383 - val_loss: 4.7279 - val_mae: 1.2060 - 24s/epoch - 59ms/step\n",
      "Epoch 242/450\n",
      "397/397 - 24s - loss: 8.9228 - mae: 2.1172 - val_loss: 4.7273 - val_mae: 1.3132 - 24s/epoch - 60ms/step\n",
      "Epoch 243/450\n",
      "397/397 - 24s - loss: 8.8234 - mae: 2.0998 - val_loss: 4.5057 - val_mae: 1.2058 - 24s/epoch - 61ms/step\n",
      "Epoch 244/450\n",
      "397/397 - 24s - loss: 8.9430 - mae: 2.1196 - val_loss: 4.4792 - val_mae: 1.2288 - 24s/epoch - 61ms/step\n",
      "Epoch 245/450\n",
      "397/397 - 24s - loss: 8.8648 - mae: 2.1053 - val_loss: 4.5004 - val_mae: 1.2152 - 24s/epoch - 60ms/step\n",
      "Epoch 246/450\n",
      "397/397 - 24s - loss: 8.7783 - mae: 2.0986 - val_loss: 4.5713 - val_mae: 1.1921 - 24s/epoch - 60ms/step\n",
      "Epoch 247/450\n",
      "397/397 - 24s - loss: 8.7287 - mae: 2.0938 - val_loss: 4.2657 - val_mae: 1.1854 - 24s/epoch - 61ms/step\n",
      "Epoch 248/450\n",
      "397/397 - 24s - loss: 8.7600 - mae: 2.0975 - val_loss: 4.4982 - val_mae: 1.2490 - 24s/epoch - 60ms/step\n",
      "Epoch 249/450\n",
      "397/397 - 24s - loss: 8.5392 - mae: 2.0671 - val_loss: 4.2760 - val_mae: 1.2174 - 24s/epoch - 60ms/step\n",
      "Epoch 250/450\n",
      "397/397 - 24s - loss: 8.4472 - mae: 2.0537 - val_loss: 4.8745 - val_mae: 1.2464 - 24s/epoch - 60ms/step\n",
      "Epoch 251/450\n",
      "397/397 - 24s - loss: 8.3713 - mae: 2.0426 - val_loss: 4.6116 - val_mae: 1.2853 - 24s/epoch - 60ms/step\n",
      "Epoch 252/450\n",
      "397/397 - 24s - loss: 8.2798 - mae: 2.0317 - val_loss: 4.1930 - val_mae: 1.1747 - 24s/epoch - 61ms/step\n",
      "Epoch 253/450\n",
      "397/397 - 24s - loss: 8.2935 - mae: 2.0339 - val_loss: 4.3871 - val_mae: 1.1999 - 24s/epoch - 60ms/step\n",
      "Epoch 254/450\n",
      "397/397 - 24s - loss: 8.2104 - mae: 2.0195 - val_loss: 4.4552 - val_mae: 1.2273 - 24s/epoch - 60ms/step\n",
      "Epoch 255/450\n",
      "397/397 - 24s - loss: 8.1195 - mae: 2.0101 - val_loss: 4.1684 - val_mae: 1.1771 - 24s/epoch - 61ms/step\n",
      "Epoch 256/450\n",
      "397/397 - 24s - loss: 8.1195 - mae: 2.0076 - val_loss: 4.5207 - val_mae: 1.1755 - 24s/epoch - 60ms/step\n",
      "Epoch 257/450\n",
      "397/397 - 24s - loss: 7.8307 - mae: 1.9736 - val_loss: 4.2398 - val_mae: 1.1950 - 24s/epoch - 60ms/step\n",
      "Epoch 258/450\n",
      "397/397 - 24s - loss: 7.9310 - mae: 1.9874 - val_loss: 5.4624 - val_mae: 1.4781 - 24s/epoch - 60ms/step\n",
      "Epoch 259/450\n",
      "397/397 - 24s - loss: 7.8225 - mae: 1.9705 - val_loss: 4.5686 - val_mae: 1.3060 - 24s/epoch - 60ms/step\n",
      "Epoch 260/450\n",
      "397/397 - 24s - loss: 7.6159 - mae: 1.9497 - val_loss: 6.6731 - val_mae: 1.6569 - 24s/epoch - 60ms/step\n",
      "Epoch 261/450\n",
      "397/397 - 24s - loss: 7.6449 - mae: 1.9458 - val_loss: 4.3559 - val_mae: 1.2325 - 24s/epoch - 60ms/step\n",
      "Epoch 262/450\n",
      "397/397 - 24s - loss: 7.5134 - mae: 1.9266 - val_loss: 4.5217 - val_mae: 1.2916 - 24s/epoch - 60ms/step\n",
      "Epoch 263/450\n",
      "397/397 - 24s - loss: 7.5077 - mae: 1.9268 - val_loss: 4.0282 - val_mae: 1.1456 - 24s/epoch - 61ms/step\n",
      "Epoch 264/450\n",
      "397/397 - 24s - loss: 7.4130 - mae: 1.9230 - val_loss: 5.1492 - val_mae: 1.2366 - 24s/epoch - 60ms/step\n",
      "Epoch 265/450\n",
      "397/397 - 24s - loss: 7.2810 - mae: 1.9000 - val_loss: 4.3873 - val_mae: 1.2590 - 24s/epoch - 60ms/step\n",
      "Epoch 266/450\n",
      "397/397 - 24s - loss: 7.3077 - mae: 1.9056 - val_loss: 4.3048 - val_mae: 1.1421 - 24s/epoch - 60ms/step\n",
      "Epoch 267/450\n",
      "397/397 - 24s - loss: 7.1880 - mae: 1.8934 - val_loss: 4.4555 - val_mae: 1.2517 - 24s/epoch - 60ms/step\n",
      "Epoch 268/450\n",
      "397/397 - 24s - loss: 7.2858 - mae: 1.8982 - val_loss: 4.0931 - val_mae: 1.1249 - 24s/epoch - 60ms/step\n",
      "Epoch 269/450\n",
      "397/397 - 24s - loss: 7.0831 - mae: 1.8727 - val_loss: 4.1595 - val_mae: 1.1511 - 24s/epoch - 59ms/step\n",
      "Epoch 270/450\n",
      "397/397 - 24s - loss: 6.9582 - mae: 1.8586 - val_loss: 4.0636 - val_mae: 1.1019 - 24s/epoch - 59ms/step\n",
      "Epoch 271/450\n",
      "397/397 - 24s - loss: 6.9734 - mae: 1.8513 - val_loss: 5.4720 - val_mae: 1.4566 - 24s/epoch - 60ms/step\n",
      "Epoch 272/450\n",
      "397/397 - 24s - loss: 7.0295 - mae: 1.8613 - val_loss: 4.0435 - val_mae: 1.1410 - 24s/epoch - 60ms/step\n",
      "Epoch 273/450\n",
      "397/397 - 24s - loss: 6.9090 - mae: 1.8465 - val_loss: 4.0021 - val_mae: 1.1441 - 24s/epoch - 60ms/step\n",
      "Epoch 274/450\n",
      "397/397 - 24s - loss: 6.9020 - mae: 1.8443 - val_loss: 3.9958 - val_mae: 1.1474 - 24s/epoch - 61ms/step\n",
      "Epoch 275/450\n",
      "397/397 - 24s - loss: 6.9300 - mae: 1.8525 - val_loss: 4.1711 - val_mae: 1.1911 - 24s/epoch - 60ms/step\n",
      "Epoch 276/450\n",
      "397/397 - 24s - loss: 6.7729 - mae: 1.8289 - val_loss: 4.1137 - val_mae: 1.1932 - 24s/epoch - 59ms/step\n",
      "Epoch 277/450\n",
      "397/397 - 24s - loss: 6.8216 - mae: 1.8329 - val_loss: 3.9554 - val_mae: 1.0885 - 24s/epoch - 60ms/step\n",
      "Epoch 278/450\n",
      "397/397 - 24s - loss: 6.7702 - mae: 1.8258 - val_loss: 4.0172 - val_mae: 1.1497 - 24s/epoch - 60ms/step\n",
      "Epoch 279/450\n",
      "397/397 - 24s - loss: 6.7459 - mae: 1.8273 - val_loss: 4.1623 - val_mae: 1.1093 - 24s/epoch - 59ms/step\n",
      "Epoch 280/450\n",
      "397/397 - 24s - loss: 6.6654 - mae: 1.8136 - val_loss: 4.2756 - val_mae: 1.2759 - 24s/epoch - 59ms/step\n",
      "Epoch 281/450\n",
      "397/397 - 24s - loss: 6.5728 - mae: 1.7998 - val_loss: 4.5539 - val_mae: 1.2469 - 24s/epoch - 59ms/step\n",
      "Epoch 282/450\n",
      "397/397 - 24s - loss: 6.5745 - mae: 1.8002 - val_loss: 4.1707 - val_mae: 1.1744 - 24s/epoch - 59ms/step\n",
      "Epoch 283/450\n",
      "397/397 - 24s - loss: 6.5181 - mae: 1.7960 - val_loss: 4.0732 - val_mae: 1.1250 - 24s/epoch - 59ms/step\n",
      "Epoch 284/450\n",
      "397/397 - 24s - loss: 6.3428 - mae: 1.7766 - val_loss: 3.8408 - val_mae: 1.1168 - 24s/epoch - 60ms/step\n",
      "Epoch 285/450\n",
      "397/397 - 24s - loss: 6.4067 - mae: 1.7756 - val_loss: 4.0065 - val_mae: 1.1005 - 24s/epoch - 60ms/step\n",
      "Epoch 286/450\n",
      "397/397 - 24s - loss: 6.4070 - mae: 1.7816 - val_loss: 3.8608 - val_mae: 1.0711 - 24s/epoch - 59ms/step\n",
      "Epoch 287/450\n",
      "397/397 - 24s - loss: 6.2995 - mae: 1.7631 - val_loss: 4.1631 - val_mae: 1.1376 - 24s/epoch - 59ms/step\n",
      "Epoch 288/450\n",
      "397/397 - 24s - loss: 6.3595 - mae: 1.7657 - val_loss: 3.9541 - val_mae: 1.1223 - 24s/epoch - 59ms/step\n",
      "Epoch 289/450\n",
      "397/397 - 24s - loss: 6.2831 - mae: 1.7553 - val_loss: 3.9966 - val_mae: 1.1131 - 24s/epoch - 59ms/step\n",
      "Epoch 290/450\n",
      "397/397 - 24s - loss: 6.2804 - mae: 1.7565 - val_loss: 4.1859 - val_mae: 1.1477 - 24s/epoch - 59ms/step\n",
      "Epoch 291/450\n",
      "397/397 - 24s - loss: 6.2863 - mae: 1.7530 - val_loss: 3.8520 - val_mae: 1.0992 - 24s/epoch - 59ms/step\n",
      "Epoch 292/450\n",
      "397/397 - 24s - loss: 6.2207 - mae: 1.7502 - val_loss: 3.7569 - val_mae: 1.0801 - 24s/epoch - 61ms/step\n",
      "Epoch 293/450\n",
      "397/397 - 25s - loss: 6.2194 - mae: 1.7461 - val_loss: 3.8257 - val_mae: 1.0769 - 25s/epoch - 63ms/step\n",
      "Epoch 294/450\n",
      "397/397 - 24s - loss: 6.0757 - mae: 1.7294 - val_loss: 3.7750 - val_mae: 1.0835 - 24s/epoch - 59ms/step\n",
      "Epoch 295/450\n",
      "397/397 - 24s - loss: 6.0592 - mae: 1.7229 - val_loss: 3.7279 - val_mae: 1.0593 - 24s/epoch - 61ms/step\n",
      "Epoch 296/450\n",
      "397/397 - 24s - loss: 5.9832 - mae: 1.7108 - val_loss: 3.7660 - val_mae: 1.1110 - 24s/epoch - 60ms/step\n",
      "Epoch 297/450\n",
      "397/397 - 25s - loss: 6.0367 - mae: 1.7195 - val_loss: 3.6710 - val_mae: 1.0729 - 25s/epoch - 63ms/step\n",
      "Epoch 298/450\n",
      "397/397 - 24s - loss: 6.0335 - mae: 1.7197 - val_loss: 3.6600 - val_mae: 1.0723 - 24s/epoch - 61ms/step\n",
      "Epoch 299/450\n",
      "397/397 - 24s - loss: 5.9497 - mae: 1.7116 - val_loss: 3.6925 - val_mae: 1.0761 - 24s/epoch - 60ms/step\n",
      "Epoch 300/450\n",
      "397/397 - 24s - loss: 5.9618 - mae: 1.7108 - val_loss: 3.7624 - val_mae: 1.0714 - 24s/epoch - 59ms/step\n",
      "Epoch 301/450\n",
      "397/397 - 24s - loss: 6.0217 - mae: 1.7161 - val_loss: 3.7947 - val_mae: 1.1200 - 24s/epoch - 59ms/step\n",
      "Epoch 302/450\n",
      "397/397 - 24s - loss: 5.9529 - mae: 1.7095 - val_loss: 3.7728 - val_mae: 1.0595 - 24s/epoch - 59ms/step\n",
      "Epoch 303/450\n",
      "397/397 - 24s - loss: 5.8662 - mae: 1.6942 - val_loss: 3.5894 - val_mae: 1.0612 - 24s/epoch - 61ms/step\n",
      "Epoch 304/450\n",
      "397/397 - 24s - loss: 5.8693 - mae: 1.7003 - val_loss: 3.6704 - val_mae: 1.0966 - 24s/epoch - 60ms/step\n",
      "Epoch 305/450\n",
      "397/397 - 23s - loss: 5.8169 - mae: 1.6870 - val_loss: 3.6227 - val_mae: 1.0406 - 23s/epoch - 59ms/step\n",
      "Epoch 306/450\n",
      "397/397 - 24s - loss: 5.7433 - mae: 1.6768 - val_loss: 3.6768 - val_mae: 1.0957 - 24s/epoch - 59ms/step\n",
      "Epoch 307/450\n",
      "397/397 - 24s - loss: 5.7191 - mae: 1.6729 - val_loss: 3.7314 - val_mae: 1.0929 - 24s/epoch - 59ms/step\n",
      "Epoch 308/450\n",
      "397/397 - 24s - loss: 5.6735 - mae: 1.6663 - val_loss: 3.7969 - val_mae: 1.1329 - 24s/epoch - 59ms/step\n",
      "Epoch 309/450\n",
      "397/397 - 23s - loss: 5.5849 - mae: 1.6500 - val_loss: 4.0666 - val_mae: 1.1241 - 23s/epoch - 59ms/step\n",
      "Epoch 310/450\n",
      "397/397 - 24s - loss: 5.5822 - mae: 1.6530 - val_loss: 3.6154 - val_mae: 1.0569 - 24s/epoch - 59ms/step\n",
      "Epoch 311/450\n",
      "397/397 - 24s - loss: 5.7282 - mae: 1.6758 - val_loss: 3.7495 - val_mae: 1.0525 - 24s/epoch - 59ms/step\n",
      "Epoch 312/450\n",
      "397/397 - 24s - loss: 5.6596 - mae: 1.6596 - val_loss: 3.6252 - val_mae: 1.0678 - 24s/epoch - 59ms/step\n",
      "Epoch 313/450\n",
      "397/397 - 24s - loss: 5.6967 - mae: 1.6653 - val_loss: 3.5292 - val_mae: 1.0129 - 24s/epoch - 60ms/step\n",
      "Epoch 314/450\n",
      "397/397 - 24s - loss: 5.5447 - mae: 1.6454 - val_loss: 3.6191 - val_mae: 1.0578 - 24s/epoch - 59ms/step\n",
      "Epoch 315/450\n",
      "397/397 - 24s - loss: 5.5186 - mae: 1.6438 - val_loss: 3.7939 - val_mae: 1.1335 - 24s/epoch - 59ms/step\n",
      "Epoch 316/450\n",
      "397/397 - 24s - loss: 5.5630 - mae: 1.6466 - val_loss: 3.6192 - val_mae: 1.0638 - 24s/epoch - 59ms/step\n",
      "Epoch 317/450\n",
      "397/397 - 23s - loss: 5.5170 - mae: 1.6379 - val_loss: 3.8979 - val_mae: 1.1151 - 23s/epoch - 59ms/step\n",
      "Epoch 318/450\n",
      "397/397 - 24s - loss: 5.4912 - mae: 1.6365 - val_loss: 3.7196 - val_mae: 1.1273 - 24s/epoch - 59ms/step\n",
      "Epoch 319/450\n",
      "397/397 - 24s - loss: 5.3973 - mae: 1.6251 - val_loss: 3.5548 - val_mae: 1.0667 - 24s/epoch - 59ms/step\n",
      "Epoch 320/450\n",
      "397/397 - 24s - loss: 5.4675 - mae: 1.6316 - val_loss: 3.5605 - val_mae: 1.0606 - 24s/epoch - 59ms/step\n",
      "Epoch 321/450\n",
      "397/397 - 24s - loss: 5.4634 - mae: 1.6313 - val_loss: 3.4935 - val_mae: 1.0259 - 24s/epoch - 60ms/step\n",
      "Epoch 322/450\n",
      "397/397 - 24s - loss: 5.4706 - mae: 1.6299 - val_loss: 3.3762 - val_mae: 1.0081 - 24s/epoch - 61ms/step\n",
      "Epoch 323/450\n",
      "397/397 - 24s - loss: 5.3284 - mae: 1.6111 - val_loss: 3.8074 - val_mae: 1.0840 - 24s/epoch - 59ms/step\n",
      "Epoch 324/450\n",
      "397/397 - 24s - loss: 5.2857 - mae: 1.6048 - val_loss: 3.4695 - val_mae: 1.0487 - 24s/epoch - 60ms/step\n",
      "Epoch 325/450\n",
      "397/397 - 24s - loss: 5.2724 - mae: 1.6016 - val_loss: 3.7085 - val_mae: 1.0356 - 24s/epoch - 59ms/step\n",
      "Epoch 326/450\n",
      "397/397 - 24s - loss: 5.2639 - mae: 1.5940 - val_loss: 3.6731 - val_mae: 1.0980 - 24s/epoch - 59ms/step\n",
      "Epoch 327/450\n",
      "397/397 - 24s - loss: 5.2595 - mae: 1.5993 - val_loss: 3.5860 - val_mae: 1.0538 - 24s/epoch - 59ms/step\n",
      "Epoch 328/450\n",
      "397/397 - 24s - loss: 5.1553 - mae: 1.5899 - val_loss: 3.5743 - val_mae: 1.0131 - 24s/epoch - 59ms/step\n",
      "Epoch 329/450\n",
      "397/397 - 24s - loss: 5.1955 - mae: 1.5879 - val_loss: 3.3876 - val_mae: 1.0005 - 24s/epoch - 59ms/step\n",
      "Epoch 330/450\n",
      "397/397 - 24s - loss: 5.2304 - mae: 1.5962 - val_loss: 3.4717 - val_mae: 0.9957 - 24s/epoch - 59ms/step\n",
      "Epoch 331/450\n",
      "397/397 - 24s - loss: 5.2243 - mae: 1.5923 - val_loss: 3.4352 - val_mae: 1.0099 - 24s/epoch - 59ms/step\n",
      "Epoch 332/450\n",
      "397/397 - 24s - loss: 5.1698 - mae: 1.5824 - val_loss: 3.8920 - val_mae: 1.0918 - 24s/epoch - 59ms/step\n",
      "Epoch 333/450\n",
      "397/397 - 24s - loss: 5.1058 - mae: 1.5755 - val_loss: 3.3842 - val_mae: 0.9917 - 24s/epoch - 59ms/step\n",
      "Epoch 334/450\n",
      "397/397 - 24s - loss: 5.1476 - mae: 1.5792 - val_loss: 3.5291 - val_mae: 1.0407 - 24s/epoch - 59ms/step\n",
      "Epoch 335/450\n",
      "397/397 - 24s - loss: 5.1621 - mae: 1.5792 - val_loss: 3.5120 - val_mae: 1.0753 - 24s/epoch - 59ms/step\n",
      "Epoch 336/450\n",
      "397/397 - 24s - loss: 5.1264 - mae: 1.5764 - val_loss: 3.7185 - val_mae: 1.1001 - 24s/epoch - 59ms/step\n",
      "Epoch 337/450\n",
      "397/397 - 24s - loss: 5.0647 - mae: 1.5659 - val_loss: 3.6014 - val_mae: 1.0473 - 24s/epoch - 59ms/step\n",
      "Epoch 338/450\n",
      "397/397 - 24s - loss: 5.0854 - mae: 1.5686 - val_loss: 3.2858 - val_mae: 0.9906 - 24s/epoch - 60ms/step\n",
      "Epoch 339/450\n",
      "397/397 - 24s - loss: 4.9784 - mae: 1.5563 - val_loss: 3.6158 - val_mae: 1.0257 - 24s/epoch - 60ms/step\n",
      "Epoch 340/450\n",
      "397/397 - 24s - loss: 5.0421 - mae: 1.5604 - val_loss: 3.5224 - val_mae: 1.0165 - 24s/epoch - 59ms/step\n",
      "Epoch 341/450\n",
      "397/397 - 23s - loss: 4.9881 - mae: 1.5533 - val_loss: 3.3591 - val_mae: 0.9964 - 23s/epoch - 59ms/step\n",
      "Epoch 342/450\n",
      "397/397 - 23s - loss: 5.0107 - mae: 1.5562 - val_loss: 3.4601 - val_mae: 1.0060 - 23s/epoch - 59ms/step\n",
      "Epoch 343/450\n",
      "397/397 - 24s - loss: 4.9487 - mae: 1.5447 - val_loss: 3.5359 - val_mae: 1.0342 - 24s/epoch - 59ms/step\n",
      "Epoch 344/450\n",
      "397/397 - 24s - loss: 4.9449 - mae: 1.5475 - val_loss: 3.7109 - val_mae: 1.1234 - 24s/epoch - 59ms/step\n",
      "Epoch 345/450\n",
      "397/397 - 23s - loss: 4.9306 - mae: 1.5421 - val_loss: 3.4148 - val_mae: 0.9939 - 23s/epoch - 59ms/step\n",
      "Epoch 346/450\n",
      "397/397 - 24s - loss: 4.8915 - mae: 1.5377 - val_loss: 3.5112 - val_mae: 1.0011 - 24s/epoch - 59ms/step\n",
      "Epoch 347/450\n",
      "397/397 - 24s - loss: 4.8891 - mae: 1.5335 - val_loss: 3.3654 - val_mae: 0.9889 - 24s/epoch - 59ms/step\n",
      "Epoch 348/450\n",
      "397/397 - 24s - loss: 4.9027 - mae: 1.5386 - val_loss: 3.3492 - val_mae: 0.9785 - 24s/epoch - 59ms/step\n",
      "Epoch 349/450\n",
      "397/397 - 24s - loss: 4.8315 - mae: 1.5290 - val_loss: 3.4857 - val_mae: 0.9823 - 24s/epoch - 59ms/step\n",
      "Epoch 350/450\n",
      "397/397 - 24s - loss: 4.8158 - mae: 1.5299 - val_loss: 3.5826 - val_mae: 1.0898 - 24s/epoch - 59ms/step\n",
      "Epoch 351/450\n",
      "397/397 - 24s - loss: 4.8236 - mae: 1.5228 - val_loss: 3.5885 - val_mae: 1.0535 - 24s/epoch - 60ms/step\n",
      "Epoch 352/450\n",
      "397/397 - 24s - loss: 4.8646 - mae: 1.5340 - val_loss: 3.9997 - val_mae: 1.0698 - 24s/epoch - 60ms/step\n",
      "Epoch 353/450\n",
      "397/397 - 24s - loss: 4.7609 - mae: 1.5176 - val_loss: 3.3941 - val_mae: 1.0166 - 24s/epoch - 59ms/step\n",
      "Epoch 354/450\n",
      "397/397 - 24s - loss: 4.7432 - mae: 1.5112 - val_loss: 3.2305 - val_mae: 0.9545 - 24s/epoch - 60ms/step\n",
      "Epoch 355/450\n",
      "397/397 - 24s - loss: 4.8154 - mae: 1.5206 - val_loss: 3.2864 - val_mae: 0.9853 - 24s/epoch - 60ms/step\n",
      "Epoch 356/450\n",
      "397/397 - 24s - loss: 4.6829 - mae: 1.5048 - val_loss: 3.4480 - val_mae: 1.0492 - 24s/epoch - 59ms/step\n",
      "Epoch 357/450\n",
      "397/397 - 24s - loss: 4.6345 - mae: 1.4987 - val_loss: 3.4242 - val_mae: 0.9709 - 24s/epoch - 59ms/step\n",
      "Epoch 358/450\n",
      "397/397 - 24s - loss: 4.7515 - mae: 1.5081 - val_loss: 3.3703 - val_mae: 0.9986 - 24s/epoch - 59ms/step\n",
      "Epoch 359/450\n",
      "397/397 - 24s - loss: 4.6171 - mae: 1.4925 - val_loss: 3.3890 - val_mae: 1.0392 - 24s/epoch - 59ms/step\n",
      "Epoch 360/450\n",
      "397/397 - 24s - loss: 4.6201 - mae: 1.4932 - val_loss: 3.3268 - val_mae: 0.9722 - 24s/epoch - 59ms/step\n",
      "Epoch 361/450\n",
      "397/397 - 24s - loss: 4.6371 - mae: 1.4941 - val_loss: 3.2267 - val_mae: 0.9797 - 24s/epoch - 60ms/step\n",
      "Epoch 362/450\n",
      "397/397 - 24s - loss: 4.6066 - mae: 1.4907 - val_loss: 3.4565 - val_mae: 1.0002 - 24s/epoch - 59ms/step\n",
      "Epoch 363/450\n",
      "397/397 - 24s - loss: 4.5914 - mae: 1.4856 - val_loss: 3.7464 - val_mae: 1.0199 - 24s/epoch - 59ms/step\n",
      "Epoch 364/450\n",
      "397/397 - 24s - loss: 4.5926 - mae: 1.4865 - val_loss: 3.2309 - val_mae: 0.9712 - 24s/epoch - 60ms/step\n",
      "Epoch 365/450\n",
      "397/397 - 24s - loss: 4.6099 - mae: 1.4886 - val_loss: 3.3863 - val_mae: 0.9881 - 24s/epoch - 59ms/step\n",
      "Epoch 366/450\n",
      "397/397 - 24s - loss: 4.5865 - mae: 1.4851 - val_loss: 3.2306 - val_mae: 0.9786 - 24s/epoch - 60ms/step\n",
      "Epoch 367/450\n",
      "397/397 - 24s - loss: 4.6126 - mae: 1.4897 - val_loss: 3.2427 - val_mae: 0.9523 - 24s/epoch - 60ms/step\n",
      "Epoch 368/450\n",
      "397/397 - 24s - loss: 4.4678 - mae: 1.4674 - val_loss: 3.3892 - val_mae: 1.0710 - 24s/epoch - 60ms/step\n",
      "Epoch 369/450\n",
      "397/397 - 24s - loss: 4.4890 - mae: 1.4639 - val_loss: 3.4237 - val_mae: 0.9854 - 24s/epoch - 59ms/step\n",
      "Epoch 370/450\n",
      "397/397 - 24s - loss: 4.5307 - mae: 1.4757 - val_loss: 3.2257 - val_mae: 0.9544 - 24s/epoch - 61ms/step\n",
      "Epoch 371/450\n",
      "397/397 - 24s - loss: 4.4555 - mae: 1.4630 - val_loss: 3.1886 - val_mae: 0.9663 - 24s/epoch - 61ms/step\n",
      "Epoch 372/450\n",
      "397/397 - 24s - loss: 4.4463 - mae: 1.4655 - val_loss: 3.3282 - val_mae: 0.9644 - 24s/epoch - 60ms/step\n",
      "Epoch 373/450\n",
      "397/397 - 24s - loss: 4.4378 - mae: 1.4590 - val_loss: 3.3131 - val_mae: 0.9665 - 24s/epoch - 60ms/step\n",
      "Epoch 374/450\n",
      "397/397 - 24s - loss: 4.3711 - mae: 1.4439 - val_loss: 3.1829 - val_mae: 0.9529 - 24s/epoch - 61ms/step\n",
      "Epoch 375/450\n",
      "397/397 - 24s - loss: 4.4005 - mae: 1.4528 - val_loss: 3.3267 - val_mae: 0.9923 - 24s/epoch - 60ms/step\n",
      "Epoch 376/450\n",
      "397/397 - 24s - loss: 4.3906 - mae: 1.4492 - val_loss: 3.1556 - val_mae: 0.9559 - 24s/epoch - 61ms/step\n",
      "Epoch 377/450\n",
      "397/397 - 24s - loss: 4.4240 - mae: 1.4511 - val_loss: 3.3294 - val_mae: 1.0030 - 24s/epoch - 60ms/step\n",
      "Epoch 378/450\n",
      "397/397 - 24s - loss: 4.3879 - mae: 1.4482 - val_loss: 3.3737 - val_mae: 0.9615 - 24s/epoch - 60ms/step\n",
      "Epoch 379/450\n",
      "397/397 - 24s - loss: 4.3664 - mae: 1.4429 - val_loss: 3.2213 - val_mae: 0.9451 - 24s/epoch - 59ms/step\n",
      "Epoch 380/450\n",
      "397/397 - 24s - loss: 4.3277 - mae: 1.4401 - val_loss: 3.2247 - val_mae: 1.0040 - 24s/epoch - 60ms/step\n",
      "Epoch 381/450\n",
      "397/397 - 24s - loss: 4.3090 - mae: 1.4355 - val_loss: 3.4595 - val_mae: 1.0986 - 24s/epoch - 59ms/step\n",
      "Epoch 382/450\n",
      "397/397 - 24s - loss: 4.2928 - mae: 1.4289 - val_loss: 3.1978 - val_mae: 0.9486 - 24s/epoch - 60ms/step\n",
      "Epoch 383/450\n",
      "397/397 - 24s - loss: 4.2906 - mae: 1.4257 - val_loss: 3.0944 - val_mae: 0.9410 - 24s/epoch - 61ms/step\n",
      "Epoch 384/450\n",
      "397/397 - 24s - loss: 4.2252 - mae: 1.4185 - val_loss: 3.1596 - val_mae: 0.9493 - 24s/epoch - 60ms/step\n",
      "Epoch 385/450\n",
      "397/397 - 24s - loss: 4.2592 - mae: 1.4214 - val_loss: 3.2024 - val_mae: 0.9519 - 24s/epoch - 59ms/step\n",
      "Epoch 386/450\n",
      "397/397 - 24s - loss: 4.2289 - mae: 1.4241 - val_loss: 3.2452 - val_mae: 1.0454 - 24s/epoch - 59ms/step\n",
      "Epoch 387/450\n",
      "397/397 - 24s - loss: 4.2102 - mae: 1.4194 - val_loss: 3.2717 - val_mae: 0.9955 - 24s/epoch - 59ms/step\n",
      "Epoch 388/450\n",
      "397/397 - 24s - loss: 4.1603 - mae: 1.4116 - val_loss: 3.2766 - val_mae: 0.9648 - 24s/epoch - 59ms/step\n",
      "Epoch 389/450\n",
      "397/397 - 24s - loss: 4.2418 - mae: 1.4202 - val_loss: 3.1456 - val_mae: 0.9585 - 24s/epoch - 59ms/step\n",
      "Epoch 390/450\n",
      "397/397 - 24s - loss: 4.1966 - mae: 1.4148 - val_loss: 3.1043 - val_mae: 0.9338 - 24s/epoch - 60ms/step\n",
      "Epoch 391/450\n",
      "397/397 - 24s - loss: 4.1480 - mae: 1.4061 - val_loss: 3.1949 - val_mae: 0.9786 - 24s/epoch - 59ms/step\n",
      "Epoch 392/450\n",
      "397/397 - 24s - loss: 4.1227 - mae: 1.4003 - val_loss: 3.2188 - val_mae: 0.9894 - 24s/epoch - 60ms/step\n",
      "Epoch 393/450\n",
      "397/397 - 25s - loss: 4.1050 - mae: 1.3979 - val_loss: 3.2809 - val_mae: 0.9452 - 25s/epoch - 62ms/step\n",
      "Epoch 394/450\n",
      "397/397 - 24s - loss: 4.1099 - mae: 1.3985 - val_loss: 4.1929 - val_mae: 1.0958 - 24s/epoch - 59ms/step\n",
      "Epoch 395/450\n",
      "397/397 - 24s - loss: 4.0858 - mae: 1.3950 - val_loss: 3.1547 - val_mae: 0.9227 - 24s/epoch - 59ms/step\n",
      "Epoch 396/450\n",
      "397/397 - 24s - loss: 4.0827 - mae: 1.3928 - val_loss: 3.2031 - val_mae: 0.9604 - 24s/epoch - 59ms/step\n",
      "Epoch 397/450\n",
      "397/397 - 24s - loss: 4.0067 - mae: 1.3834 - val_loss: 3.1970 - val_mae: 0.9829 - 24s/epoch - 59ms/step\n",
      "Epoch 398/450\n",
      "397/397 - 23s - loss: 3.9829 - mae: 1.3773 - val_loss: 3.1854 - val_mae: 0.9406 - 23s/epoch - 59ms/step\n",
      "Epoch 399/450\n",
      "397/397 - 24s - loss: 3.9867 - mae: 1.3796 - val_loss: 3.0534 - val_mae: 0.9429 - 24s/epoch - 60ms/step\n",
      "Epoch 400/450\n",
      "397/397 - 24s - loss: 3.9759 - mae: 1.3768 - val_loss: 3.1626 - val_mae: 0.9605 - 24s/epoch - 60ms/step\n",
      "Epoch 401/450\n",
      "397/397 - 24s - loss: 3.9753 - mae: 1.3742 - val_loss: 3.1274 - val_mae: 0.9441 - 24s/epoch - 59ms/step\n",
      "Epoch 402/450\n",
      "397/397 - 24s - loss: 3.9853 - mae: 1.3784 - val_loss: 3.2034 - val_mae: 1.0134 - 24s/epoch - 60ms/step\n",
      "Epoch 403/450\n",
      "397/397 - 24s - loss: 3.9418 - mae: 1.3719 - val_loss: 3.1109 - val_mae: 0.9369 - 24s/epoch - 60ms/step\n",
      "Epoch 404/450\n",
      "397/397 - 24s - loss: 3.9057 - mae: 1.3624 - val_loss: 3.3842 - val_mae: 0.9566 - 24s/epoch - 60ms/step\n",
      "Epoch 405/450\n",
      "397/397 - 23s - loss: 3.9066 - mae: 1.3615 - val_loss: 3.1132 - val_mae: 0.9246 - 23s/epoch - 59ms/step\n",
      "Epoch 406/450\n",
      "397/397 - 24s - loss: 3.8945 - mae: 1.3582 - val_loss: 3.1687 - val_mae: 0.9753 - 24s/epoch - 59ms/step\n",
      "Epoch 407/450\n",
      "397/397 - 24s - loss: 3.9138 - mae: 1.3623 - val_loss: 3.0704 - val_mae: 0.9099 - 24s/epoch - 59ms/step\n",
      "Epoch 408/450\n",
      "397/397 - 24s - loss: 3.9150 - mae: 1.3594 - val_loss: 3.2261 - val_mae: 0.9385 - 24s/epoch - 60ms/step\n",
      "Epoch 409/450\n",
      "397/397 - 25s - loss: 3.8526 - mae: 1.3535 - val_loss: 3.1018 - val_mae: 0.9181 - 25s/epoch - 62ms/step\n",
      "Epoch 410/450\n",
      "397/397 - 24s - loss: 3.8281 - mae: 1.3500 - val_loss: 3.1391 - val_mae: 0.9736 - 24s/epoch - 59ms/step\n",
      "Epoch 411/450\n",
      "397/397 - 25s - loss: 3.8716 - mae: 1.3526 - val_loss: 3.0243 - val_mae: 0.9289 - 25s/epoch - 64ms/step\n",
      "Epoch 412/450\n",
      "397/397 - 24s - loss: 3.8643 - mae: 1.3515 - val_loss: 3.2353 - val_mae: 0.9289 - 24s/epoch - 60ms/step\n",
      "Epoch 413/450\n",
      "397/397 - 24s - loss: 3.8361 - mae: 1.3450 - val_loss: 3.3043 - val_mae: 0.9402 - 24s/epoch - 60ms/step\n",
      "Epoch 414/450\n",
      "397/397 - 25s - loss: 3.8229 - mae: 1.3480 - val_loss: 3.1661 - val_mae: 0.9384 - 25s/epoch - 62ms/step\n",
      "Epoch 415/450\n",
      "397/397 - 24s - loss: 3.8342 - mae: 1.3469 - val_loss: 3.2489 - val_mae: 1.0227 - 24s/epoch - 60ms/step\n",
      "Epoch 416/450\n",
      "397/397 - 24s - loss: 3.7914 - mae: 1.3387 - val_loss: 3.0564 - val_mae: 0.9465 - 24s/epoch - 60ms/step\n",
      "Epoch 417/450\n",
      "397/397 - 24s - loss: 3.7800 - mae: 1.3384 - val_loss: 3.1406 - val_mae: 0.9387 - 24s/epoch - 60ms/step\n",
      "Epoch 418/450\n",
      "397/397 - 24s - loss: 3.7712 - mae: 1.3331 - val_loss: 3.1380 - val_mae: 0.9319 - 24s/epoch - 60ms/step\n",
      "Epoch 419/450\n",
      "397/397 - 25s - loss: 3.7374 - mae: 1.3318 - val_loss: 3.0610 - val_mae: 0.9109 - 25s/epoch - 63ms/step\n",
      "Epoch 420/450\n",
      "397/397 - 24s - loss: 3.6835 - mae: 1.3204 - val_loss: 2.9587 - val_mae: 0.9220 - 24s/epoch - 61ms/step\n",
      "Epoch 421/450\n",
      "397/397 - 24s - loss: 3.7576 - mae: 1.3303 - val_loss: 3.0885 - val_mae: 0.9495 - 24s/epoch - 60ms/step\n",
      "Epoch 422/450\n",
      "397/397 - 24s - loss: 3.6790 - mae: 1.3198 - val_loss: 2.9732 - val_mae: 0.9084 - 24s/epoch - 60ms/step\n",
      "Epoch 423/450\n",
      "397/397 - 24s - loss: 3.6241 - mae: 1.3130 - val_loss: 3.1127 - val_mae: 0.9518 - 24s/epoch - 60ms/step\n",
      "Epoch 424/450\n",
      "397/397 - 24s - loss: 3.7090 - mae: 1.3204 - val_loss: 3.0926 - val_mae: 0.9507 - 24s/epoch - 60ms/step\n",
      "Epoch 425/450\n",
      "397/397 - 25s - loss: 3.6510 - mae: 1.3120 - val_loss: 2.9663 - val_mae: 0.9380 - 25s/epoch - 63ms/step\n",
      "Epoch 426/450\n",
      "397/397 - 25s - loss: 3.6400 - mae: 1.3146 - val_loss: 3.0215 - val_mae: 0.9296 - 25s/epoch - 62ms/step\n",
      "Epoch 427/450\n",
      "397/397 - 24s - loss: 3.6368 - mae: 1.3095 - val_loss: 3.1109 - val_mae: 0.9281 - 24s/epoch - 60ms/step\n",
      "Epoch 428/450\n",
      "397/397 - 24s - loss: 3.6062 - mae: 1.3034 - val_loss: 2.9847 - val_mae: 0.8928 - 24s/epoch - 60ms/step\n",
      "Epoch 429/450\n",
      "397/397 - 24s - loss: 3.6660 - mae: 1.3111 - val_loss: 2.9839 - val_mae: 0.9226 - 24s/epoch - 60ms/step\n",
      "Epoch 430/450\n",
      "397/397 - 24s - loss: 3.6525 - mae: 1.3133 - val_loss: 3.0011 - val_mae: 0.9377 - 24s/epoch - 60ms/step\n",
      "Epoch 431/450\n",
      "397/397 - 24s - loss: 3.6216 - mae: 1.3052 - val_loss: 3.0177 - val_mae: 0.9416 - 24s/epoch - 60ms/step\n",
      "Epoch 432/450\n",
      "397/397 - 25s - loss: 3.5599 - mae: 1.2947 - val_loss: 3.0098 - val_mae: 0.9167 - 25s/epoch - 62ms/step\n",
      "Epoch 433/450\n",
      "397/397 - 24s - loss: 3.5531 - mae: 1.2952 - val_loss: 2.9527 - val_mae: 0.9326 - 24s/epoch - 61ms/step\n",
      "Epoch 434/450\n",
      "397/397 - 24s - loss: 3.5225 - mae: 1.2925 - val_loss: 3.0247 - val_mae: 0.9422 - 24s/epoch - 60ms/step\n",
      "Epoch 435/450\n",
      "397/397 - 24s - loss: 3.5549 - mae: 1.2933 - val_loss: 3.2361 - val_mae: 0.9173 - 24s/epoch - 60ms/step\n",
      "Epoch 436/450\n",
      "397/397 - 24s - loss: 3.5758 - mae: 1.2942 - val_loss: 3.0716 - val_mae: 0.9151 - 24s/epoch - 60ms/step\n",
      "Epoch 437/450\n",
      "397/397 - 24s - loss: 3.4687 - mae: 1.2815 - val_loss: 3.2231 - val_mae: 0.9326 - 24s/epoch - 60ms/step\n",
      "Epoch 438/450\n",
      "397/397 - 24s - loss: 3.5165 - mae: 1.2850 - val_loss: 3.1008 - val_mae: 0.9421 - 24s/epoch - 60ms/step\n",
      "Epoch 439/450\n",
      "397/397 - 24s - loss: 3.4930 - mae: 1.2844 - val_loss: 3.2439 - val_mae: 1.0105 - 24s/epoch - 60ms/step\n",
      "Epoch 440/450\n",
      "397/397 - 24s - loss: 3.4773 - mae: 1.2812 - val_loss: 3.0509 - val_mae: 0.9327 - 24s/epoch - 60ms/step\n",
      "Epoch 441/450\n",
      "397/397 - 24s - loss: 3.4474 - mae: 1.2789 - val_loss: 3.1278 - val_mae: 0.9728 - 24s/epoch - 60ms/step\n",
      "Epoch 442/450\n",
      "397/397 - 24s - loss: 3.4516 - mae: 1.2766 - val_loss: 3.0671 - val_mae: 0.9748 - 24s/epoch - 60ms/step\n",
      "Epoch 443/450\n",
      "397/397 - 24s - loss: 3.4371 - mae: 1.2674 - val_loss: 2.9972 - val_mae: 0.9096 - 24s/epoch - 60ms/step\n",
      "Epoch 444/450\n",
      "397/397 - 24s - loss: 3.3966 - mae: 1.2658 - val_loss: 3.0840 - val_mae: 0.9775 - 24s/epoch - 60ms/step\n",
      "Epoch 445/450\n",
      "397/397 - 24s - loss: 3.4729 - mae: 1.2776 - val_loss: 3.0952 - val_mae: 0.9289 - 24s/epoch - 60ms/step\n",
      "Epoch 446/450\n",
      "397/397 - 24s - loss: 3.4540 - mae: 1.2724 - val_loss: 3.2242 - val_mae: 0.9749 - 24s/epoch - 60ms/step\n",
      "Epoch 447/450\n",
      "397/397 - 24s - loss: 3.4018 - mae: 1.2644 - val_loss: 3.1175 - val_mae: 0.9625 - 24s/epoch - 60ms/step\n",
      "Epoch 448/450\n",
      "397/397 - 24s - loss: 3.3689 - mae: 1.2589 - val_loss: 3.1490 - val_mae: 0.9583 - 24s/epoch - 60ms/step\n",
      "Epoch 449/450\n",
      "397/397 - 25s - loss: 3.3770 - mae: 1.2572 - val_loss: 3.2047 - val_mae: 1.0155 - 25s/epoch - 62ms/step\n",
      "Epoch 450/450\n",
      "397/397 - 24s - loss: 3.3024 - mae: 1.2492 - val_loss: 3.1002 - val_mae: 0.9524 - 24s/epoch - 60ms/step\n"
     ]
    }
   ],
   "source": [
    "results = model.fit(x=X_train,y=y_train,epochs=450,verbose=2,callbacks=[model_checkpoint_callback],validation_data=(X_test, y_test))"
   ]
  },
  {
   "cell_type": "code",
   "execution_count": 57,
   "metadata": {
    "colab": {
     "base_uri": "https://localhost:8080/"
    },
    "executionInfo": {
     "elapsed": 768,
     "status": "ok",
     "timestamp": 1640189490210,
     "user": {
      "displayName": "Mateo Forjan",
      "photoUrl": "https://lh3.googleusercontent.com/a/default-user=s64",
      "userId": "06372541481818120502"
     },
     "user_tz": -60
    },
    "id": "AgahwIAcKISS",
    "outputId": "129c5002-cfc0-4be5-9c0e-77111f7b5ebb"
   },
   "outputs": [
    {
     "data": {
      "text/plain": [
       "<tensorflow.python.training.tracking.util.CheckpointLoadStatus at 0x7f1e83ec5390>"
      ]
     },
     "execution_count": 57,
     "metadata": {},
     "output_type": "execute_result"
    }
   ],
   "source": [
    "model.load_weights(checkpoint_filepath)"
   ]
  },
  {
   "cell_type": "code",
   "execution_count": 58,
   "metadata": {
    "colab": {
     "base_uri": "https://localhost:8080/"
    },
    "executionInfo": {
     "elapsed": 206,
     "status": "ok",
     "timestamp": 1640189501336,
     "user": {
      "displayName": "Mateo Forjan",
      "photoUrl": "https://lh3.googleusercontent.com/a/default-user=s64",
      "userId": "06372541481818120502"
     },
     "user_tz": -60
    },
    "id": "lZj9EDMW69vx",
    "outputId": "9abbd103-d71b-48aa-ba50-65f238e911ec"
   },
   "outputs": [
    {
     "data": {
      "text/plain": [
       "dict_keys(['loss', 'mae', 'val_loss', 'val_mae'])"
      ]
     },
     "execution_count": 58,
     "metadata": {},
     "output_type": "execute_result"
    }
   ],
   "source": [
    "results.history.keys()"
   ]
  },
  {
   "cell_type": "code",
   "execution_count": 63,
   "metadata": {
    "colab": {
     "base_uri": "https://localhost:8080/",
     "height": 1000
    },
    "executionInfo": {
     "elapsed": 1398,
     "status": "ok",
     "timestamp": 1640189631229,
     "user": {
      "displayName": "Mateo Forjan",
      "photoUrl": "https://lh3.googleusercontent.com/a/default-user=s64",
      "userId": "06372541481818120502"
     },
     "user_tz": -60
    },
    "id": "toETM85D8M9x",
    "outputId": "9747dd28-a310-4ffd-cabb-159722572ba3"
   },
   "outputs": [
    {
     "data": {
      "image/png": "[encoded data removed]",
      "text/plain": [
       "<Figure size 720x720 with 1 Axes>"
      ]
     },
     "metadata": {
      "needs_background": "light"
     },
     "output_type": "display_data"
    },
    {
     "data": {
      "image/png": "[encoded data removed]",
      "text/plain": [
       "<Figure size 720x720 with 1 Axes>"
      ]
     },
     "metadata": {
      "needs_background": "light"
     },
     "output_type": "display_data"
    }
   ],
   "source": [
    "# summarize history for accuracy\n",
    "plt.figure(figsize=(10,10))\n",
    "plt.plot(np.sqrt(results.history['loss']),label='train_mean')\n",
    "plt.plot(np.sqrt(results.history['val_loss']),label='validation_mean')\n",
    "\n",
    "plt.title('Model loss - RMSE')\n",
    "plt.ylabel('Loss')\n",
    "plt.xlabel('epoch')\n",
    "plt.ylim(0,10)\n",
    "plt.legend(loc='upper left')\n",
    "plt.show()\n",
    "\n",
    "\n",
    "plt.figure(figsize=(10,10))\n",
    "plt.plot(results.history['mae'],label='train_mean')\n",
    "plt.plot(results.history['val_mae'],label='validation_mean')\n",
    "plt.title('Model mean absolute error')\n",
    "plt.ylabel('MAE')\n",
    "plt.xlabel('epoch')\n",
    "plt.ylim(0,10)\n",
    "plt.legend( loc='upper left')\n",
    "plt.show()"
   ]
  },
  {
   "cell_type": "code",
   "execution_count": 64,
   "metadata": {
    "colab": {
     "base_uri": "https://localhost:8080/"
    },
    "executionInfo": {
     "elapsed": 182,
     "status": "ok",
     "timestamp": 1640189666612,
     "user": {
      "displayName": "Mateo Forjan",
      "photoUrl": "https://lh3.googleusercontent.com/a/default-user=s64",
      "userId": "06372541481818120502"
     },
     "user_tz": -60
    },
    "id": "Hkmsd-sN8O3p",
    "outputId": "05999315-2bb9-44b4-cae7-957b4dd89d4d"
   },
   "outputs": [
    {
     "data": {
      "text/plain": [
       "1.7183441376492885"
      ]
     },
     "execution_count": 64,
     "metadata": {},
     "output_type": "execute_result"
    }
   ],
   "source": [
    "np.sqrt(min(results.history['val_loss']))"
   ]
  },
  {
   "cell_type": "code",
   "execution_count": 65,
   "metadata": {
    "executionInfo": {
     "elapsed": 5915,
     "status": "ok",
     "timestamp": 1640189679092,
     "user": {
      "displayName": "Mateo Forjan",
      "photoUrl": "https://lh3.googleusercontent.com/a/default-user=s64",
      "userId": "06372541481818120502"
     },
     "user_tz": -60
    },
    "id": "glcost-oRZMD"
   },
   "outputs": [],
   "source": [
    "#We choose mean filling even though there is no difference\n",
    "predictions = model.predict(X_test)"
   ]
  },
  {
   "cell_type": "code",
   "execution_count": 66,
   "metadata": {
    "executionInfo": {
     "elapsed": 238,
     "status": "ok",
     "timestamp": 1640189681353,
     "user": {
      "displayName": "Mateo Forjan",
      "photoUrl": "https://lh3.googleusercontent.com/a/default-user=s64",
      "userId": "06372541481818120502"
     },
     "user_tz": -60
    },
    "id": "5Moi4B71SBBi"
   },
   "outputs": [],
   "source": [
    "predictions = pd.DataFrame(data = predictions,columns = Labels_mean.columns)"
   ]
  },
  {
   "cell_type": "code",
   "execution_count": 67,
   "metadata": {
    "colab": {
     "base_uri": "https://localhost:8080/",
     "height": 488
    },
    "executionInfo": {
     "elapsed": 235,
     "status": "ok",
     "timestamp": 1640189683501,
     "user": {
      "displayName": "Mateo Forjan",
      "photoUrl": "https://lh3.googleusercontent.com/a/default-user=s64",
      "userId": "06372541481818120502"
     },
     "user_tz": -60
    },
    "id": "FmGC-ESmSCQz",
    "outputId": "5e898031-3fab-494d-8c28-7760cee43688"
   },
   "outputs": [
    {
     "data": {
      "text/html": [
       "\n",
       "  <div id=\"df-12cbe747-166d-4df5-bb17-3a00599112ac\">\n",
       "    <div class=\"colab-df-container\">\n",
       "      <div>\n",
       "<style scoped>\n",
       "    .dataframe tbody tr th:only-of-type {\n",
       "        vertical-align: middle;\n",
       "    }\n",
       "\n",
       "    .dataframe tbody tr th {\n",
       "        vertical-align: top;\n",
       "    }\n",
       "\n",
       "    .dataframe thead th {\n",
       "        text-align: right;\n",
       "    }\n",
       "</style>\n",
       "<table border=\"1\" class=\"dataframe\">\n",
       "  <thead>\n",
       "    <tr style=\"text-align: right;\">\n",
       "      <th>index</th>\n",
       "      <th>index</th>\n",
       "      <th>left_eye_center_x</th>\n",
       "      <th>left_eye_center_y</th>\n",
       "      <th>right_eye_center_x</th>\n",
       "      <th>right_eye_center_y</th>\n",
       "      <th>left_eye_inner_corner_x</th>\n",
       "      <th>left_eye_inner_corner_y</th>\n",
       "      <th>left_eye_outer_corner_x</th>\n",
       "      <th>left_eye_outer_corner_y</th>\n",
       "      <th>right_eye_inner_corner_x</th>\n",
       "      <th>right_eye_inner_corner_y</th>\n",
       "      <th>right_eye_outer_corner_x</th>\n",
       "      <th>right_eye_outer_corner_y</th>\n",
       "      <th>left_eyebrow_inner_end_x</th>\n",
       "      <th>left_eyebrow_inner_end_y</th>\n",
       "      <th>left_eyebrow_outer_end_x</th>\n",
       "      <th>left_eyebrow_outer_end_y</th>\n",
       "      <th>right_eyebrow_inner_end_x</th>\n",
       "      <th>right_eyebrow_inner_end_y</th>\n",
       "      <th>right_eyebrow_outer_end_x</th>\n",
       "      <th>right_eyebrow_outer_end_y</th>\n",
       "      <th>nose_tip_x</th>\n",
       "      <th>nose_tip_y</th>\n",
       "      <th>mouth_left_corner_x</th>\n",
       "      <th>mouth_left_corner_y</th>\n",
       "      <th>mouth_right_corner_x</th>\n",
       "      <th>mouth_right_corner_y</th>\n",
       "      <th>mouth_center_top_lip_x</th>\n",
       "      <th>mouth_center_top_lip_y</th>\n",
       "      <th>mouth_center_bottom_lip_x</th>\n",
       "      <th>mouth_center_bottom_lip_y</th>\n",
       "    </tr>\n",
       "  </thead>\n",
       "  <tbody>\n",
       "    <tr>\n",
       "      <th>0</th>\n",
       "      <td>4941</td>\n",
       "      <td>73.611238</td>\n",
       "      <td>34.508668</td>\n",
       "      <td>30.841224</td>\n",
       "      <td>36.438155</td>\n",
       "      <td>59.255347</td>\n",
       "      <td>36.065143</td>\n",
       "      <td>73.942694</td>\n",
       "      <td>34.624653</td>\n",
       "      <td>37.478531</td>\n",
       "      <td>39.398041</td>\n",
       "      <td>22.056816</td>\n",
       "      <td>40.330122</td>\n",
       "      <td>53.299787</td>\n",
       "      <td>29.987657</td>\n",
       "      <td>80.947787</td>\n",
       "      <td>27.977535</td>\n",
       "      <td>38.779298</td>\n",
       "      <td>33.302596</td>\n",
       "      <td>14.798890</td>\n",
       "      <td>35.982760</td>\n",
       "      <td>53.030174</td>\n",
       "      <td>63.772367</td>\n",
       "      <td>72.600433</td>\n",
       "      <td>71.862041</td>\n",
       "      <td>34.232759</td>\n",
       "      <td>77.339429</td>\n",
       "      <td>51.599453</td>\n",
       "      <td>75.963592</td>\n",
       "      <td>53.030174</td>\n",
       "      <td>75.670795</td>\n",
       "    </tr>\n",
       "    <tr>\n",
       "      <th>1</th>\n",
       "      <td>748</td>\n",
       "      <td>65.024000</td>\n",
       "      <td>37.545834</td>\n",
       "      <td>30.492098</td>\n",
       "      <td>38.243434</td>\n",
       "      <td>58.744976</td>\n",
       "      <td>38.941034</td>\n",
       "      <td>72.348878</td>\n",
       "      <td>37.545834</td>\n",
       "      <td>36.421463</td>\n",
       "      <td>38.592234</td>\n",
       "      <td>23.516098</td>\n",
       "      <td>38.592234</td>\n",
       "      <td>58.047220</td>\n",
       "      <td>30.220878</td>\n",
       "      <td>78.627122</td>\n",
       "      <td>30.220878</td>\n",
       "      <td>38.862829</td>\n",
       "      <td>30.569678</td>\n",
       "      <td>16.539629</td>\n",
       "      <td>31.964956</td>\n",
       "      <td>48.629854</td>\n",
       "      <td>59.171902</td>\n",
       "      <td>60.838244</td>\n",
       "      <td>75.566049</td>\n",
       "      <td>33.631220</td>\n",
       "      <td>76.263024</td>\n",
       "      <td>48.280976</td>\n",
       "      <td>71.380293</td>\n",
       "      <td>48.978732</td>\n",
       "      <td>81.844293</td>\n",
       "    </tr>\n",
       "    <tr>\n",
       "      <th>2</th>\n",
       "      <td>3045</td>\n",
       "      <td>67.447445</td>\n",
       "      <td>39.869838</td>\n",
       "      <td>33.319641</td>\n",
       "      <td>39.057267</td>\n",
       "      <td>59.255347</td>\n",
       "      <td>36.065143</td>\n",
       "      <td>73.942694</td>\n",
       "      <td>34.624653</td>\n",
       "      <td>37.478531</td>\n",
       "      <td>39.398041</td>\n",
       "      <td>22.056816</td>\n",
       "      <td>40.330122</td>\n",
       "      <td>53.299787</td>\n",
       "      <td>29.987657</td>\n",
       "      <td>80.947787</td>\n",
       "      <td>27.977535</td>\n",
       "      <td>38.779298</td>\n",
       "      <td>33.302596</td>\n",
       "      <td>14.798890</td>\n",
       "      <td>35.982760</td>\n",
       "      <td>49.977208</td>\n",
       "      <td>66.684480</td>\n",
       "      <td>72.600433</td>\n",
       "      <td>71.862041</td>\n",
       "      <td>34.232759</td>\n",
       "      <td>77.339429</td>\n",
       "      <td>51.599453</td>\n",
       "      <td>75.963592</td>\n",
       "      <td>49.164735</td>\n",
       "      <td>80.904353</td>\n",
       "    </tr>\n",
       "    <tr>\n",
       "      <th>3</th>\n",
       "      <td>1822</td>\n",
       "      <td>66.169447</td>\n",
       "      <td>37.994385</td>\n",
       "      <td>31.191121</td>\n",
       "      <td>39.110976</td>\n",
       "      <td>57.759868</td>\n",
       "      <td>40.128159</td>\n",
       "      <td>72.039584</td>\n",
       "      <td>37.467217</td>\n",
       "      <td>38.149232</td>\n",
       "      <td>39.633625</td>\n",
       "      <td>23.669694</td>\n",
       "      <td>40.404294</td>\n",
       "      <td>58.697747</td>\n",
       "      <td>30.931131</td>\n",
       "      <td>76.995541</td>\n",
       "      <td>27.171311</td>\n",
       "      <td>41.057921</td>\n",
       "      <td>31.025127</td>\n",
       "      <td>17.402383</td>\n",
       "      <td>31.275782</td>\n",
       "      <td>51.042598</td>\n",
       "      <td>58.459324</td>\n",
       "      <td>64.315206</td>\n",
       "      <td>74.180017</td>\n",
       "      <td>32.221210</td>\n",
       "      <td>74.514097</td>\n",
       "      <td>49.882930</td>\n",
       "      <td>74.447281</td>\n",
       "      <td>48.902961</td>\n",
       "      <td>78.344886</td>\n",
       "    </tr>\n",
       "    <tr>\n",
       "      <th>4</th>\n",
       "      <td>435</td>\n",
       "      <td>65.085750</td>\n",
       "      <td>38.618250</td>\n",
       "      <td>31.232250</td>\n",
       "      <td>37.947600</td>\n",
       "      <td>59.722500</td>\n",
       "      <td>38.618250</td>\n",
       "      <td>70.448250</td>\n",
       "      <td>39.288000</td>\n",
       "      <td>37.265250</td>\n",
       "      <td>38.618250</td>\n",
       "      <td>25.199250</td>\n",
       "      <td>37.612425</td>\n",
       "      <td>56.706000</td>\n",
       "      <td>31.244025</td>\n",
       "      <td>77.822250</td>\n",
       "      <td>31.244025</td>\n",
       "      <td>41.287500</td>\n",
       "      <td>29.568150</td>\n",
       "      <td>18.544950</td>\n",
       "      <td>30.057375</td>\n",
       "      <td>46.986000</td>\n",
       "      <td>61.074750</td>\n",
       "      <td>60.393000</td>\n",
       "      <td>76.493250</td>\n",
       "      <td>35.254500</td>\n",
       "      <td>73.812000</td>\n",
       "      <td>47.321250</td>\n",
       "      <td>71.130750</td>\n",
       "      <td>46.315500</td>\n",
       "      <td>80.850750</td>\n",
       "    </tr>\n",
       "    <tr>\n",
       "      <th>...</th>\n",
       "      <td>...</td>\n",
       "      <td>...</td>\n",
       "      <td>...</td>\n",
       "      <td>...</td>\n",
       "      <td>...</td>\n",
       "      <td>...</td>\n",
       "      <td>...</td>\n",
       "      <td>...</td>\n",
       "      <td>...</td>\n",
       "      <td>...</td>\n",
       "      <td>...</td>\n",
       "      <td>...</td>\n",
       "      <td>...</td>\n",
       "      <td>...</td>\n",
       "      <td>...</td>\n",
       "      <td>...</td>\n",
       "      <td>...</td>\n",
       "      <td>...</td>\n",
       "      <td>...</td>\n",
       "      <td>...</td>\n",
       "      <td>...</td>\n",
       "      <td>...</td>\n",
       "      <td>...</td>\n",
       "      <td>...</td>\n",
       "      <td>...</td>\n",
       "      <td>...</td>\n",
       "      <td>...</td>\n",
       "      <td>...</td>\n",
       "      <td>...</td>\n",
       "      <td>...</td>\n",
       "      <td>...</td>\n",
       "    </tr>\n",
       "    <tr>\n",
       "      <th>8454</th>\n",
       "      <td>2419</td>\n",
       "      <td>63.606857</td>\n",
       "      <td>36.516645</td>\n",
       "      <td>28.686994</td>\n",
       "      <td>37.661568</td>\n",
       "      <td>59.255347</td>\n",
       "      <td>36.065143</td>\n",
       "      <td>73.942694</td>\n",
       "      <td>34.624653</td>\n",
       "      <td>37.478531</td>\n",
       "      <td>39.398041</td>\n",
       "      <td>22.056816</td>\n",
       "      <td>40.330122</td>\n",
       "      <td>53.299787</td>\n",
       "      <td>29.987657</td>\n",
       "      <td>80.947787</td>\n",
       "      <td>27.977535</td>\n",
       "      <td>38.779298</td>\n",
       "      <td>33.302596</td>\n",
       "      <td>14.798890</td>\n",
       "      <td>35.982760</td>\n",
       "      <td>48.723017</td>\n",
       "      <td>60.559845</td>\n",
       "      <td>72.600433</td>\n",
       "      <td>71.862041</td>\n",
       "      <td>34.232759</td>\n",
       "      <td>77.339429</td>\n",
       "      <td>51.599453</td>\n",
       "      <td>75.963592</td>\n",
       "      <td>48.723017</td>\n",
       "      <td>72.008969</td>\n",
       "    </tr>\n",
       "    <tr>\n",
       "      <th>8455</th>\n",
       "      <td>6901</td>\n",
       "      <td>67.333535</td>\n",
       "      <td>35.754603</td>\n",
       "      <td>28.913643</td>\n",
       "      <td>35.754603</td>\n",
       "      <td>59.255347</td>\n",
       "      <td>36.065143</td>\n",
       "      <td>73.942694</td>\n",
       "      <td>34.624653</td>\n",
       "      <td>37.478531</td>\n",
       "      <td>39.398041</td>\n",
       "      <td>22.056816</td>\n",
       "      <td>40.330122</td>\n",
       "      <td>53.299787</td>\n",
       "      <td>29.987657</td>\n",
       "      <td>80.947787</td>\n",
       "      <td>27.977535</td>\n",
       "      <td>38.779298</td>\n",
       "      <td>33.302596</td>\n",
       "      <td>14.798890</td>\n",
       "      <td>35.982760</td>\n",
       "      <td>51.796065</td>\n",
       "      <td>64.004497</td>\n",
       "      <td>72.600433</td>\n",
       "      <td>71.862041</td>\n",
       "      <td>34.232759</td>\n",
       "      <td>77.339429</td>\n",
       "      <td>51.599453</td>\n",
       "      <td>75.963592</td>\n",
       "      <td>48.688605</td>\n",
       "      <td>86.321989</td>\n",
       "    </tr>\n",
       "    <tr>\n",
       "      <th>8456</th>\n",
       "      <td>6090</td>\n",
       "      <td>65.193969</td>\n",
       "      <td>33.984646</td>\n",
       "      <td>30.818031</td>\n",
       "      <td>34.237403</td>\n",
       "      <td>59.255347</td>\n",
       "      <td>36.065143</td>\n",
       "      <td>73.942694</td>\n",
       "      <td>34.624653</td>\n",
       "      <td>37.478531</td>\n",
       "      <td>39.398041</td>\n",
       "      <td>22.056816</td>\n",
       "      <td>40.330122</td>\n",
       "      <td>53.299787</td>\n",
       "      <td>29.987657</td>\n",
       "      <td>80.947787</td>\n",
       "      <td>27.977535</td>\n",
       "      <td>38.779298</td>\n",
       "      <td>33.302596</td>\n",
       "      <td>14.798890</td>\n",
       "      <td>35.982760</td>\n",
       "      <td>45.478338</td>\n",
       "      <td>62.546935</td>\n",
       "      <td>72.600433</td>\n",
       "      <td>71.862041</td>\n",
       "      <td>34.232759</td>\n",
       "      <td>77.339429</td>\n",
       "      <td>51.599453</td>\n",
       "      <td>75.963592</td>\n",
       "      <td>48.005908</td>\n",
       "      <td>74.174049</td>\n",
       "    </tr>\n",
       "    <tr>\n",
       "      <th>8457</th>\n",
       "      <td>6825</td>\n",
       "      <td>64.345088</td>\n",
       "      <td>38.205530</td>\n",
       "      <td>33.303642</td>\n",
       "      <td>40.217485</td>\n",
       "      <td>59.255347</td>\n",
       "      <td>36.065143</td>\n",
       "      <td>73.942694</td>\n",
       "      <td>34.624653</td>\n",
       "      <td>37.478531</td>\n",
       "      <td>39.398041</td>\n",
       "      <td>22.056816</td>\n",
       "      <td>40.330122</td>\n",
       "      <td>53.299787</td>\n",
       "      <td>29.987657</td>\n",
       "      <td>80.947787</td>\n",
       "      <td>27.977535</td>\n",
       "      <td>38.779298</td>\n",
       "      <td>33.302596</td>\n",
       "      <td>14.798890</td>\n",
       "      <td>35.982760</td>\n",
       "      <td>49.399168</td>\n",
       "      <td>65.223168</td>\n",
       "      <td>72.600433</td>\n",
       "      <td>71.862041</td>\n",
       "      <td>34.232759</td>\n",
       "      <td>77.339429</td>\n",
       "      <td>51.599453</td>\n",
       "      <td>75.963592</td>\n",
       "      <td>50.836352</td>\n",
       "      <td>78.444544</td>\n",
       "    </tr>\n",
       "    <tr>\n",
       "      <th>8458</th>\n",
       "      <td>209</td>\n",
       "      <td>62.769702</td>\n",
       "      <td>35.515098</td>\n",
       "      <td>30.515745</td>\n",
       "      <td>37.036460</td>\n",
       "      <td>56.987915</td>\n",
       "      <td>35.819370</td>\n",
       "      <td>68.246468</td>\n",
       "      <td>35.819370</td>\n",
       "      <td>35.993191</td>\n",
       "      <td>37.036460</td>\n",
       "      <td>24.430298</td>\n",
       "      <td>38.253549</td>\n",
       "      <td>53.032170</td>\n",
       "      <td>28.516698</td>\n",
       "      <td>74.366638</td>\n",
       "      <td>28.191932</td>\n",
       "      <td>36.601191</td>\n",
       "      <td>30.950945</td>\n",
       "      <td>18.329191</td>\n",
       "      <td>33.991285</td>\n",
       "      <td>47.555404</td>\n",
       "      <td>52.858894</td>\n",
       "      <td>60.334979</td>\n",
       "      <td>72.637277</td>\n",
       "      <td>37.514213</td>\n",
       "      <td>73.853957</td>\n",
       "      <td>48.164085</td>\n",
       "      <td>68.072851</td>\n",
       "      <td>48.164085</td>\n",
       "      <td>79.027064</td>\n",
       "    </tr>\n",
       "  </tbody>\n",
       "</table>\n",
       "<p>8459 rows × 31 columns</p>\n",
       "</div>\n",
       "      <button class=\"colab-df-convert\" onclick=\"convertToInteractive('df-12cbe747-166d-4df5-bb17-3a00599112ac')\"\n",
       "              title=\"Convert this dataframe to an interactive table.\"\n",
       "              style=\"display:none;\">\n",
       "        \n",
       "  <svg xmlns=\"http://www.w3.org/2000/svg\" height=\"24px\"viewBox=\"0 0 24 24\"\n",
       "       width=\"24px\">\n",
       "    <path d=\"M0 0h24v24H0V0z\" fill=\"none\"/>\n",
       "    <path d=\"M18.56 5.44l.94 2.06.94-2.06 2.06-.94-2.06-.94-.94-2.06-.94 2.06-2.06.94zm-11 1L8.5 8.5l.94-2.06 2.06-.94-2.06-.94L8.5 2.5l-.94 2.06-2.06.94zm10 10l.94 2.06.94-2.06 2.06-.94-2.06-.94-.94-2.06-.94 2.06-2.06.94z\"/><path d=\"M17.41 7.96l-1.37-1.37c-.4-.4-.92-.59-1.43-.59-.52 0-1.04.2-1.43.59L10.3 9.45l-7.72 7.72c-.78.78-.78 2.05 0 2.83L4 21.41c.39.39.9.59 1.41.59.51 0 1.02-.2 1.41-.59l7.78-7.78 2.81-2.81c.8-.78.8-2.07 0-2.86zM5.41 20L4 18.59l7.72-7.72 1.47 1.35L5.41 20z\"/>\n",
       "  </svg>\n",
       "      </button>\n",
       "      \n",
       "  <style>\n",
       "    .colab-df-container {\n",
       "      display:flex;\n",
       "      flex-wrap:wrap;\n",
       "      gap: 12px;\n",
       "    }\n",
       "\n",
       "    .colab-df-convert {\n",
       "      background-color: #E8F0FE;\n",
       "      border: none;\n",
       "      border-radius: 50%;\n",
       "      cursor: pointer;\n",
       "      display: none;\n",
       "      fill: #1967D2;\n",
       "      height: 32px;\n",
       "      padding: 0 0 0 0;\n",
       "      width: 32px;\n",
       "    }\n",
       "\n",
       "    .colab-df-convert:hover {\n",
       "      background-color: #E2EBFA;\n",
       "      box-shadow: 0px 1px 2px rgba(60, 64, 67, 0.3), 0px 1px 3px 1px rgba(60, 64, 67, 0.15);\n",
       "      fill: #174EA6;\n",
       "    }\n",
       "\n",
       "    [theme=dark] .colab-df-convert {\n",
       "      background-color: #3B4455;\n",
       "      fill: #D2E3FC;\n",
       "    }\n",
       "\n",
       "    [theme=dark] .colab-df-convert:hover {\n",
       "      background-color: #434B5C;\n",
       "      box-shadow: 0px 1px 3px 1px rgba(0, 0, 0, 0.15);\n",
       "      filter: drop-shadow(0px 1px 2px rgba(0, 0, 0, 0.3));\n",
       "      fill: #FFFFFF;\n",
       "    }\n",
       "  </style>\n",
       "\n",
       "      <script>\n",
       "        const buttonEl =\n",
       "          document.querySelector('#df-12cbe747-166d-4df5-bb17-3a00599112ac button.colab-df-convert');\n",
       "        buttonEl.style.display =\n",
       "          google.colab.kernel.accessAllowed ? 'block' : 'none';\n",
       "\n",
       "        async function convertToInteractive(key) {\n",
       "          const element = document.querySelector('#df-12cbe747-166d-4df5-bb17-3a00599112ac');\n",
       "          const dataTable =\n",
       "            await google.colab.kernel.invokeFunction('convertToInteractive',\n",
       "                                                     [key], {});\n",
       "          if (!dataTable) return;\n",
       "\n",
       "          const docLinkHtml = 'Like what you see? Visit the ' +\n",
       "            '<a target=\"_blank\" href=https://colab.research.google.com/notebooks/data_table.ipynb>data table notebook</a>'\n",
       "            + ' to learn more about interactive tables.';\n",
       "          element.innerHTML = '';\n",
       "          dataTable['output_type'] = 'display_data';\n",
       "          await google.colab.output.renderOutput(dataTable, element);\n",
       "          const docLink = document.createElement('div');\n",
       "          docLink.innerHTML = docLinkHtml;\n",
       "          element.appendChild(docLink);\n",
       "        }\n",
       "      </script>\n",
       "    </div>\n",
       "  </div>\n",
       "  "
      ],
      "text/plain": [
       "index  index  left_eye_center_x  left_eye_center_y  right_eye_center_x  \\\n",
       "0       4941          73.611238          34.508668           30.841224   \n",
       "1        748          65.024000          37.545834           30.492098   \n",
       "2       3045          67.447445          39.869838           33.319641   \n",
       "3       1822          66.169447          37.994385           31.191121   \n",
       "4        435          65.085750          38.618250           31.232250   \n",
       "...      ...                ...                ...                 ...   \n",
       "8454    2419          63.606857          36.516645           28.686994   \n",
       "8455    6901          67.333535          35.754603           28.913643   \n",
       "8456    6090          65.193969          33.984646           30.818031   \n",
       "8457    6825          64.345088          38.205530           33.303642   \n",
       "8458     209          62.769702          35.515098           30.515745   \n",
       "\n",
       "index  right_eye_center_y  left_eye_inner_corner_x  left_eye_inner_corner_y  \\\n",
       "0               36.438155                59.255347                36.065143   \n",
       "1               38.243434                58.744976                38.941034   \n",
       "2               39.057267                59.255347                36.065143   \n",
       "3               39.110976                57.759868                40.128159   \n",
       "4               37.947600                59.722500                38.618250   \n",
       "...                   ...                      ...                      ...   \n",
       "8454            37.661568                59.255347                36.065143   \n",
       "8455            35.754603                59.255347                36.065143   \n",
       "8456            34.237403                59.255347                36.065143   \n",
       "8457            40.217485                59.255347                36.065143   \n",
       "8458            37.036460                56.987915                35.819370   \n",
       "\n",
       "index  left_eye_outer_corner_x  left_eye_outer_corner_y  \\\n",
       "0                    73.942694                34.624653   \n",
       "1                    72.348878                37.545834   \n",
       "2                    73.942694                34.624653   \n",
       "3                    72.039584                37.467217   \n",
       "4                    70.448250                39.288000   \n",
       "...                        ...                      ...   \n",
       "8454                 73.942694                34.624653   \n",
       "8455                 73.942694                34.624653   \n",
       "8456                 73.942694                34.624653   \n",
       "8457                 73.942694                34.624653   \n",
       "8458                 68.246468                35.819370   \n",
       "\n",
       "index  right_eye_inner_corner_x  right_eye_inner_corner_y  \\\n",
       "0                     37.478531                 39.398041   \n",
       "1                     36.421463                 38.592234   \n",
       "2                     37.478531                 39.398041   \n",
       "3                     38.149232                 39.633625   \n",
       "4                     37.265250                 38.618250   \n",
       "...                         ...                       ...   \n",
       "8454                  37.478531                 39.398041   \n",
       "8455                  37.478531                 39.398041   \n",
       "8456                  37.478531                 39.398041   \n",
       "8457                  37.478531                 39.398041   \n",
       "8458                  35.993191                 37.036460   \n",
       "\n",
       "index  right_eye_outer_corner_x  right_eye_outer_corner_y  \\\n",
       "0                     22.056816                 40.330122   \n",
       "1                     23.516098                 38.592234   \n",
       "2                     22.056816                 40.330122   \n",
       "3                     23.669694                 40.404294   \n",
       "4                     25.199250                 37.612425   \n",
       "...                         ...                       ...   \n",
       "8454                  22.056816                 40.330122   \n",
       "8455                  22.056816                 40.330122   \n",
       "8456                  22.056816                 40.330122   \n",
       "8457                  22.056816                 40.330122   \n",
       "8458                  24.430298                 38.253549   \n",
       "\n",
       "index  left_eyebrow_inner_end_x  left_eyebrow_inner_end_y  \\\n",
       "0                     53.299787                 29.987657   \n",
       "1                     58.047220                 30.220878   \n",
       "2                     53.299787                 29.987657   \n",
       "3                     58.697747                 30.931131   \n",
       "4                     56.706000                 31.244025   \n",
       "...                         ...                       ...   \n",
       "8454                  53.299787                 29.987657   \n",
       "8455                  53.299787                 29.987657   \n",
       "8456                  53.299787                 29.987657   \n",
       "8457                  53.299787                 29.987657   \n",
       "8458                  53.032170                 28.516698   \n",
       "\n",
       "index  left_eyebrow_outer_end_x  left_eyebrow_outer_end_y  \\\n",
       "0                     80.947787                 27.977535   \n",
       "1                     78.627122                 30.220878   \n",
       "2                     80.947787                 27.977535   \n",
       "3                     76.995541                 27.171311   \n",
       "4                     77.822250                 31.244025   \n",
       "...                         ...                       ...   \n",
       "8454                  80.947787                 27.977535   \n",
       "8455                  80.947787                 27.977535   \n",
       "8456                  80.947787                 27.977535   \n",
       "8457                  80.947787                 27.977535   \n",
       "8458                  74.366638                 28.191932   \n",
       "\n",
       "index  right_eyebrow_inner_end_x  right_eyebrow_inner_end_y  \\\n",
       "0                      38.779298                  33.302596   \n",
       "1                      38.862829                  30.569678   \n",
       "2                      38.779298                  33.302596   \n",
       "3                      41.057921                  31.025127   \n",
       "4                      41.287500                  29.568150   \n",
       "...                          ...                        ...   \n",
       "8454                   38.779298                  33.302596   \n",
       "8455                   38.779298                  33.302596   \n",
       "8456                   38.779298                  33.302596   \n",
       "8457                   38.779298                  33.302596   \n",
       "8458                   36.601191                  30.950945   \n",
       "\n",
       "index  right_eyebrow_outer_end_x  right_eyebrow_outer_end_y  nose_tip_x  \\\n",
       "0                      14.798890                  35.982760   53.030174   \n",
       "1                      16.539629                  31.964956   48.629854   \n",
       "2                      14.798890                  35.982760   49.977208   \n",
       "3                      17.402383                  31.275782   51.042598   \n",
       "4                      18.544950                  30.057375   46.986000   \n",
       "...                          ...                        ...         ...   \n",
       "8454                   14.798890                  35.982760   48.723017   \n",
       "8455                   14.798890                  35.982760   51.796065   \n",
       "8456                   14.798890                  35.982760   45.478338   \n",
       "8457                   14.798890                  35.982760   49.399168   \n",
       "8458                   18.329191                  33.991285   47.555404   \n",
       "\n",
       "index  nose_tip_y  mouth_left_corner_x  mouth_left_corner_y  \\\n",
       "0       63.772367            72.600433            71.862041   \n",
       "1       59.171902            60.838244            75.566049   \n",
       "2       66.684480            72.600433            71.862041   \n",
       "3       58.459324            64.315206            74.180017   \n",
       "4       61.074750            60.393000            76.493250   \n",
       "...           ...                  ...                  ...   \n",
       "8454    60.559845            72.600433            71.862041   \n",
       "8455    64.004497            72.600433            71.862041   \n",
       "8456    62.546935            72.600433            71.862041   \n",
       "8457    65.223168            72.600433            71.862041   \n",
       "8458    52.858894            60.334979            72.637277   \n",
       "\n",
       "index  mouth_right_corner_x  mouth_right_corner_y  mouth_center_top_lip_x  \\\n",
       "0                 34.232759             77.339429               51.599453   \n",
       "1                 33.631220             76.263024               48.280976   \n",
       "2                 34.232759             77.339429               51.599453   \n",
       "3                 32.221210             74.514097               49.882930   \n",
       "4                 35.254500             73.812000               47.321250   \n",
       "...                     ...                   ...                     ...   \n",
       "8454              34.232759             77.339429               51.599453   \n",
       "8455              34.232759             77.339429               51.599453   \n",
       "8456              34.232759             77.339429               51.599453   \n",
       "8457              34.232759             77.339429               51.599453   \n",
       "8458              37.514213             73.853957               48.164085   \n",
       "\n",
       "index  mouth_center_top_lip_y  mouth_center_bottom_lip_x  \\\n",
       "0                   75.963592                  53.030174   \n",
       "1                   71.380293                  48.978732   \n",
       "2                   75.963592                  49.164735   \n",
       "3                   74.447281                  48.902961   \n",
       "4                   71.130750                  46.315500   \n",
       "...                       ...                        ...   \n",
       "8454                75.963592                  48.723017   \n",
       "8455                75.963592                  48.688605   \n",
       "8456                75.963592                  48.005908   \n",
       "8457                75.963592                  50.836352   \n",
       "8458                68.072851                  48.164085   \n",
       "\n",
       "index  mouth_center_bottom_lip_y  \n",
       "0                      75.670795  \n",
       "1                      81.844293  \n",
       "2                      80.904353  \n",
       "3                      78.344886  \n",
       "4                      80.850750  \n",
       "...                          ...  \n",
       "8454                   72.008969  \n",
       "8455                   86.321989  \n",
       "8456                   74.174049  \n",
       "8457                   78.444544  \n",
       "8458                   79.027064  \n",
       "\n",
       "[8459 rows x 31 columns]"
      ]
     },
     "execution_count": 67,
     "metadata": {},
     "output_type": "execute_result"
    }
   ],
   "source": [
    "y_test_reset = y_test.reset_index()\n",
    "y_test_reset"
   ]
  },
  {
   "cell_type": "code",
   "execution_count": 68,
   "metadata": {
    "executionInfo": {
     "elapsed": 201,
     "status": "ok",
     "timestamp": 1640189686688,
     "user": {
      "displayName": "Mateo Forjan",
      "photoUrl": "https://lh3.googleusercontent.com/a/default-user=s64",
      "userId": "06372541481818120502"
     },
     "user_tz": -60
    },
    "id": "gEywmBG03X1x"
   },
   "outputs": [],
   "source": [
    "def pred_viz(i):\n",
    "    img = X_test[i,:,:,0]\n",
    "    plt.imshow(img,cmap='gray')\n",
    "    \n",
    "    columns = Labels_mean.columns\n",
    "    for a in range(0,Labels_mean.shape[1],2):\n",
    "        plt.plot(Labels_mean[columns[a]][i],Labels_mean[columns[a+1]][i], 'X',color='w',markersize=10)\n",
    "        plt.plot(predictions[columns[a]][i],Labels_mean[columns[a+1]][i], 'X',color='r',markersize=10)"
   ]
  },
  {
   "cell_type": "code",
   "execution_count": 73,
   "metadata": {
    "colab": {
     "base_uri": "https://localhost:8080/",
     "height": 268
    },
    "executionInfo": {
     "elapsed": 714,
     "status": "ok",
     "timestamp": 1640189711462,
     "user": {
      "displayName": "Mateo Forjan",
      "photoUrl": "https://lh3.googleusercontent.com/a/default-user=s64",
      "userId": "06372541481818120502"
     },
     "user_tz": -60
    },
    "id": "7LKxz7cZSKYy",
    "outputId": "7564c954-a839-4865-c4ec-7bceaf15ea3a"
   },
   "outputs": [
    {
     "data": {
      "image/png": "[encoded data removed]",
      "text/plain": [
       "<Figure size 432x288 with 1 Axes>"
      ]
     },
     "metadata": {
      "needs_background": "light"
     },
     "output_type": "display_data"
    }
   ],
   "source": [
    "pred_viz(np.random.randint(0,2114))"
   ]
  },
  {
   "cell_type": "code",
   "execution_count": 74,
   "metadata": {
    "executionInfo": {
     "elapsed": 1040,
     "status": "ok",
     "timestamp": 1640189719290,
     "user": {
      "displayName": "Mateo Forjan",
      "photoUrl": "https://lh3.googleusercontent.com/a/default-user=s64",
      "userId": "06372541481818120502"
     },
     "user_tz": -60
    },
    "id": "knyYGa7TQoHR"
   },
   "outputs": [],
   "source": [
    "df_test = pd.read_csv('/content/gdrive/MyDrive/Kaggle/test.csv')"
   ]
  },
  {
   "cell_type": "code",
   "execution_count": 75,
   "metadata": {
    "colab": {
     "base_uri": "https://localhost:8080/",
     "height": 206
    },
    "executionInfo": {
     "elapsed": 223,
     "status": "ok",
     "timestamp": 1640189721718,
     "user": {
      "displayName": "Mateo Forjan",
      "photoUrl": "https://lh3.googleusercontent.com/a/default-user=s64",
      "userId": "06372541481818120502"
     },
     "user_tz": -60
    },
    "id": "UtVmFsZASrJY",
    "outputId": "1c3386da-50aa-470e-bdff-7f6d7e04095c"
   },
   "outputs": [
    {
     "data": {
      "text/html": [
       "\n",
       "  <div id=\"df-caaaa901-9d4a-4b8f-ae07-03e6831214c3\">\n",
       "    <div class=\"colab-df-container\">\n",
       "      <div>\n",
       "<style scoped>\n",
       "    .dataframe tbody tr th:only-of-type {\n",
       "        vertical-align: middle;\n",
       "    }\n",
       "\n",
       "    .dataframe tbody tr th {\n",
       "        vertical-align: top;\n",
       "    }\n",
       "\n",
       "    .dataframe thead th {\n",
       "        text-align: right;\n",
       "    }\n",
       "</style>\n",
       "<table border=\"1\" class=\"dataframe\">\n",
       "  <thead>\n",
       "    <tr style=\"text-align: right;\">\n",
       "      <th></th>\n",
       "      <th>ImageId</th>\n",
       "      <th>Image</th>\n",
       "    </tr>\n",
       "  </thead>\n",
       "  <tbody>\n",
       "    <tr>\n",
       "      <th>0</th>\n",
       "      <td>1</td>\n",
       "      <td>182 183 182 182 180 180 176 169 156 137 124 10...</td>\n",
       "    </tr>\n",
       "    <tr>\n",
       "      <th>1</th>\n",
       "      <td>2</td>\n",
       "      <td>76 87 81 72 65 59 64 76 69 42 31 38 49 58 58 4...</td>\n",
       "    </tr>\n",
       "    <tr>\n",
       "      <th>2</th>\n",
       "      <td>3</td>\n",
       "      <td>177 176 174 170 169 169 168 166 166 166 161 14...</td>\n",
       "    </tr>\n",
       "    <tr>\n",
       "      <th>3</th>\n",
       "      <td>4</td>\n",
       "      <td>176 174 174 175 174 174 176 176 175 171 165 15...</td>\n",
       "    </tr>\n",
       "    <tr>\n",
       "      <th>4</th>\n",
       "      <td>5</td>\n",
       "      <td>50 47 44 101 144 149 120 58 48 42 35 35 37 39 ...</td>\n",
       "    </tr>\n",
       "  </tbody>\n",
       "</table>\n",
       "</div>\n",
       "      <button class=\"colab-df-convert\" onclick=\"convertToInteractive('df-caaaa901-9d4a-4b8f-ae07-03e6831214c3')\"\n",
       "              title=\"Convert this dataframe to an interactive table.\"\n",
       "              style=\"display:none;\">\n",
       "        \n",
       "  <svg xmlns=\"http://www.w3.org/2000/svg\" height=\"24px\"viewBox=\"0 0 24 24\"\n",
       "       width=\"24px\">\n",
       "    <path d=\"M0 0h24v24H0V0z\" fill=\"none\"/>\n",
       "    <path d=\"M18.56 5.44l.94 2.06.94-2.06 2.06-.94-2.06-.94-.94-2.06-.94 2.06-2.06.94zm-11 1L8.5 8.5l.94-2.06 2.06-.94-2.06-.94L8.5 2.5l-.94 2.06-2.06.94zm10 10l.94 2.06.94-2.06 2.06-.94-2.06-.94-.94-2.06-.94 2.06-2.06.94z\"/><path d=\"M17.41 7.96l-1.37-1.37c-.4-.4-.92-.59-1.43-.59-.52 0-1.04.2-1.43.59L10.3 9.45l-7.72 7.72c-.78.78-.78 2.05 0 2.83L4 21.41c.39.39.9.59 1.41.59.51 0 1.02-.2 1.41-.59l7.78-7.78 2.81-2.81c.8-.78.8-2.07 0-2.86zM5.41 20L4 18.59l7.72-7.72 1.47 1.35L5.41 20z\"/>\n",
       "  </svg>\n",
       "      </button>\n",
       "      \n",
       "  <style>\n",
       "    .colab-df-container {\n",
       "      display:flex;\n",
       "      flex-wrap:wrap;\n",
       "      gap: 12px;\n",
       "    }\n",
       "\n",
       "    .colab-df-convert {\n",
       "      background-color: #E8F0FE;\n",
       "      border: none;\n",
       "      border-radius: 50%;\n",
       "      cursor: pointer;\n",
       "      display: none;\n",
       "      fill: #1967D2;\n",
       "      height: 32px;\n",
       "      padding: 0 0 0 0;\n",
       "      width: 32px;\n",
       "    }\n",
       "\n",
       "    .colab-df-convert:hover {\n",
       "      background-color: #E2EBFA;\n",
       "      box-shadow: 0px 1px 2px rgba(60, 64, 67, 0.3), 0px 1px 3px 1px rgba(60, 64, 67, 0.15);\n",
       "      fill: #174EA6;\n",
       "    }\n",
       "\n",
       "    [theme=dark] .colab-df-convert {\n",
       "      background-color: #3B4455;\n",
       "      fill: #D2E3FC;\n",
       "    }\n",
       "\n",
       "    [theme=dark] .colab-df-convert:hover {\n",
       "      background-color: #434B5C;\n",
       "      box-shadow: 0px 1px 3px 1px rgba(0, 0, 0, 0.15);\n",
       "      filter: drop-shadow(0px 1px 2px rgba(0, 0, 0, 0.3));\n",
       "      fill: #FFFFFF;\n",
       "    }\n",
       "  </style>\n",
       "\n",
       "      <script>\n",
       "        const buttonEl =\n",
       "          document.querySelector('#df-caaaa901-9d4a-4b8f-ae07-03e6831214c3 button.colab-df-convert');\n",
       "        buttonEl.style.display =\n",
       "          google.colab.kernel.accessAllowed ? 'block' : 'none';\n",
       "\n",
       "        async function convertToInteractive(key) {\n",
       "          const element = document.querySelector('#df-caaaa901-9d4a-4b8f-ae07-03e6831214c3');\n",
       "          const dataTable =\n",
       "            await google.colab.kernel.invokeFunction('convertToInteractive',\n",
       "                                                     [key], {});\n",
       "          if (!dataTable) return;\n",
       "\n",
       "          const docLinkHtml = 'Like what you see? Visit the ' +\n",
       "            '<a target=\"_blank\" href=https://colab.research.google.com/notebooks/data_table.ipynb>data table notebook</a>'\n",
       "            + ' to learn more about interactive tables.';\n",
       "          element.innerHTML = '';\n",
       "          dataTable['output_type'] = 'display_data';\n",
       "          await google.colab.output.renderOutput(dataTable, element);\n",
       "          const docLink = document.createElement('div');\n",
       "          docLink.innerHTML = docLinkHtml;\n",
       "          element.appendChild(docLink);\n",
       "        }\n",
       "      </script>\n",
       "    </div>\n",
       "  </div>\n",
       "  "
      ],
      "text/plain": [
       "   ImageId                                              Image\n",
       "0        1  182 183 182 182 180 180 176 169 156 137 124 10...\n",
       "1        2  76 87 81 72 65 59 64 76 69 42 31 38 49 58 58 4...\n",
       "2        3  177 176 174 170 169 169 168 166 166 166 161 14...\n",
       "3        4  176 174 174 175 174 174 176 176 175 171 165 15...\n",
       "4        5  50 47 44 101 144 149 120 58 48 42 35 35 37 39 ..."
      ]
     },
     "execution_count": 75,
     "metadata": {},
     "output_type": "execute_result"
    }
   ],
   "source": [
    "df_test.head()"
   ]
  },
  {
   "cell_type": "code",
   "execution_count": 76,
   "metadata": {
    "executionInfo": {
     "elapsed": 188,
     "status": "ok",
     "timestamp": 1640189723310,
     "user": {
      "displayName": "Mateo Forjan",
      "photoUrl": "https://lh3.googleusercontent.com/a/default-user=s64",
      "userId": "06372541481818120502"
     },
     "user_tz": -60
    },
    "id": "EDJvQ9pmStuR"
   },
   "outputs": [],
   "source": [
    "Images_test = df_test['Image']"
   ]
  },
  {
   "cell_type": "code",
   "execution_count": 77,
   "metadata": {
    "executionInfo": {
     "elapsed": 2114,
     "status": "ok",
     "timestamp": 1640189727128,
     "user": {
      "displayName": "Mateo Forjan",
      "photoUrl": "https://lh3.googleusercontent.com/a/default-user=s64",
      "userId": "06372541481818120502"
     },
     "user_tz": -60
    },
    "id": "lTAXvQNsS0bA"
   },
   "outputs": [],
   "source": [
    "Images_test = Images_test.apply(lambda x:np.array(x.split(' ')))"
   ]
  },
  {
   "cell_type": "code",
   "execution_count": 78,
   "metadata": {
    "colab": {
     "base_uri": "https://localhost:8080/"
    },
    "executionInfo": {
     "elapsed": 2,
     "status": "ok",
     "timestamp": 1640189727128,
     "user": {
      "displayName": "Mateo Forjan",
      "photoUrl": "https://lh3.googleusercontent.com/a/default-user=s64",
      "userId": "06372541481818120502"
     },
     "user_tz": -60
    },
    "id": "Zo5BHSpXS4rR",
    "outputId": "b29ec4a4-9163-481f-dcf2-e01f6bc9b96e"
   },
   "outputs": [
    {
     "data": {
      "text/plain": [
       "0       [182, 183, 182, 182, 180, 180, 176, 169, 156, ...\n",
       "1       [76, 87, 81, 72, 65, 59, 64, 76, 69, 42, 31, 3...\n",
       "2       [177, 176, 174, 170, 169, 169, 168, 166, 166, ...\n",
       "3       [176, 174, 174, 175, 174, 174, 176, 176, 175, ...\n",
       "4       [50, 47, 44, 101, 144, 149, 120, 58, 48, 42, 3...\n",
       "                              ...                        \n",
       "1778    [101, 101, 101, 100, 100, 97, 97, 98, 102, 149...\n",
       "1779    [201, 191, 171, 158, 145, 140, 136, 130, 123, ...\n",
       "1780    [28, 28, 29, 30, 31, 32, 33, 34, 39, 44, 46, 4...\n",
       "1781    [104, 95, 71, 57, 46, 52, 65, 70, 70, 67, 76, ...\n",
       "1782    [63, 61, 64, 66, 66, 64, 65, 70, 69, 70, 77, 8...\n",
       "Name: Image, Length: 1783, dtype: object"
      ]
     },
     "execution_count": 78,
     "metadata": {},
     "output_type": "execute_result"
    }
   ],
   "source": [
    "Images_test"
   ]
  },
  {
   "cell_type": "code",
   "execution_count": 79,
   "metadata": {
    "executionInfo": {
     "elapsed": 5602,
     "status": "ok",
     "timestamp": 1640189733979,
     "user": {
      "displayName": "Mateo Forjan",
      "photoUrl": "https://lh3.googleusercontent.com/a/default-user=s64",
      "userId": "06372541481818120502"
     },
     "user_tz": -60
    },
    "id": "yKfgrot2S6-A"
   },
   "outputs": [],
   "source": [
    "Images_test =Images_test.apply(lambda x:x.astype(np.uint8))"
   ]
  },
  {
   "cell_type": "code",
   "execution_count": 80,
   "metadata": {
    "colab": {
     "base_uri": "https://localhost:8080/"
    },
    "executionInfo": {
     "elapsed": 16,
     "status": "ok",
     "timestamp": 1640189733980,
     "user": {
      "displayName": "Mateo Forjan",
      "photoUrl": "https://lh3.googleusercontent.com/a/default-user=s64",
      "userId": "06372541481818120502"
     },
     "user_tz": -60
    },
    "id": "6FTzCkoPS-0Y",
    "outputId": "b3078b2f-40ae-42e5-d678-b00ec5ea4562"
   },
   "outputs": [
    {
     "data": {
      "text/plain": [
       "numpy.uint8"
      ]
     },
     "execution_count": 80,
     "metadata": {},
     "output_type": "execute_result"
    }
   ],
   "source": [
    "type(Images_test[0][0])"
   ]
  },
  {
   "cell_type": "code",
   "execution_count": 81,
   "metadata": {
    "executionInfo": {
     "elapsed": 193,
     "status": "ok",
     "timestamp": 1640189737839,
     "user": {
      "displayName": "Mateo Forjan",
      "photoUrl": "https://lh3.googleusercontent.com/a/default-user=s64",
      "userId": "06372541481818120502"
     },
     "user_tz": -60
    },
    "id": "TgPQ0KIcTNQg"
   },
   "outputs": [],
   "source": [
    "neural_images_test = []\n",
    "for i in range(Images_test.shape[0]):\n",
    "    neural_images_test.append(Images_test[i])"
   ]
  },
  {
   "cell_type": "code",
   "execution_count": 82,
   "metadata": {
    "executionInfo": {
     "elapsed": 185,
     "status": "ok",
     "timestamp": 1640189744262,
     "user": {
      "displayName": "Mateo Forjan",
      "photoUrl": "https://lh3.googleusercontent.com/a/default-user=s64",
      "userId": "06372541481818120502"
     },
     "user_tz": -60
    },
    "id": "rRFMSavaTVCg"
   },
   "outputs": [],
   "source": [
    "neural_images_test = np.reshape(neural_images_test,newshape=(Images_test.shape[0],96,96,1))"
   ]
  },
  {
   "cell_type": "code",
   "execution_count": 83,
   "metadata": {
    "colab": {
     "base_uri": "https://localhost:8080/"
    },
    "executionInfo": {
     "elapsed": 198,
     "status": "ok",
     "timestamp": 1640189747142,
     "user": {
      "displayName": "Mateo Forjan",
      "photoUrl": "https://lh3.googleusercontent.com/a/default-user=s64",
      "userId": "06372541481818120502"
     },
     "user_tz": -60
    },
    "id": "AVUDHFBfTYWQ",
    "outputId": "ddd5b762-e2eb-49da-f1ce-192d081d0eb4"
   },
   "outputs": [
    {
     "data": {
      "text/plain": [
       "(1783, 96, 96, 1)"
      ]
     },
     "execution_count": 83,
     "metadata": {},
     "output_type": "execute_result"
    }
   ],
   "source": [
    "neural_images_test.shape"
   ]
  },
  {
   "cell_type": "code",
   "execution_count": 84,
   "metadata": {
    "executionInfo": {
     "elapsed": 213,
     "status": "ok",
     "timestamp": 1640189750463,
     "user": {
      "displayName": "Mateo Forjan",
      "photoUrl": "https://lh3.googleusercontent.com/a/default-user=s64",
      "userId": "06372541481818120502"
     },
     "user_tz": -60
    },
    "id": "DmyJ4OtkJYv3"
   },
   "outputs": [],
   "source": [
    "neural_images_test = neural_images_test/255"
   ]
  },
  {
   "cell_type": "code",
   "execution_count": 85,
   "metadata": {
    "executionInfo": {
     "elapsed": 1575,
     "status": "ok",
     "timestamp": 1640189753791,
     "user": {
      "displayName": "Mateo Forjan",
      "photoUrl": "https://lh3.googleusercontent.com/a/default-user=s64",
      "userId": "06372541481818120502"
     },
     "user_tz": -60
    },
    "id": "6EPMoah_TZeY"
   },
   "outputs": [],
   "source": [
    "Predictions_test = model.predict(neural_images_test)"
   ]
  },
  {
   "cell_type": "code",
   "execution_count": 86,
   "metadata": {
    "executionInfo": {
     "elapsed": 201,
     "status": "ok",
     "timestamp": 1640189755413,
     "user": {
      "displayName": "Mateo Forjan",
      "photoUrl": "https://lh3.googleusercontent.com/a/default-user=s64",
      "userId": "06372541481818120502"
     },
     "user_tz": -60
    },
    "id": "4OeIyptqTnHo"
   },
   "outputs": [],
   "source": [
    "predictions_test = pd.DataFrame(data = Predictions_test,columns = Labels_mean.columns)"
   ]
  },
  {
   "cell_type": "code",
   "execution_count": 87,
   "metadata": {
    "colab": {
     "base_uri": "https://localhost:8080/",
     "height": 270
    },
    "executionInfo": {
     "elapsed": 236,
     "status": "ok",
     "timestamp": 1640189758460,
     "user": {
      "displayName": "Mateo Forjan",
      "photoUrl": "https://lh3.googleusercontent.com/a/default-user=s64",
      "userId": "06372541481818120502"
     },
     "user_tz": -60
    },
    "id": "7hvOEQXCTpBA",
    "outputId": "c1cfba98-433b-46f0-976e-546149342beb"
   },
   "outputs": [
    {
     "data": {
      "text/html": [
       "\n",
       "  <div id=\"df-29bb44eb-98c8-46de-a648-5d5927543d64\">\n",
       "    <div class=\"colab-df-container\">\n",
       "      <div>\n",
       "<style scoped>\n",
       "    .dataframe tbody tr th:only-of-type {\n",
       "        vertical-align: middle;\n",
       "    }\n",
       "\n",
       "    .dataframe tbody tr th {\n",
       "        vertical-align: top;\n",
       "    }\n",
       "\n",
       "    .dataframe thead th {\n",
       "        text-align: right;\n",
       "    }\n",
       "</style>\n",
       "<table border=\"1\" class=\"dataframe\">\n",
       "  <thead>\n",
       "    <tr style=\"text-align: right;\">\n",
       "      <th></th>\n",
       "      <th>left_eye_center_x</th>\n",
       "      <th>left_eye_center_y</th>\n",
       "      <th>right_eye_center_x</th>\n",
       "      <th>right_eye_center_y</th>\n",
       "      <th>left_eye_inner_corner_x</th>\n",
       "      <th>left_eye_inner_corner_y</th>\n",
       "      <th>left_eye_outer_corner_x</th>\n",
       "      <th>left_eye_outer_corner_y</th>\n",
       "      <th>right_eye_inner_corner_x</th>\n",
       "      <th>right_eye_inner_corner_y</th>\n",
       "      <th>right_eye_outer_corner_x</th>\n",
       "      <th>right_eye_outer_corner_y</th>\n",
       "      <th>left_eyebrow_inner_end_x</th>\n",
       "      <th>left_eyebrow_inner_end_y</th>\n",
       "      <th>left_eyebrow_outer_end_x</th>\n",
       "      <th>left_eyebrow_outer_end_y</th>\n",
       "      <th>right_eyebrow_inner_end_x</th>\n",
       "      <th>right_eyebrow_inner_end_y</th>\n",
       "      <th>right_eyebrow_outer_end_x</th>\n",
       "      <th>right_eyebrow_outer_end_y</th>\n",
       "      <th>nose_tip_x</th>\n",
       "      <th>nose_tip_y</th>\n",
       "      <th>mouth_left_corner_x</th>\n",
       "      <th>mouth_left_corner_y</th>\n",
       "      <th>mouth_right_corner_x</th>\n",
       "      <th>mouth_right_corner_y</th>\n",
       "      <th>mouth_center_top_lip_x</th>\n",
       "      <th>mouth_center_top_lip_y</th>\n",
       "      <th>mouth_center_bottom_lip_x</th>\n",
       "      <th>mouth_center_bottom_lip_y</th>\n",
       "    </tr>\n",
       "  </thead>\n",
       "  <tbody>\n",
       "    <tr>\n",
       "      <th>0</th>\n",
       "      <td>66.558517</td>\n",
       "      <td>37.255196</td>\n",
       "      <td>29.875824</td>\n",
       "      <td>35.211758</td>\n",
       "      <td>60.158611</td>\n",
       "      <td>37.553593</td>\n",
       "      <td>73.847061</td>\n",
       "      <td>38.386803</td>\n",
       "      <td>36.228981</td>\n",
       "      <td>36.452610</td>\n",
       "      <td>22.294905</td>\n",
       "      <td>36.199688</td>\n",
       "      <td>57.648018</td>\n",
       "      <td>27.919559</td>\n",
       "      <td>80.623734</td>\n",
       "      <td>30.336199</td>\n",
       "      <td>39.651619</td>\n",
       "      <td>26.909880</td>\n",
       "      <td>15.759230</td>\n",
       "      <td>27.556898</td>\n",
       "      <td>47.607109</td>\n",
       "      <td>51.067020</td>\n",
       "      <td>61.016495</td>\n",
       "      <td>76.621201</td>\n",
       "      <td>31.617290</td>\n",
       "      <td>75.070618</td>\n",
       "      <td>46.592396</td>\n",
       "      <td>70.108818</td>\n",
       "      <td>46.416008</td>\n",
       "      <td>82.417274</td>\n",
       "    </tr>\n",
       "    <tr>\n",
       "      <th>1</th>\n",
       "      <td>66.789330</td>\n",
       "      <td>36.810909</td>\n",
       "      <td>28.035309</td>\n",
       "      <td>37.985489</td>\n",
       "      <td>59.625420</td>\n",
       "      <td>37.522415</td>\n",
       "      <td>73.928436</td>\n",
       "      <td>37.182087</td>\n",
       "      <td>35.929352</td>\n",
       "      <td>38.344299</td>\n",
       "      <td>21.465803</td>\n",
       "      <td>38.825275</td>\n",
       "      <td>55.552124</td>\n",
       "      <td>29.257660</td>\n",
       "      <td>80.745392</td>\n",
       "      <td>29.478609</td>\n",
       "      <td>38.429798</td>\n",
       "      <td>29.928282</td>\n",
       "      <td>14.184013</td>\n",
       "      <td>31.964451</td>\n",
       "      <td>48.207180</td>\n",
       "      <td>60.218697</td>\n",
       "      <td>65.811935</td>\n",
       "      <td>75.355042</td>\n",
       "      <td>32.690689</td>\n",
       "      <td>76.857132</td>\n",
       "      <td>48.801266</td>\n",
       "      <td>72.824257</td>\n",
       "      <td>49.050613</td>\n",
       "      <td>85.431213</td>\n",
       "    </tr>\n",
       "    <tr>\n",
       "      <th>2</th>\n",
       "      <td>65.512779</td>\n",
       "      <td>36.628265</td>\n",
       "      <td>32.172932</td>\n",
       "      <td>37.563652</td>\n",
       "      <td>59.932323</td>\n",
       "      <td>37.650890</td>\n",
       "      <td>71.857086</td>\n",
       "      <td>37.267353</td>\n",
       "      <td>37.570095</td>\n",
       "      <td>37.960979</td>\n",
       "      <td>25.933249</td>\n",
       "      <td>38.202724</td>\n",
       "      <td>56.862122</td>\n",
       "      <td>29.486769</td>\n",
       "      <td>77.771927</td>\n",
       "      <td>29.569096</td>\n",
       "      <td>40.124519</td>\n",
       "      <td>29.920891</td>\n",
       "      <td>19.587008</td>\n",
       "      <td>30.862549</td>\n",
       "      <td>49.086937</td>\n",
       "      <td>57.782242</td>\n",
       "      <td>62.622643</td>\n",
       "      <td>74.913208</td>\n",
       "      <td>36.587563</td>\n",
       "      <td>75.436584</td>\n",
       "      <td>49.326275</td>\n",
       "      <td>70.920929</td>\n",
       "      <td>49.892120</td>\n",
       "      <td>83.264626</td>\n",
       "    </tr>\n",
       "    <tr>\n",
       "      <th>3</th>\n",
       "      <td>65.650139</td>\n",
       "      <td>39.841179</td>\n",
       "      <td>30.160387</td>\n",
       "      <td>40.806671</td>\n",
       "      <td>59.086998</td>\n",
       "      <td>39.209038</td>\n",
       "      <td>73.345703</td>\n",
       "      <td>38.975426</td>\n",
       "      <td>37.100140</td>\n",
       "      <td>40.056755</td>\n",
       "      <td>22.647612</td>\n",
       "      <td>40.702747</td>\n",
       "      <td>54.975155</td>\n",
       "      <td>30.919628</td>\n",
       "      <td>79.686081</td>\n",
       "      <td>31.508656</td>\n",
       "      <td>39.577816</td>\n",
       "      <td>31.673086</td>\n",
       "      <td>15.663693</td>\n",
       "      <td>33.979088</td>\n",
       "      <td>47.343445</td>\n",
       "      <td>56.650185</td>\n",
       "      <td>65.574318</td>\n",
       "      <td>76.171555</td>\n",
       "      <td>33.142426</td>\n",
       "      <td>77.690605</td>\n",
       "      <td>48.907692</td>\n",
       "      <td>73.431709</td>\n",
       "      <td>48.197250</td>\n",
       "      <td>81.776413</td>\n",
       "    </tr>\n",
       "    <tr>\n",
       "      <th>4</th>\n",
       "      <td>67.232895</td>\n",
       "      <td>37.624928</td>\n",
       "      <td>28.423809</td>\n",
       "      <td>38.309059</td>\n",
       "      <td>60.457840</td>\n",
       "      <td>37.746540</td>\n",
       "      <td>74.232803</td>\n",
       "      <td>38.007011</td>\n",
       "      <td>35.579460</td>\n",
       "      <td>38.084785</td>\n",
       "      <td>21.847780</td>\n",
       "      <td>38.862198</td>\n",
       "      <td>56.824402</td>\n",
       "      <td>28.065845</td>\n",
       "      <td>81.065445</td>\n",
       "      <td>29.650213</td>\n",
       "      <td>38.169014</td>\n",
       "      <td>28.394485</td>\n",
       "      <td>14.595020</td>\n",
       "      <td>31.079725</td>\n",
       "      <td>47.994881</td>\n",
       "      <td>54.769493</td>\n",
       "      <td>64.803131</td>\n",
       "      <td>75.897873</td>\n",
       "      <td>32.860474</td>\n",
       "      <td>76.659210</td>\n",
       "      <td>48.430893</td>\n",
       "      <td>70.265915</td>\n",
       "      <td>48.669006</td>\n",
       "      <td>85.782104</td>\n",
       "    </tr>\n",
       "  </tbody>\n",
       "</table>\n",
       "</div>\n",
       "      <button class=\"colab-df-convert\" onclick=\"convertToInteractive('df-29bb44eb-98c8-46de-a648-5d5927543d64')\"\n",
       "              title=\"Convert this dataframe to an interactive table.\"\n",
       "              style=\"display:none;\">\n",
       "        \n",
       "  <svg xmlns=\"http://www.w3.org/2000/svg\" height=\"24px\"viewBox=\"0 0 24 24\"\n",
       "       width=\"24px\">\n",
       "    <path d=\"M0 0h24v24H0V0z\" fill=\"none\"/>\n",
       "    <path d=\"M18.56 5.44l.94 2.06.94-2.06 2.06-.94-2.06-.94-.94-2.06-.94 2.06-2.06.94zm-11 1L8.5 8.5l.94-2.06 2.06-.94-2.06-.94L8.5 2.5l-.94 2.06-2.06.94zm10 10l.94 2.06.94-2.06 2.06-.94-2.06-.94-.94-2.06-.94 2.06-2.06.94z\"/><path d=\"M17.41 7.96l-1.37-1.37c-.4-.4-.92-.59-1.43-.59-.52 0-1.04.2-1.43.59L10.3 9.45l-7.72 7.72c-.78.78-.78 2.05 0 2.83L4 21.41c.39.39.9.59 1.41.59.51 0 1.02-.2 1.41-.59l7.78-7.78 2.81-2.81c.8-.78.8-2.07 0-2.86zM5.41 20L4 18.59l7.72-7.72 1.47 1.35L5.41 20z\"/>\n",
       "  </svg>\n",
       "      </button>\n",
       "      \n",
       "  <style>\n",
       "    .colab-df-container {\n",
       "      display:flex;\n",
       "      flex-wrap:wrap;\n",
       "      gap: 12px;\n",
       "    }\n",
       "\n",
       "    .colab-df-convert {\n",
       "      background-color: #E8F0FE;\n",
       "      border: none;\n",
       "      border-radius: 50%;\n",
       "      cursor: pointer;\n",
       "      display: none;\n",
       "      fill: #1967D2;\n",
       "      height: 32px;\n",
       "      padding: 0 0 0 0;\n",
       "      width: 32px;\n",
       "    }\n",
       "\n",
       "    .colab-df-convert:hover {\n",
       "      background-color: #E2EBFA;\n",
       "      box-shadow: 0px 1px 2px rgba(60, 64, 67, 0.3), 0px 1px 3px 1px rgba(60, 64, 67, 0.15);\n",
       "      fill: #174EA6;\n",
       "    }\n",
       "\n",
       "    [theme=dark] .colab-df-convert {\n",
       "      background-color: #3B4455;\n",
       "      fill: #D2E3FC;\n",
       "    }\n",
       "\n",
       "    [theme=dark] .colab-df-convert:hover {\n",
       "      background-color: #434B5C;\n",
       "      box-shadow: 0px 1px 3px 1px rgba(0, 0, 0, 0.15);\n",
       "      filter: drop-shadow(0px 1px 2px rgba(0, 0, 0, 0.3));\n",
       "      fill: #FFFFFF;\n",
       "    }\n",
       "  </style>\n",
       "\n",
       "      <script>\n",
       "        const buttonEl =\n",
       "          document.querySelector('#df-29bb44eb-98c8-46de-a648-5d5927543d64 button.colab-df-convert');\n",
       "        buttonEl.style.display =\n",
       "          google.colab.kernel.accessAllowed ? 'block' : 'none';\n",
       "\n",
       "        async function convertToInteractive(key) {\n",
       "          const element = document.querySelector('#df-29bb44eb-98c8-46de-a648-5d5927543d64');\n",
       "          const dataTable =\n",
       "            await google.colab.kernel.invokeFunction('convertToInteractive',\n",
       "                                                     [key], {});\n",
       "          if (!dataTable) return;\n",
       "\n",
       "          const docLinkHtml = 'Like what you see? Visit the ' +\n",
       "            '<a target=\"_blank\" href=https://colab.research.google.com/notebooks/data_table.ipynb>data table notebook</a>'\n",
       "            + ' to learn more about interactive tables.';\n",
       "          element.innerHTML = '';\n",
       "          dataTable['output_type'] = 'display_data';\n",
       "          await google.colab.output.renderOutput(dataTable, element);\n",
       "          const docLink = document.createElement('div');\n",
       "          docLink.innerHTML = docLinkHtml;\n",
       "          element.appendChild(docLink);\n",
       "        }\n",
       "      </script>\n",
       "    </div>\n",
       "  </div>\n",
       "  "
      ],
      "text/plain": [
       "   left_eye_center_x  left_eye_center_y  right_eye_center_x  \\\n",
       "0          66.558517          37.255196           29.875824   \n",
       "1          66.789330          36.810909           28.035309   \n",
       "2          65.512779          36.628265           32.172932   \n",
       "3          65.650139          39.841179           30.160387   \n",
       "4          67.232895          37.624928           28.423809   \n",
       "\n",
       "   right_eye_center_y  left_eye_inner_corner_x  left_eye_inner_corner_y  \\\n",
       "0           35.211758                60.158611                37.553593   \n",
       "1           37.985489                59.625420                37.522415   \n",
       "2           37.563652                59.932323                37.650890   \n",
       "3           40.806671                59.086998                39.209038   \n",
       "4           38.309059                60.457840                37.746540   \n",
       "\n",
       "   left_eye_outer_corner_x  left_eye_outer_corner_y  right_eye_inner_corner_x  \\\n",
       "0                73.847061                38.386803                 36.228981   \n",
       "1                73.928436                37.182087                 35.929352   \n",
       "2                71.857086                37.267353                 37.570095   \n",
       "3                73.345703                38.975426                 37.100140   \n",
       "4                74.232803                38.007011                 35.579460   \n",
       "\n",
       "   right_eye_inner_corner_y  right_eye_outer_corner_x  \\\n",
       "0                 36.452610                 22.294905   \n",
       "1                 38.344299                 21.465803   \n",
       "2                 37.960979                 25.933249   \n",
       "3                 40.056755                 22.647612   \n",
       "4                 38.084785                 21.847780   \n",
       "\n",
       "   right_eye_outer_corner_y  left_eyebrow_inner_end_x  \\\n",
       "0                 36.199688                 57.648018   \n",
       "1                 38.825275                 55.552124   \n",
       "2                 38.202724                 56.862122   \n",
       "3                 40.702747                 54.975155   \n",
       "4                 38.862198                 56.824402   \n",
       "\n",
       "   left_eyebrow_inner_end_y  left_eyebrow_outer_end_x  \\\n",
       "0                 27.919559                 80.623734   \n",
       "1                 29.257660                 80.745392   \n",
       "2                 29.486769                 77.771927   \n",
       "3                 30.919628                 79.686081   \n",
       "4                 28.065845                 81.065445   \n",
       "\n",
       "   left_eyebrow_outer_end_y  right_eyebrow_inner_end_x  \\\n",
       "0                 30.336199                  39.651619   \n",
       "1                 29.478609                  38.429798   \n",
       "2                 29.569096                  40.124519   \n",
       "3                 31.508656                  39.577816   \n",
       "4                 29.650213                  38.169014   \n",
       "\n",
       "   right_eyebrow_inner_end_y  right_eyebrow_outer_end_x  \\\n",
       "0                  26.909880                  15.759230   \n",
       "1                  29.928282                  14.184013   \n",
       "2                  29.920891                  19.587008   \n",
       "3                  31.673086                  15.663693   \n",
       "4                  28.394485                  14.595020   \n",
       "\n",
       "   right_eyebrow_outer_end_y  nose_tip_x  nose_tip_y  mouth_left_corner_x  \\\n",
       "0                  27.556898   47.607109   51.067020            61.016495   \n",
       "1                  31.964451   48.207180   60.218697            65.811935   \n",
       "2                  30.862549   49.086937   57.782242            62.622643   \n",
       "3                  33.979088   47.343445   56.650185            65.574318   \n",
       "4                  31.079725   47.994881   54.769493            64.803131   \n",
       "\n",
       "   mouth_left_corner_y  mouth_right_corner_x  mouth_right_corner_y  \\\n",
       "0            76.621201             31.617290             75.070618   \n",
       "1            75.355042             32.690689             76.857132   \n",
       "2            74.913208             36.587563             75.436584   \n",
       "3            76.171555             33.142426             77.690605   \n",
       "4            75.897873             32.860474             76.659210   \n",
       "\n",
       "   mouth_center_top_lip_x  mouth_center_top_lip_y  mouth_center_bottom_lip_x  \\\n",
       "0               46.592396               70.108818                  46.416008   \n",
       "1               48.801266               72.824257                  49.050613   \n",
       "2               49.326275               70.920929                  49.892120   \n",
       "3               48.907692               73.431709                  48.197250   \n",
       "4               48.430893               70.265915                  48.669006   \n",
       "\n",
       "   mouth_center_bottom_lip_y  \n",
       "0                  82.417274  \n",
       "1                  85.431213  \n",
       "2                  83.264626  \n",
       "3                  81.776413  \n",
       "4                  85.782104  "
      ]
     },
     "execution_count": 87,
     "metadata": {},
     "output_type": "execute_result"
    }
   ],
   "source": [
    "predictions_test.head()"
   ]
  },
  {
   "cell_type": "code",
   "execution_count": 88,
   "metadata": {
    "executionInfo": {
     "elapsed": 187,
     "status": "ok",
     "timestamp": 1640189760487,
     "user": {
      "displayName": "Mateo Forjan",
      "photoUrl": "https://lh3.googleusercontent.com/a/default-user=s64",
      "userId": "06372541481818120502"
     },
     "user_tz": -60
    },
    "id": "x47toqXENPv8"
   },
   "outputs": [],
   "source": [
    "predictions_test2 = predictions_test.clip(0,96)"
   ]
  },
  {
   "cell_type": "code",
   "execution_count": 89,
   "metadata": {
    "colab": {
     "base_uri": "https://localhost:8080/"
    },
    "executionInfo": {
     "elapsed": 196,
     "status": "ok",
     "timestamp": 1640189761639,
     "user": {
      "displayName": "Mateo Forjan",
      "photoUrl": "https://lh3.googleusercontent.com/a/default-user=s64",
      "userId": "06372541481818120502"
     },
     "user_tz": -60
    },
    "id": "buoQmQfn8cC3",
    "outputId": "cf97c4d3-28ce-48d4-b703-e541e0aa696e"
   },
   "outputs": [
    {
     "data": {
      "text/plain": [
       "(1783, 30)"
      ]
     },
     "execution_count": 89,
     "metadata": {},
     "output_type": "execute_result"
    }
   ],
   "source": [
    "predictions_test.shape"
   ]
  },
  {
   "cell_type": "code",
   "execution_count": 90,
   "metadata": {
    "colab": {
     "base_uri": "https://localhost:8080/"
    },
    "executionInfo": {
     "elapsed": 212,
     "status": "ok",
     "timestamp": 1640189762844,
     "user": {
      "displayName": "Mateo Forjan",
      "photoUrl": "https://lh3.googleusercontent.com/a/default-user=s64",
      "userId": "06372541481818120502"
     },
     "user_tz": -60
    },
    "id": "D1yC4DIPdwzA",
    "outputId": "29a438cf-c46f-4ccf-cf97-c2b8480ba42e"
   },
   "outputs": [
    {
     "data": {
      "text/plain": [
       "(30,)"
      ]
     },
     "execution_count": 90,
     "metadata": {},
     "output_type": "execute_result"
    }
   ],
   "source": [
    "predictions_test.columns.shape"
   ]
  },
  {
   "cell_type": "code",
   "execution_count": 91,
   "metadata": {
    "executionInfo": {
     "elapsed": 189,
     "status": "ok",
     "timestamp": 1640189764579,
     "user": {
      "displayName": "Mateo Forjan",
      "photoUrl": "https://lh3.googleusercontent.com/a/default-user=s64",
      "userId": "06372541481818120502"
     },
     "user_tz": -60
    },
    "id": "io0MiBJL9oyn"
   },
   "outputs": [],
   "source": [
    "sample = pd.read_csv('/content/gdrive/MyDrive/Kaggle/IdLookupTable.csv')"
   ]
  },
  {
   "cell_type": "code",
   "execution_count": 92,
   "metadata": {
    "executionInfo": {
     "elapsed": 5438,
     "status": "ok",
     "timestamp": 1640189775355,
     "user": {
      "displayName": "Mateo Forjan",
      "photoUrl": "https://lh3.googleusercontent.com/a/default-user=s64",
      "userId": "06372541481818120502"
     },
     "user_tz": -60
    },
    "id": "YiF19p2295wf"
   },
   "outputs": [],
   "source": [
    "for i in range(sample.shape[0]):\n",
    "    current_feature = sample['FeatureName'].loc[i]\n",
    "    current_image = sample['ImageId'].loc[i]-1\n",
    "    sample.at[i,'Location'] = predictions_test2[current_feature].loc[current_image]\n",
    "    # print(i)"
   ]
  },
  {
   "cell_type": "code",
   "execution_count": 93,
   "metadata": {
    "colab": {
     "base_uri": "https://localhost:8080/",
     "height": 206
    },
    "executionInfo": {
     "elapsed": 193,
     "status": "ok",
     "timestamp": 1640189779815,
     "user": {
      "displayName": "Mateo Forjan",
      "photoUrl": "https://lh3.googleusercontent.com/a/default-user=s64",
      "userId": "06372541481818120502"
     },
     "user_tz": -60
    },
    "id": "UkMIYzVLBIe9",
    "outputId": "f9b8afb4-2676-431e-9506-317eadb8eb2d"
   },
   "outputs": [
    {
     "data": {
      "text/html": [
       "\n",
       "  <div id=\"df-5edf6ed7-64e1-4a82-890d-451b6cc7ddf6\">\n",
       "    <div class=\"colab-df-container\">\n",
       "      <div>\n",
       "<style scoped>\n",
       "    .dataframe tbody tr th:only-of-type {\n",
       "        vertical-align: middle;\n",
       "    }\n",
       "\n",
       "    .dataframe tbody tr th {\n",
       "        vertical-align: top;\n",
       "    }\n",
       "\n",
       "    .dataframe thead th {\n",
       "        text-align: right;\n",
       "    }\n",
       "</style>\n",
       "<table border=\"1\" class=\"dataframe\">\n",
       "  <thead>\n",
       "    <tr style=\"text-align: right;\">\n",
       "      <th></th>\n",
       "      <th>RowId</th>\n",
       "      <th>ImageId</th>\n",
       "      <th>FeatureName</th>\n",
       "      <th>Location</th>\n",
       "    </tr>\n",
       "  </thead>\n",
       "  <tbody>\n",
       "    <tr>\n",
       "      <th>0</th>\n",
       "      <td>1</td>\n",
       "      <td>1</td>\n",
       "      <td>left_eye_center_x</td>\n",
       "      <td>66.558517</td>\n",
       "    </tr>\n",
       "    <tr>\n",
       "      <th>1</th>\n",
       "      <td>2</td>\n",
       "      <td>1</td>\n",
       "      <td>left_eye_center_y</td>\n",
       "      <td>37.255196</td>\n",
       "    </tr>\n",
       "    <tr>\n",
       "      <th>2</th>\n",
       "      <td>3</td>\n",
       "      <td>1</td>\n",
       "      <td>right_eye_center_x</td>\n",
       "      <td>29.875824</td>\n",
       "    </tr>\n",
       "    <tr>\n",
       "      <th>3</th>\n",
       "      <td>4</td>\n",
       "      <td>1</td>\n",
       "      <td>right_eye_center_y</td>\n",
       "      <td>35.211758</td>\n",
       "    </tr>\n",
       "    <tr>\n",
       "      <th>4</th>\n",
       "      <td>5</td>\n",
       "      <td>1</td>\n",
       "      <td>left_eye_inner_corner_x</td>\n",
       "      <td>60.158611</td>\n",
       "    </tr>\n",
       "  </tbody>\n",
       "</table>\n",
       "</div>\n",
       "      <button class=\"colab-df-convert\" onclick=\"convertToInteractive('df-5edf6ed7-64e1-4a82-890d-451b6cc7ddf6')\"\n",
       "              title=\"Convert this dataframe to an interactive table.\"\n",
       "              style=\"display:none;\">\n",
       "        \n",
       "  <svg xmlns=\"http://www.w3.org/2000/svg\" height=\"24px\"viewBox=\"0 0 24 24\"\n",
       "       width=\"24px\">\n",
       "    <path d=\"M0 0h24v24H0V0z\" fill=\"none\"/>\n",
       "    <path d=\"M18.56 5.44l.94 2.06.94-2.06 2.06-.94-2.06-.94-.94-2.06-.94 2.06-2.06.94zm-11 1L8.5 8.5l.94-2.06 2.06-.94-2.06-.94L8.5 2.5l-.94 2.06-2.06.94zm10 10l.94 2.06.94-2.06 2.06-.94-2.06-.94-.94-2.06-.94 2.06-2.06.94z\"/><path d=\"M17.41 7.96l-1.37-1.37c-.4-.4-.92-.59-1.43-.59-.52 0-1.04.2-1.43.59L10.3 9.45l-7.72 7.72c-.78.78-.78 2.05 0 2.83L4 21.41c.39.39.9.59 1.41.59.51 0 1.02-.2 1.41-.59l7.78-7.78 2.81-2.81c.8-.78.8-2.07 0-2.86zM5.41 20L4 18.59l7.72-7.72 1.47 1.35L5.41 20z\"/>\n",
       "  </svg>\n",
       "      </button>\n",
       "      \n",
       "  <style>\n",
       "    .colab-df-container {\n",
       "      display:flex;\n",
       "      flex-wrap:wrap;\n",
       "      gap: 12px;\n",
       "    }\n",
       "\n",
       "    .colab-df-convert {\n",
       "      background-color: #E8F0FE;\n",
       "      border: none;\n",
       "      border-radius: 50%;\n",
       "      cursor: pointer;\n",
       "      display: none;\n",
       "      fill: #1967D2;\n",
       "      height: 32px;\n",
       "      padding: 0 0 0 0;\n",
       "      width: 32px;\n",
       "    }\n",
       "\n",
       "    .colab-df-convert:hover {\n",
       "      background-color: #E2EBFA;\n",
       "      box-shadow: 0px 1px 2px rgba(60, 64, 67, 0.3), 0px 1px 3px 1px rgba(60, 64, 67, 0.15);\n",
       "      fill: #174EA6;\n",
       "    }\n",
       "\n",
       "    [theme=dark] .colab-df-convert {\n",
       "      background-color: #3B4455;\n",
       "      fill: #D2E3FC;\n",
       "    }\n",
       "\n",
       "    [theme=dark] .colab-df-convert:hover {\n",
       "      background-color: #434B5C;\n",
       "      box-shadow: 0px 1px 3px 1px rgba(0, 0, 0, 0.15);\n",
       "      filter: drop-shadow(0px 1px 2px rgba(0, 0, 0, 0.3));\n",
       "      fill: #FFFFFF;\n",
       "    }\n",
       "  </style>\n",
       "\n",
       "      <script>\n",
       "        const buttonEl =\n",
       "          document.querySelector('#df-5edf6ed7-64e1-4a82-890d-451b6cc7ddf6 button.colab-df-convert');\n",
       "        buttonEl.style.display =\n",
       "          google.colab.kernel.accessAllowed ? 'block' : 'none';\n",
       "\n",
       "        async function convertToInteractive(key) {\n",
       "          const element = document.querySelector('#df-5edf6ed7-64e1-4a82-890d-451b6cc7ddf6');\n",
       "          const dataTable =\n",
       "            await google.colab.kernel.invokeFunction('convertToInteractive',\n",
       "                                                     [key], {});\n",
       "          if (!dataTable) return;\n",
       "\n",
       "          const docLinkHtml = 'Like what you see? Visit the ' +\n",
       "            '<a target=\"_blank\" href=https://colab.research.google.com/notebooks/data_table.ipynb>data table notebook</a>'\n",
       "            + ' to learn more about interactive tables.';\n",
       "          element.innerHTML = '';\n",
       "          dataTable['output_type'] = 'display_data';\n",
       "          await google.colab.output.renderOutput(dataTable, element);\n",
       "          const docLink = document.createElement('div');\n",
       "          docLink.innerHTML = docLinkHtml;\n",
       "          element.appendChild(docLink);\n",
       "        }\n",
       "      </script>\n",
       "    </div>\n",
       "  </div>\n",
       "  "
      ],
      "text/plain": [
       "   RowId  ImageId              FeatureName   Location\n",
       "0      1        1        left_eye_center_x  66.558517\n",
       "1      2        1        left_eye_center_y  37.255196\n",
       "2      3        1       right_eye_center_x  29.875824\n",
       "3      4        1       right_eye_center_y  35.211758\n",
       "4      5        1  left_eye_inner_corner_x  60.158611"
      ]
     },
     "execution_count": 93,
     "metadata": {},
     "output_type": "execute_result"
    }
   ],
   "source": [
    "sample.head()"
   ]
  },
  {
   "cell_type": "code",
   "execution_count": 94,
   "metadata": {
    "executionInfo": {
     "elapsed": 183,
     "status": "ok",
     "timestamp": 1640189781647,
     "user": {
      "displayName": "Mateo Forjan",
      "photoUrl": "https://lh3.googleusercontent.com/a/default-user=s64",
      "userId": "06372541481818120502"
     },
     "user_tz": -60
    },
    "id": "QMJu_RywB_Zl"
   },
   "outputs": [],
   "source": [
    "sample2 = sample.drop(columns=['ImageId','FeatureName'])"
   ]
  },
  {
   "cell_type": "code",
   "execution_count": 95,
   "metadata": {
    "colab": {
     "base_uri": "https://localhost:8080/",
     "height": 206
    },
    "executionInfo": {
     "elapsed": 3,
     "status": "ok",
     "timestamp": 1640189783745,
     "user": {
      "displayName": "Mateo Forjan",
      "photoUrl": "https://lh3.googleusercontent.com/a/default-user=s64",
      "userId": "06372541481818120502"
     },
     "user_tz": -60
    },
    "id": "-9gS1bb9CG7v",
    "outputId": "cdd020f8-ffe8-4028-b091-4dd70b247988"
   },
   "outputs": [
    {
     "data": {
      "text/html": [
       "\n",
       "  <div id=\"df-2baa4ee3-1816-4ecc-b77a-87acb3bf1b0d\">\n",
       "    <div class=\"colab-df-container\">\n",
       "      <div>\n",
       "<style scoped>\n",
       "    .dataframe tbody tr th:only-of-type {\n",
       "        vertical-align: middle;\n",
       "    }\n",
       "\n",
       "    .dataframe tbody tr th {\n",
       "        vertical-align: top;\n",
       "    }\n",
       "\n",
       "    .dataframe thead th {\n",
       "        text-align: right;\n",
       "    }\n",
       "</style>\n",
       "<table border=\"1\" class=\"dataframe\">\n",
       "  <thead>\n",
       "    <tr style=\"text-align: right;\">\n",
       "      <th></th>\n",
       "      <th>RowId</th>\n",
       "      <th>Location</th>\n",
       "    </tr>\n",
       "  </thead>\n",
       "  <tbody>\n",
       "    <tr>\n",
       "      <th>0</th>\n",
       "      <td>1</td>\n",
       "      <td>66.558517</td>\n",
       "    </tr>\n",
       "    <tr>\n",
       "      <th>1</th>\n",
       "      <td>2</td>\n",
       "      <td>37.255196</td>\n",
       "    </tr>\n",
       "    <tr>\n",
       "      <th>2</th>\n",
       "      <td>3</td>\n",
       "      <td>29.875824</td>\n",
       "    </tr>\n",
       "    <tr>\n",
       "      <th>3</th>\n",
       "      <td>4</td>\n",
       "      <td>35.211758</td>\n",
       "    </tr>\n",
       "    <tr>\n",
       "      <th>4</th>\n",
       "      <td>5</td>\n",
       "      <td>60.158611</td>\n",
       "    </tr>\n",
       "  </tbody>\n",
       "</table>\n",
       "</div>\n",
       "      <button class=\"colab-df-convert\" onclick=\"convertToInteractive('df-2baa4ee3-1816-4ecc-b77a-87acb3bf1b0d')\"\n",
       "              title=\"Convert this dataframe to an interactive table.\"\n",
       "              style=\"display:none;\">\n",
       "        \n",
       "  <svg xmlns=\"http://www.w3.org/2000/svg\" height=\"24px\"viewBox=\"0 0 24 24\"\n",
       "       width=\"24px\">\n",
       "    <path d=\"M0 0h24v24H0V0z\" fill=\"none\"/>\n",
       "    <path d=\"M18.56 5.44l.94 2.06.94-2.06 2.06-.94-2.06-.94-.94-2.06-.94 2.06-2.06.94zm-11 1L8.5 8.5l.94-2.06 2.06-.94-2.06-.94L8.5 2.5l-.94 2.06-2.06.94zm10 10l.94 2.06.94-2.06 2.06-.94-2.06-.94-.94-2.06-.94 2.06-2.06.94z\"/><path d=\"M17.41 7.96l-1.37-1.37c-.4-.4-.92-.59-1.43-.59-.52 0-1.04.2-1.43.59L10.3 9.45l-7.72 7.72c-.78.78-.78 2.05 0 2.83L4 21.41c.39.39.9.59 1.41.59.51 0 1.02-.2 1.41-.59l7.78-7.78 2.81-2.81c.8-.78.8-2.07 0-2.86zM5.41 20L4 18.59l7.72-7.72 1.47 1.35L5.41 20z\"/>\n",
       "  </svg>\n",
       "      </button>\n",
       "      \n",
       "  <style>\n",
       "    .colab-df-container {\n",
       "      display:flex;\n",
       "      flex-wrap:wrap;\n",
       "      gap: 12px;\n",
       "    }\n",
       "\n",
       "    .colab-df-convert {\n",
       "      background-color: #E8F0FE;\n",
       "      border: none;\n",
       "      border-radius: 50%;\n",
       "      cursor: pointer;\n",
       "      display: none;\n",
       "      fill: #1967D2;\n",
       "      height: 32px;\n",
       "      padding: 0 0 0 0;\n",
       "      width: 32px;\n",
       "    }\n",
       "\n",
       "    .colab-df-convert:hover {\n",
       "      background-color: #E2EBFA;\n",
       "      box-shadow: 0px 1px 2px rgba(60, 64, 67, 0.3), 0px 1px 3px 1px rgba(60, 64, 67, 0.15);\n",
       "      fill: #174EA6;\n",
       "    }\n",
       "\n",
       "    [theme=dark] .colab-df-convert {\n",
       "      background-color: #3B4455;\n",
       "      fill: #D2E3FC;\n",
       "    }\n",
       "\n",
       "    [theme=dark] .colab-df-convert:hover {\n",
       "      background-color: #434B5C;\n",
       "      box-shadow: 0px 1px 3px 1px rgba(0, 0, 0, 0.15);\n",
       "      filter: drop-shadow(0px 1px 2px rgba(0, 0, 0, 0.3));\n",
       "      fill: #FFFFFF;\n",
       "    }\n",
       "  </style>\n",
       "\n",
       "      <script>\n",
       "        const buttonEl =\n",
       "          document.querySelector('#df-2baa4ee3-1816-4ecc-b77a-87acb3bf1b0d button.colab-df-convert');\n",
       "        buttonEl.style.display =\n",
       "          google.colab.kernel.accessAllowed ? 'block' : 'none';\n",
       "\n",
       "        async function convertToInteractive(key) {\n",
       "          const element = document.querySelector('#df-2baa4ee3-1816-4ecc-b77a-87acb3bf1b0d');\n",
       "          const dataTable =\n",
       "            await google.colab.kernel.invokeFunction('convertToInteractive',\n",
       "                                                     [key], {});\n",
       "          if (!dataTable) return;\n",
       "\n",
       "          const docLinkHtml = 'Like what you see? Visit the ' +\n",
       "            '<a target=\"_blank\" href=https://colab.research.google.com/notebooks/data_table.ipynb>data table notebook</a>'\n",
       "            + ' to learn more about interactive tables.';\n",
       "          element.innerHTML = '';\n",
       "          dataTable['output_type'] = 'display_data';\n",
       "          await google.colab.output.renderOutput(dataTable, element);\n",
       "          const docLink = document.createElement('div');\n",
       "          docLink.innerHTML = docLinkHtml;\n",
       "          element.appendChild(docLink);\n",
       "        }\n",
       "      </script>\n",
       "    </div>\n",
       "  </div>\n",
       "  "
      ],
      "text/plain": [
       "   RowId   Location\n",
       "0      1  66.558517\n",
       "1      2  37.255196\n",
       "2      3  29.875824\n",
       "3      4  35.211758\n",
       "4      5  60.158611"
      ]
     },
     "execution_count": 95,
     "metadata": {},
     "output_type": "execute_result"
    }
   ],
   "source": [
    "sample2.head()"
   ]
  },
  {
   "cell_type": "code",
   "execution_count": 96,
   "metadata": {
    "executionInfo": {
     "elapsed": 536,
     "status": "ok",
     "timestamp": 1640189811060,
     "user": {
      "displayName": "Mateo Forjan",
      "photoUrl": "https://lh3.googleusercontent.com/a/default-user=s64",
      "userId": "06372541481818120502"
     },
     "user_tz": -60
    },
    "id": "IK3GhL6qBbLe"
   },
   "outputs": [],
   "source": [
    "sample.to_csv('/content/gdrive/MyDrive/Kaggle/Submission_full_interfered_n_b_FINAL.csv',index=False)\n",
    "sample2.to_csv('/content/gdrive/MyDrive/Kaggle/Submission_short_interfered_n_b_FINAL.csv',index=False)"
   ]
  },
  {
   "cell_type": "code",
   "execution_count": null,
   "metadata": {},
   "outputs": [],
   "source": [
    "from keras.utils.vis_utils import plot_model"
   ]
  },
  {
   "cell_type": "code",
   "execution_count": null,
   "metadata": {
    "id": "ufwy2xiFBcdu"
   },
   "outputs": [],
   "source": [
    "# Let's plot our neural network to see how data is passed through\n",
    "plot_model(model, show_shapes=True, show_layer_names=False)"
   ]
  }
 ],
 "metadata": {
  "accelerator": "GPU",
  "colab": {
   "collapsed_sections": [],
   "name": "Facial_keypoints.ipynb",
   "provenance": []
  },
  "kernelspec": {
   "display_name": "Python 3",
   "language": "python",
   "name": "python3"
  },
  "language_info": {
   "codemirror_mode": {
    "name": "ipython",
    "version": 3
   },
   "file_extension": ".py",
   "mimetype": "text/x-python",
   "name": "python",
   "nbconvert_exporter": "python",
   "pygments_lexer": "ipython3",
   "version": "3.6.6"
  }
 },
 "nbformat": 4,
 "nbformat_minor": 4
}
